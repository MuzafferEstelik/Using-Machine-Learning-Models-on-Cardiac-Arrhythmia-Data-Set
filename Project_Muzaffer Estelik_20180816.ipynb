{
 "cells": [
  {
   "cell_type": "code",
   "execution_count": 1,
   "metadata": {},
   "outputs": [],
   "source": [
    "import pandas as pd\n",
    "import numpy as np\n",
    "import matplotlib.pyplot as plt\n",
    "%matplotlib inline\n",
    "import seaborn as sns\n",
    "sns.set()\n",
    "import warnings\n",
    "warnings.filterwarnings('ignore')\n",
    "from sklearn.metrics import recall_score\n",
    "from sklearn.model_selection import StratifiedKFold\n",
    "kFold = StratifiedKFold(n_splits=5)\n",
    "from sklearn import metrics"
   ]
  },
  {
   "cell_type": "code",
   "execution_count": 2,
   "metadata": {},
   "outputs": [
    {
     "data": {
      "text/html": [
       "<div>\n",
       "<style scoped>\n",
       "    .dataframe tbody tr th:only-of-type {\n",
       "        vertical-align: middle;\n",
       "    }\n",
       "\n",
       "    .dataframe tbody tr th {\n",
       "        vertical-align: top;\n",
       "    }\n",
       "\n",
       "    .dataframe thead th {\n",
       "        text-align: right;\n",
       "    }\n",
       "</style>\n",
       "<table border=\"1\" class=\"dataframe\">\n",
       "  <thead>\n",
       "    <tr style=\"text-align: right;\">\n",
       "      <th></th>\n",
       "      <th>0</th>\n",
       "      <th>1</th>\n",
       "      <th>2</th>\n",
       "      <th>3</th>\n",
       "      <th>4</th>\n",
       "      <th>5</th>\n",
       "      <th>6</th>\n",
       "      <th>7</th>\n",
       "      <th>8</th>\n",
       "      <th>9</th>\n",
       "      <th>...</th>\n",
       "      <th>270</th>\n",
       "      <th>271</th>\n",
       "      <th>272</th>\n",
       "      <th>273</th>\n",
       "      <th>274</th>\n",
       "      <th>275</th>\n",
       "      <th>276</th>\n",
       "      <th>277</th>\n",
       "      <th>278</th>\n",
       "      <th>279</th>\n",
       "    </tr>\n",
       "  </thead>\n",
       "  <tbody>\n",
       "    <tr>\n",
       "      <th>0</th>\n",
       "      <td>75</td>\n",
       "      <td>0</td>\n",
       "      <td>190</td>\n",
       "      <td>80</td>\n",
       "      <td>91</td>\n",
       "      <td>193</td>\n",
       "      <td>371</td>\n",
       "      <td>174</td>\n",
       "      <td>121</td>\n",
       "      <td>-16</td>\n",
       "      <td>...</td>\n",
       "      <td>0.0</td>\n",
       "      <td>9.0</td>\n",
       "      <td>-0.9</td>\n",
       "      <td>0.0</td>\n",
       "      <td>0.0</td>\n",
       "      <td>0.9</td>\n",
       "      <td>2.9</td>\n",
       "      <td>23.3</td>\n",
       "      <td>49.4</td>\n",
       "      <td>8</td>\n",
       "    </tr>\n",
       "    <tr>\n",
       "      <th>1</th>\n",
       "      <td>56</td>\n",
       "      <td>1</td>\n",
       "      <td>165</td>\n",
       "      <td>64</td>\n",
       "      <td>81</td>\n",
       "      <td>174</td>\n",
       "      <td>401</td>\n",
       "      <td>149</td>\n",
       "      <td>39</td>\n",
       "      <td>25</td>\n",
       "      <td>...</td>\n",
       "      <td>0.0</td>\n",
       "      <td>8.5</td>\n",
       "      <td>0.0</td>\n",
       "      <td>0.0</td>\n",
       "      <td>0.0</td>\n",
       "      <td>0.2</td>\n",
       "      <td>2.1</td>\n",
       "      <td>20.4</td>\n",
       "      <td>38.8</td>\n",
       "      <td>6</td>\n",
       "    </tr>\n",
       "    <tr>\n",
       "      <th>2</th>\n",
       "      <td>54</td>\n",
       "      <td>0</td>\n",
       "      <td>172</td>\n",
       "      <td>95</td>\n",
       "      <td>138</td>\n",
       "      <td>163</td>\n",
       "      <td>386</td>\n",
       "      <td>185</td>\n",
       "      <td>102</td>\n",
       "      <td>96</td>\n",
       "      <td>...</td>\n",
       "      <td>0.0</td>\n",
       "      <td>9.5</td>\n",
       "      <td>-2.4</td>\n",
       "      <td>0.0</td>\n",
       "      <td>0.0</td>\n",
       "      <td>0.3</td>\n",
       "      <td>3.4</td>\n",
       "      <td>12.3</td>\n",
       "      <td>49.0</td>\n",
       "      <td>10</td>\n",
       "    </tr>\n",
       "    <tr>\n",
       "      <th>3</th>\n",
       "      <td>55</td>\n",
       "      <td>0</td>\n",
       "      <td>175</td>\n",
       "      <td>94</td>\n",
       "      <td>100</td>\n",
       "      <td>202</td>\n",
       "      <td>380</td>\n",
       "      <td>179</td>\n",
       "      <td>143</td>\n",
       "      <td>28</td>\n",
       "      <td>...</td>\n",
       "      <td>0.0</td>\n",
       "      <td>12.2</td>\n",
       "      <td>-2.2</td>\n",
       "      <td>0.0</td>\n",
       "      <td>0.0</td>\n",
       "      <td>0.4</td>\n",
       "      <td>2.6</td>\n",
       "      <td>34.6</td>\n",
       "      <td>61.6</td>\n",
       "      <td>1</td>\n",
       "    </tr>\n",
       "    <tr>\n",
       "      <th>4</th>\n",
       "      <td>75</td>\n",
       "      <td>0</td>\n",
       "      <td>190</td>\n",
       "      <td>80</td>\n",
       "      <td>88</td>\n",
       "      <td>181</td>\n",
       "      <td>360</td>\n",
       "      <td>177</td>\n",
       "      <td>103</td>\n",
       "      <td>-16</td>\n",
       "      <td>...</td>\n",
       "      <td>0.0</td>\n",
       "      <td>13.1</td>\n",
       "      <td>-3.6</td>\n",
       "      <td>0.0</td>\n",
       "      <td>0.0</td>\n",
       "      <td>-0.1</td>\n",
       "      <td>3.9</td>\n",
       "      <td>25.4</td>\n",
       "      <td>62.8</td>\n",
       "      <td>7</td>\n",
       "    </tr>\n",
       "  </tbody>\n",
       "</table>\n",
       "<p>5 rows × 280 columns</p>\n",
       "</div>"
      ],
      "text/plain": [
       "   0    1    2    3    4    5    6    7    8    9   ...   270   271  272  273  \\\n",
       "0   75    0  190   80   91  193  371  174  121  -16 ...   0.0   9.0 -0.9  0.0   \n",
       "1   56    1  165   64   81  174  401  149   39   25 ...   0.0   8.5  0.0  0.0   \n",
       "2   54    0  172   95  138  163  386  185  102   96 ...   0.0   9.5 -2.4  0.0   \n",
       "3   55    0  175   94  100  202  380  179  143   28 ...   0.0  12.2 -2.2  0.0   \n",
       "4   75    0  190   80   88  181  360  177  103  -16 ...   0.0  13.1 -3.6  0.0   \n",
       "\n",
       "   274  275  276   277   278  279  \n",
       "0  0.0  0.9  2.9  23.3  49.4    8  \n",
       "1  0.0  0.2  2.1  20.4  38.8    6  \n",
       "2  0.0  0.3  3.4  12.3  49.0   10  \n",
       "3  0.0  0.4  2.6  34.6  61.6    1  \n",
       "4  0.0 -0.1  3.9  25.4  62.8    7  \n",
       "\n",
       "[5 rows x 280 columns]"
      ]
     },
     "execution_count": 2,
     "metadata": {},
     "output_type": "execute_result"
    }
   ],
   "source": [
    "data = pd.read_csv('arrhythmia.csv',header=None)\n",
    "data.head()"
   ]
  },
  {
   "cell_type": "code",
   "execution_count": 3,
   "metadata": {},
   "outputs": [
    {
     "data": {
      "text/html": [
       "<div>\n",
       "<style scoped>\n",
       "    .dataframe tbody tr th:only-of-type {\n",
       "        vertical-align: middle;\n",
       "    }\n",
       "\n",
       "    .dataframe tbody tr th {\n",
       "        vertical-align: top;\n",
       "    }\n",
       "\n",
       "    .dataframe thead th {\n",
       "        text-align: right;\n",
       "    }\n",
       "</style>\n",
       "<table border=\"1\" class=\"dataframe\">\n",
       "  <thead>\n",
       "    <tr style=\"text-align: right;\">\n",
       "      <th></th>\n",
       "      <th>0</th>\n",
       "      <th>1</th>\n",
       "      <th>2</th>\n",
       "      <th>3</th>\n",
       "      <th>4</th>\n",
       "      <th>5</th>\n",
       "      <th>6</th>\n",
       "      <th>7</th>\n",
       "      <th>8</th>\n",
       "      <th>9</th>\n",
       "      <th>...</th>\n",
       "      <th>270</th>\n",
       "      <th>271</th>\n",
       "      <th>272</th>\n",
       "      <th>273</th>\n",
       "      <th>274</th>\n",
       "      <th>275</th>\n",
       "      <th>276</th>\n",
       "      <th>277</th>\n",
       "      <th>278</th>\n",
       "      <th>279</th>\n",
       "    </tr>\n",
       "  </thead>\n",
       "  <tbody>\n",
       "    <tr>\n",
       "      <th>447</th>\n",
       "      <td>53</td>\n",
       "      <td>1</td>\n",
       "      <td>160</td>\n",
       "      <td>70</td>\n",
       "      <td>80</td>\n",
       "      <td>199</td>\n",
       "      <td>382</td>\n",
       "      <td>154</td>\n",
       "      <td>117</td>\n",
       "      <td>-37</td>\n",
       "      <td>...</td>\n",
       "      <td>0.0</td>\n",
       "      <td>4.3</td>\n",
       "      <td>-5.0</td>\n",
       "      <td>0.0</td>\n",
       "      <td>0.0</td>\n",
       "      <td>0.7</td>\n",
       "      <td>0.6</td>\n",
       "      <td>-4.4</td>\n",
       "      <td>-0.5</td>\n",
       "      <td>1</td>\n",
       "    </tr>\n",
       "    <tr>\n",
       "      <th>448</th>\n",
       "      <td>37</td>\n",
       "      <td>0</td>\n",
       "      <td>190</td>\n",
       "      <td>85</td>\n",
       "      <td>100</td>\n",
       "      <td>137</td>\n",
       "      <td>361</td>\n",
       "      <td>201</td>\n",
       "      <td>73</td>\n",
       "      <td>86</td>\n",
       "      <td>...</td>\n",
       "      <td>0.0</td>\n",
       "      <td>15.6</td>\n",
       "      <td>-1.6</td>\n",
       "      <td>0.0</td>\n",
       "      <td>0.0</td>\n",
       "      <td>0.4</td>\n",
       "      <td>2.4</td>\n",
       "      <td>38.0</td>\n",
       "      <td>62.4</td>\n",
       "      <td>10</td>\n",
       "    </tr>\n",
       "    <tr>\n",
       "      <th>449</th>\n",
       "      <td>36</td>\n",
       "      <td>0</td>\n",
       "      <td>166</td>\n",
       "      <td>68</td>\n",
       "      <td>108</td>\n",
       "      <td>176</td>\n",
       "      <td>365</td>\n",
       "      <td>194</td>\n",
       "      <td>116</td>\n",
       "      <td>-85</td>\n",
       "      <td>...</td>\n",
       "      <td>0.0</td>\n",
       "      <td>16.3</td>\n",
       "      <td>-28.6</td>\n",
       "      <td>0.0</td>\n",
       "      <td>0.0</td>\n",
       "      <td>1.5</td>\n",
       "      <td>1.0</td>\n",
       "      <td>-44.2</td>\n",
       "      <td>-33.2</td>\n",
       "      <td>2</td>\n",
       "    </tr>\n",
       "    <tr>\n",
       "      <th>450</th>\n",
       "      <td>32</td>\n",
       "      <td>1</td>\n",
       "      <td>155</td>\n",
       "      <td>55</td>\n",
       "      <td>93</td>\n",
       "      <td>106</td>\n",
       "      <td>386</td>\n",
       "      <td>218</td>\n",
       "      <td>63</td>\n",
       "      <td>54</td>\n",
       "      <td>...</td>\n",
       "      <td>-0.4</td>\n",
       "      <td>12.0</td>\n",
       "      <td>-0.7</td>\n",
       "      <td>0.0</td>\n",
       "      <td>0.0</td>\n",
       "      <td>0.5</td>\n",
       "      <td>2.4</td>\n",
       "      <td>25.0</td>\n",
       "      <td>46.6</td>\n",
       "      <td>1</td>\n",
       "    </tr>\n",
       "    <tr>\n",
       "      <th>451</th>\n",
       "      <td>78</td>\n",
       "      <td>1</td>\n",
       "      <td>160</td>\n",
       "      <td>70</td>\n",
       "      <td>79</td>\n",
       "      <td>127</td>\n",
       "      <td>364</td>\n",
       "      <td>138</td>\n",
       "      <td>78</td>\n",
       "      <td>28</td>\n",
       "      <td>...</td>\n",
       "      <td>0.0</td>\n",
       "      <td>10.4</td>\n",
       "      <td>-1.8</td>\n",
       "      <td>0.0</td>\n",
       "      <td>0.0</td>\n",
       "      <td>0.5</td>\n",
       "      <td>1.6</td>\n",
       "      <td>21.3</td>\n",
       "      <td>32.8</td>\n",
       "      <td>1</td>\n",
       "    </tr>\n",
       "  </tbody>\n",
       "</table>\n",
       "<p>5 rows × 280 columns</p>\n",
       "</div>"
      ],
      "text/plain": [
       "     0    1    2    3    4    5    6    7    8    9   ...   270   271   272  \\\n",
       "447   53    1  160   70   80  199  382  154  117  -37 ...   0.0   4.3  -5.0   \n",
       "448   37    0  190   85  100  137  361  201   73   86 ...   0.0  15.6  -1.6   \n",
       "449   36    0  166   68  108  176  365  194  116  -85 ...   0.0  16.3 -28.6   \n",
       "450   32    1  155   55   93  106  386  218   63   54 ...  -0.4  12.0  -0.7   \n",
       "451   78    1  160   70   79  127  364  138   78   28 ...   0.0  10.4  -1.8   \n",
       "\n",
       "     273  274  275  276   277   278  279  \n",
       "447  0.0  0.0  0.7  0.6  -4.4  -0.5    1  \n",
       "448  0.0  0.0  0.4  2.4  38.0  62.4   10  \n",
       "449  0.0  0.0  1.5  1.0 -44.2 -33.2    2  \n",
       "450  0.0  0.0  0.5  2.4  25.0  46.6    1  \n",
       "451  0.0  0.0  0.5  1.6  21.3  32.8    1  \n",
       "\n",
       "[5 rows x 280 columns]"
      ]
     },
     "execution_count": 3,
     "metadata": {},
     "output_type": "execute_result"
    }
   ],
   "source": [
    "data.tail()"
   ]
  },
  {
   "cell_type": "code",
   "execution_count": 4,
   "metadata": {},
   "outputs": [
    {
     "data": {
      "text/plain": [
       "(452, 280)"
      ]
     },
     "execution_count": 4,
     "metadata": {},
     "output_type": "execute_result"
    }
   ],
   "source": [
    "data.shape"
   ]
  },
  {
   "cell_type": "code",
   "execution_count": 5,
   "metadata": {},
   "outputs": [
    {
     "name": "stdout",
     "output_type": "stream",
     "text": [
      "<class 'pandas.core.frame.DataFrame'>\n",
      "RangeIndex: 452 entries, 0 to 451\n",
      "Columns: 280 entries, 0 to 279\n",
      "dtypes: float64(120), int64(155), object(5)\n",
      "memory usage: 988.8+ KB\n"
     ]
    }
   ],
   "source": [
    "data.info()"
   ]
  },
  {
   "cell_type": "code",
   "execution_count": 6,
   "metadata": {},
   "outputs": [
    {
     "data": {
      "text/html": [
       "<div>\n",
       "<style scoped>\n",
       "    .dataframe tbody tr th:only-of-type {\n",
       "        vertical-align: middle;\n",
       "    }\n",
       "\n",
       "    .dataframe tbody tr th {\n",
       "        vertical-align: top;\n",
       "    }\n",
       "\n",
       "    .dataframe thead th {\n",
       "        text-align: right;\n",
       "    }\n",
       "</style>\n",
       "<table border=\"1\" class=\"dataframe\">\n",
       "  <thead>\n",
       "    <tr style=\"text-align: right;\">\n",
       "      <th></th>\n",
       "      <th>count</th>\n",
       "      <th>mean</th>\n",
       "      <th>std</th>\n",
       "      <th>min</th>\n",
       "      <th>25%</th>\n",
       "      <th>50%</th>\n",
       "      <th>75%</th>\n",
       "      <th>max</th>\n",
       "    </tr>\n",
       "  </thead>\n",
       "  <tbody>\n",
       "    <tr>\n",
       "      <th>0</th>\n",
       "      <td>452.0</td>\n",
       "      <td>46.471239</td>\n",
       "      <td>16.466631</td>\n",
       "      <td>0.0</td>\n",
       "      <td>36.0</td>\n",
       "      <td>47.0</td>\n",
       "      <td>58.0</td>\n",
       "      <td>83.0</td>\n",
       "    </tr>\n",
       "    <tr>\n",
       "      <th>1</th>\n",
       "      <td>452.0</td>\n",
       "      <td>0.550885</td>\n",
       "      <td>0.497955</td>\n",
       "      <td>0.0</td>\n",
       "      <td>0.0</td>\n",
       "      <td>1.0</td>\n",
       "      <td>1.0</td>\n",
       "      <td>1.0</td>\n",
       "    </tr>\n",
       "    <tr>\n",
       "      <th>2</th>\n",
       "      <td>452.0</td>\n",
       "      <td>166.188053</td>\n",
       "      <td>37.170340</td>\n",
       "      <td>105.0</td>\n",
       "      <td>160.0</td>\n",
       "      <td>164.0</td>\n",
       "      <td>170.0</td>\n",
       "      <td>780.0</td>\n",
       "    </tr>\n",
       "    <tr>\n",
       "      <th>3</th>\n",
       "      <td>452.0</td>\n",
       "      <td>68.170354</td>\n",
       "      <td>16.590803</td>\n",
       "      <td>6.0</td>\n",
       "      <td>59.0</td>\n",
       "      <td>68.0</td>\n",
       "      <td>79.0</td>\n",
       "      <td>176.0</td>\n",
       "    </tr>\n",
       "    <tr>\n",
       "      <th>4</th>\n",
       "      <td>452.0</td>\n",
       "      <td>88.920354</td>\n",
       "      <td>15.364394</td>\n",
       "      <td>55.0</td>\n",
       "      <td>80.0</td>\n",
       "      <td>86.0</td>\n",
       "      <td>94.0</td>\n",
       "      <td>188.0</td>\n",
       "    </tr>\n",
       "  </tbody>\n",
       "</table>\n",
       "</div>"
      ],
      "text/plain": [
       "   count        mean        std    min    25%    50%    75%    max\n",
       "0  452.0   46.471239  16.466631    0.0   36.0   47.0   58.0   83.0\n",
       "1  452.0    0.550885   0.497955    0.0    0.0    1.0    1.0    1.0\n",
       "2  452.0  166.188053  37.170340  105.0  160.0  164.0  170.0  780.0\n",
       "3  452.0   68.170354  16.590803    6.0   59.0   68.0   79.0  176.0\n",
       "4  452.0   88.920354  15.364394   55.0   80.0   86.0   94.0  188.0"
      ]
     },
     "execution_count": 6,
     "metadata": {},
     "output_type": "execute_result"
    }
   ],
   "source": [
    "data.describe().transpose().head()"
   ]
  },
  {
   "cell_type": "code",
   "execution_count": 7,
   "metadata": {},
   "outputs": [
    {
     "name": "stdout",
     "output_type": "stream",
     "text": [
      "408\n"
     ]
    }
   ],
   "source": [
    "#Let's see how many missing data we have and replace them with NaN's:\n",
    "count=0\n",
    "for i in range(0,452):\n",
    "    for j in range(0,280):\n",
    "        if (data.iloc[i,j]=='?'):\n",
    "            count =count+1\n",
    "print(count)\n",
    "data = data.replace('?', np.NaN)"
   ]
  },
  {
   "cell_type": "code",
   "execution_count": 8,
   "metadata": {},
   "outputs": [
    {
     "data": {
      "text/plain": [
       "Text(0,0.5,'Count of NaN')"
      ]
     },
     "execution_count": 8,
     "metadata": {},
     "output_type": "execute_result"
    },
    {
     "data": {
      "image/png": "[encoded data removed]",
      "text/plain": [
       "<matplotlib.figure.Figure at 0x7f90726efdd8>"
      ]
     },
     "metadata": {},
     "output_type": "display_data"
    }
   ],
   "source": [
    "#Now let's see the distribution of our missing data: \n",
    "pd.isnull(data).sum().plot()\n",
    "plt.xlabel('Attributes')\n",
    "plt.ylabel('Count of NaN')"
   ]
  },
  {
   "cell_type": "code",
   "execution_count": 9,
   "metadata": {},
   "outputs": [
    {
     "data": {
      "text/plain": [
       "Text(0,0.5,'Count of NaN')"
      ]
     },
     "execution_count": 9,
     "metadata": {},
     "output_type": "execute_result"
    },
    {
     "data": {
      "image/png": "[encoded data removed]",
      "text/plain": [
       "<matplotlib.figure.Figure at 0x7f90727ad748>"
      ]
     },
     "metadata": {},
     "output_type": "display_data"
    }
   ],
   "source": [
    "#zooming in :\n",
    "pd.isnull(data).sum()[5:25].plot(kind='bar')\n",
    "plt.xlabel('Attributes')\n",
    "plt.ylabel('Count of NaN')"
   ]
  },
  {
   "cell_type": "code",
   "execution_count": 10,
   "metadata": {},
   "outputs": [],
   "source": [
    "#dropping column 13\n",
    "data.drop(columns = 13, inplace=True)"
   ]
  },
  {
   "cell_type": "code",
   "execution_count": 11,
   "metadata": {},
   "outputs": [
    {
     "name": "stderr",
     "output_type": "stream",
     "text": [
      "Using TensorFlow backend.\n"
     ]
    },
    {
     "name": "stdout",
     "output_type": "stream",
     "text": [
      "Imputing row 1/452 with 0 missing, elapsed time: 0.236\n",
      "Imputing row 101/452 with 0 missing, elapsed time: 0.237\n",
      "Imputing row 201/452 with 1 missing, elapsed time: 0.238\n",
      "Imputing row 301/452 with 1 missing, elapsed time: 0.238\n",
      "Imputing row 401/452 with 0 missing, elapsed time: 0.239\n"
     ]
    }
   ],
   "source": [
    "import fancyimpute\n",
    "data_no_missing = fancyimpute.KNN(k=5).complete(data)"
   ]
  },
  {
   "cell_type": "code",
   "execution_count": 12,
   "metadata": {},
   "outputs": [
    {
     "data": {
      "text/html": [
       "<div>\n",
       "<style scoped>\n",
       "    .dataframe tbody tr th:only-of-type {\n",
       "        vertical-align: middle;\n",
       "    }\n",
       "\n",
       "    .dataframe tbody tr th {\n",
       "        vertical-align: top;\n",
       "    }\n",
       "\n",
       "    .dataframe thead th {\n",
       "        text-align: right;\n",
       "    }\n",
       "</style>\n",
       "<table border=\"1\" class=\"dataframe\">\n",
       "  <thead>\n",
       "    <tr style=\"text-align: right;\">\n",
       "      <th></th>\n",
       "      <th>0</th>\n",
       "      <th>1</th>\n",
       "      <th>2</th>\n",
       "      <th>3</th>\n",
       "      <th>4</th>\n",
       "      <th>5</th>\n",
       "      <th>6</th>\n",
       "      <th>7</th>\n",
       "      <th>8</th>\n",
       "      <th>9</th>\n",
       "      <th>...</th>\n",
       "      <th>269</th>\n",
       "      <th>270</th>\n",
       "      <th>271</th>\n",
       "      <th>272</th>\n",
       "      <th>273</th>\n",
       "      <th>274</th>\n",
       "      <th>275</th>\n",
       "      <th>276</th>\n",
       "      <th>277</th>\n",
       "      <th>278</th>\n",
       "    </tr>\n",
       "  </thead>\n",
       "  <tbody>\n",
       "    <tr>\n",
       "      <th>0</th>\n",
       "      <td>75.0</td>\n",
       "      <td>0.0</td>\n",
       "      <td>190.0</td>\n",
       "      <td>80.0</td>\n",
       "      <td>91.0</td>\n",
       "      <td>193.0</td>\n",
       "      <td>371.0</td>\n",
       "      <td>174.0</td>\n",
       "      <td>121.0</td>\n",
       "      <td>-16.0</td>\n",
       "      <td>...</td>\n",
       "      <td>0.0</td>\n",
       "      <td>9.0</td>\n",
       "      <td>-0.9</td>\n",
       "      <td>0.0</td>\n",
       "      <td>0.0</td>\n",
       "      <td>0.9</td>\n",
       "      <td>2.9</td>\n",
       "      <td>23.3</td>\n",
       "      <td>49.4</td>\n",
       "      <td>8.0</td>\n",
       "    </tr>\n",
       "    <tr>\n",
       "      <th>1</th>\n",
       "      <td>56.0</td>\n",
       "      <td>1.0</td>\n",
       "      <td>165.0</td>\n",
       "      <td>64.0</td>\n",
       "      <td>81.0</td>\n",
       "      <td>174.0</td>\n",
       "      <td>401.0</td>\n",
       "      <td>149.0</td>\n",
       "      <td>39.0</td>\n",
       "      <td>25.0</td>\n",
       "      <td>...</td>\n",
       "      <td>0.0</td>\n",
       "      <td>8.5</td>\n",
       "      <td>0.0</td>\n",
       "      <td>0.0</td>\n",
       "      <td>0.0</td>\n",
       "      <td>0.2</td>\n",
       "      <td>2.1</td>\n",
       "      <td>20.4</td>\n",
       "      <td>38.8</td>\n",
       "      <td>6.0</td>\n",
       "    </tr>\n",
       "    <tr>\n",
       "      <th>2</th>\n",
       "      <td>54.0</td>\n",
       "      <td>0.0</td>\n",
       "      <td>172.0</td>\n",
       "      <td>95.0</td>\n",
       "      <td>138.0</td>\n",
       "      <td>163.0</td>\n",
       "      <td>386.0</td>\n",
       "      <td>185.0</td>\n",
       "      <td>102.0</td>\n",
       "      <td>96.0</td>\n",
       "      <td>...</td>\n",
       "      <td>0.0</td>\n",
       "      <td>9.5</td>\n",
       "      <td>-2.4</td>\n",
       "      <td>0.0</td>\n",
       "      <td>0.0</td>\n",
       "      <td>0.3</td>\n",
       "      <td>3.4</td>\n",
       "      <td>12.3</td>\n",
       "      <td>49.0</td>\n",
       "      <td>10.0</td>\n",
       "    </tr>\n",
       "    <tr>\n",
       "      <th>3</th>\n",
       "      <td>55.0</td>\n",
       "      <td>0.0</td>\n",
       "      <td>175.0</td>\n",
       "      <td>94.0</td>\n",
       "      <td>100.0</td>\n",
       "      <td>202.0</td>\n",
       "      <td>380.0</td>\n",
       "      <td>179.0</td>\n",
       "      <td>143.0</td>\n",
       "      <td>28.0</td>\n",
       "      <td>...</td>\n",
       "      <td>0.0</td>\n",
       "      <td>12.2</td>\n",
       "      <td>-2.2</td>\n",
       "      <td>0.0</td>\n",
       "      <td>0.0</td>\n",
       "      <td>0.4</td>\n",
       "      <td>2.6</td>\n",
       "      <td>34.6</td>\n",
       "      <td>61.6</td>\n",
       "      <td>1.0</td>\n",
       "    </tr>\n",
       "    <tr>\n",
       "      <th>4</th>\n",
       "      <td>75.0</td>\n",
       "      <td>0.0</td>\n",
       "      <td>190.0</td>\n",
       "      <td>80.0</td>\n",
       "      <td>88.0</td>\n",
       "      <td>181.0</td>\n",
       "      <td>360.0</td>\n",
       "      <td>177.0</td>\n",
       "      <td>103.0</td>\n",
       "      <td>-16.0</td>\n",
       "      <td>...</td>\n",
       "      <td>0.0</td>\n",
       "      <td>13.1</td>\n",
       "      <td>-3.6</td>\n",
       "      <td>0.0</td>\n",
       "      <td>0.0</td>\n",
       "      <td>-0.1</td>\n",
       "      <td>3.9</td>\n",
       "      <td>25.4</td>\n",
       "      <td>62.8</td>\n",
       "      <td>7.0</td>\n",
       "    </tr>\n",
       "  </tbody>\n",
       "</table>\n",
       "<p>5 rows × 279 columns</p>\n",
       "</div>"
      ],
      "text/plain": [
       "    0    1      2     3      4      5      6      7      8     9    ...   269  \\\n",
       "0  75.0  0.0  190.0  80.0   91.0  193.0  371.0  174.0  121.0 -16.0  ...   0.0   \n",
       "1  56.0  1.0  165.0  64.0   81.0  174.0  401.0  149.0   39.0  25.0  ...   0.0   \n",
       "2  54.0  0.0  172.0  95.0  138.0  163.0  386.0  185.0  102.0  96.0  ...   0.0   \n",
       "3  55.0  0.0  175.0  94.0  100.0  202.0  380.0  179.0  143.0  28.0  ...   0.0   \n",
       "4  75.0  0.0  190.0  80.0   88.0  181.0  360.0  177.0  103.0 -16.0  ...   0.0   \n",
       "\n",
       "    270  271  272  273  274  275   276   277   278  \n",
       "0   9.0 -0.9  0.0  0.0  0.9  2.9  23.3  49.4   8.0  \n",
       "1   8.5  0.0  0.0  0.0  0.2  2.1  20.4  38.8   6.0  \n",
       "2   9.5 -2.4  0.0  0.0  0.3  3.4  12.3  49.0  10.0  \n",
       "3  12.2 -2.2  0.0  0.0  0.4  2.6  34.6  61.6   1.0  \n",
       "4  13.1 -3.6  0.0  0.0 -0.1  3.9  25.4  62.8   7.0  \n",
       "\n",
       "[5 rows x 279 columns]"
      ]
     },
     "execution_count": 12,
     "metadata": {},
     "output_type": "execute_result"
    }
   ],
   "source": [
    "data_no_missing=pd.DataFrame(data_no_missing)\n",
    "data_no_missing.head()"
   ]
  },
  {
   "cell_type": "code",
   "execution_count": 13,
   "metadata": {},
   "outputs": [],
   "source": [
    "#Adding column names\n",
    "X_columns=[\"Age\",\"Sex\",\"Height\",\"Weight\",\"QRS_Dur\",\n",
    "\"P-R_Int\",\"Q-T_Int\",\"T_Int\",\"P_Int\",\"QRS\",\"T\",\"P\",\"J\",\"Heart_Rate\",\n",
    "\"Q_Wave\",\"R_Wave\",\"S_Wave\",\"R'_Wave\",\"S'_Wave\",\"Int_Def\",\"Rag_R_Nom\",\n",
    "\"Diph_R_Nom\",\"Rag_P_Nom\",\"Diph_P_Nom\",\"Rag_T_Nom\",\"Diph_T_Nom\", \n",
    "\"DII00\", \"DII01\",\"DII02\", \"DII03\", \"DII04\",\"DII05\",\"DII06\",\"DII07\",\"DII08\",\"DII09\",\"DII10\",\"DII11\",\n",
    "\"DIII00\",\"DIII01\",\"DIII02\", \"DIII03\", \"DIII04\",\"DIII05\",\"DIII06\",\"DIII07\",\"DIII08\",\"DIII09\",\"DIII10\",\"DIII11\",\n",
    "\"AVR00\",\"AVR01\",\"AVR02\",\"AVR03\",\"AVR04\",\"AVR05\",\"AVR06\",\"AVR07\",\"AVR08\",\"AVR09\",\"AVR10\",\"AVR11\",\n",
    "\"AVL00\",\"AVL01\",\"AVL02\",\"AVL03\",\"AVL04\",\"AVL05\",\"AVL06\",\"AVL07\",\"AVL08\",\"AVL09\",\"AVL10\",\"AVL11\",\n",
    "\"AVF00\",\"AVF01\",\"AVF02\",\"AVF03\",\"AVF04\",\"AVF05\",\"AVF06\",\"AVF07\",\"AVF08\",\"AVF09\",\"AVF10\",\"AVF11\",\n",
    "\"V100\",\"V101\",\"V102\",\"V103\",\"V104\",\"V105\",\"V106\",\"V107\",\"V108\",\"V109\",\"V110\",\"V111\",\n",
    "\"V200\",\"V201\",\"V202\",\"V203\",\"V204\",\"V205\",\"V206\",\"V207\",\"V208\",\"V209\",\"V210\",\"V211\",\n",
    "\"V300\",\"V301\",\"V302\",\"V303\",\"V304\",\"V305\",\"V306\",\"V307\",\"V308\",\"V309\",\"V310\",\"V311\",\n",
    "\"V400\",\"V401\",\"V402\",\"V403\",\"V404\",\"V405\",\"V406\",\"V407\",\"V408\",\"V409\",\"V410\",\"V411\",\n",
    "\"V500\",\"V501\",\"V502\",\"V503\",\"V504\",\"V505\",\"V506\",\"V507\",\"V508\",\"V509\",\"V510\",\"V511\",\n",
    "\"V600\",\"V601\",\"V602\",\"V603\",\"V604\",\"V605\",\"V606\",\"V607\",\"V608\",\"V609\",\"V610\",\"V611\",\n",
    "\"JJ_Wave\",\"Amp_Q_Wave\",\"Amp_R_Wave\",\"Amp_S_Wave\",\"R_Prime_Wave\",\"S_Prime_Wave\",\"P_Wave\",\"T_Wave\",\n",
    "\"QRSA\",\"QRSTA\",\"DII170\",\"DII171\",\"DII172\",\"DII173\",\"DII174\",\"DII175\",\"DII176\",\"DII177\",\"DII178\",\"DII179\",\n",
    "\"DIII180\",\"DIII181\",\"DIII182\",\"DIII183\",\"DIII184\",\"DIII185\",\"DIII186\",\"DIII187\",\"DIII188\",\"DIII189\",\n",
    "\"AVR190\",\"AVR191\",\"AVR192\",\"AVR193\",\"AVR194\",\"AVR195\",\"AVR196\",\"AVR197\",\"AVR198\",\"AVR199\",\n",
    "\"AVL200\",\"AVL201\",\"AVL202\",\"AVL203\",\"AVL204\",\"AVL205\",\"AVL206\",\"AVL207\",\"AVL208\",\"AVL209\",\n",
    "\"AVF210\",\"AVF211\",\"AVF212\",\"AVF213\",\"AVF214\",\"AVF215\",\"AVF216\",\"AVF217\",\"AVF218\",\"AVF219\",\n",
    "\"V1220\",\"V1221\",\"V1222\",\"V1223\",\"V1224\",\"V1225\",\"V1226\",\"V1227\",\"V1228\",\"V1229\",\n",
    "\"V2230\",\"V2231\",\"V2232\",\"V2233\",\"V2234\",\"V2235\",\"V2236\",\"V2237\",\"V2238\",\"V2239\",\n",
    "\"V3240\",\"V3241\",\"V3242\",\"V3243\",\"V3244\",\"V3245\",\"V3246\",\"V3247\",\"V3248\",\"V3249\",\n",
    "\"V4250\",\"V4251\",\"V4252\",\"V4253\",\"V4254\",\"V4255\",\"V4256\",\"V4257\",\"V4258\",\"V4259\",\n",
    "\"V5260\",\"V5261\",\"V5262\",\"V5263\",\"V5264\",\"V5265\",\"V5266\",\"V5267\",\"V5268\",\"V5269\",\n",
    "\"V6270\",\"V6271\",\"V6272\",\"V6273\",\"V6274\",\"V6275\",\"V6276\",\"V6277\",\"V6278\",\"V6279\"]"
   ]
  },
  {
   "cell_type": "code",
   "execution_count": 14,
   "metadata": {},
   "outputs": [
    {
     "data": {
      "text/html": [
       "<div>\n",
       "<style scoped>\n",
       "    .dataframe tbody tr th:only-of-type {\n",
       "        vertical-align: middle;\n",
       "    }\n",
       "\n",
       "    .dataframe tbody tr th {\n",
       "        vertical-align: top;\n",
       "    }\n",
       "\n",
       "    .dataframe thead th {\n",
       "        text-align: right;\n",
       "    }\n",
       "</style>\n",
       "<table border=\"1\" class=\"dataframe\">\n",
       "  <thead>\n",
       "    <tr style=\"text-align: right;\">\n",
       "      <th></th>\n",
       "      <th>0</th>\n",
       "      <th>1</th>\n",
       "      <th>2</th>\n",
       "      <th>3</th>\n",
       "      <th>4</th>\n",
       "      <th>5</th>\n",
       "      <th>6</th>\n",
       "      <th>7</th>\n",
       "      <th>8</th>\n",
       "      <th>9</th>\n",
       "      <th>...</th>\n",
       "      <th>268</th>\n",
       "      <th>269</th>\n",
       "      <th>270</th>\n",
       "      <th>271</th>\n",
       "      <th>272</th>\n",
       "      <th>273</th>\n",
       "      <th>274</th>\n",
       "      <th>275</th>\n",
       "      <th>276</th>\n",
       "      <th>277</th>\n",
       "    </tr>\n",
       "  </thead>\n",
       "  <tbody>\n",
       "    <tr>\n",
       "      <th>0</th>\n",
       "      <td>75.0</td>\n",
       "      <td>0.0</td>\n",
       "      <td>190.0</td>\n",
       "      <td>80.0</td>\n",
       "      <td>91.0</td>\n",
       "      <td>193.0</td>\n",
       "      <td>371.0</td>\n",
       "      <td>174.0</td>\n",
       "      <td>121.0</td>\n",
       "      <td>-16.0</td>\n",
       "      <td>...</td>\n",
       "      <td>-0.3</td>\n",
       "      <td>0.0</td>\n",
       "      <td>9.0</td>\n",
       "      <td>-0.9</td>\n",
       "      <td>0.0</td>\n",
       "      <td>0.0</td>\n",
       "      <td>0.9</td>\n",
       "      <td>2.9</td>\n",
       "      <td>23.3</td>\n",
       "      <td>49.4</td>\n",
       "    </tr>\n",
       "    <tr>\n",
       "      <th>1</th>\n",
       "      <td>56.0</td>\n",
       "      <td>1.0</td>\n",
       "      <td>165.0</td>\n",
       "      <td>64.0</td>\n",
       "      <td>81.0</td>\n",
       "      <td>174.0</td>\n",
       "      <td>401.0</td>\n",
       "      <td>149.0</td>\n",
       "      <td>39.0</td>\n",
       "      <td>25.0</td>\n",
       "      <td>...</td>\n",
       "      <td>-0.5</td>\n",
       "      <td>0.0</td>\n",
       "      <td>8.5</td>\n",
       "      <td>0.0</td>\n",
       "      <td>0.0</td>\n",
       "      <td>0.0</td>\n",
       "      <td>0.2</td>\n",
       "      <td>2.1</td>\n",
       "      <td>20.4</td>\n",
       "      <td>38.8</td>\n",
       "    </tr>\n",
       "    <tr>\n",
       "      <th>2</th>\n",
       "      <td>54.0</td>\n",
       "      <td>0.0</td>\n",
       "      <td>172.0</td>\n",
       "      <td>95.0</td>\n",
       "      <td>138.0</td>\n",
       "      <td>163.0</td>\n",
       "      <td>386.0</td>\n",
       "      <td>185.0</td>\n",
       "      <td>102.0</td>\n",
       "      <td>96.0</td>\n",
       "      <td>...</td>\n",
       "      <td>0.9</td>\n",
       "      <td>0.0</td>\n",
       "      <td>9.5</td>\n",
       "      <td>-2.4</td>\n",
       "      <td>0.0</td>\n",
       "      <td>0.0</td>\n",
       "      <td>0.3</td>\n",
       "      <td>3.4</td>\n",
       "      <td>12.3</td>\n",
       "      <td>49.0</td>\n",
       "    </tr>\n",
       "    <tr>\n",
       "      <th>3</th>\n",
       "      <td>55.0</td>\n",
       "      <td>0.0</td>\n",
       "      <td>175.0</td>\n",
       "      <td>94.0</td>\n",
       "      <td>100.0</td>\n",
       "      <td>202.0</td>\n",
       "      <td>380.0</td>\n",
       "      <td>179.0</td>\n",
       "      <td>143.0</td>\n",
       "      <td>28.0</td>\n",
       "      <td>...</td>\n",
       "      <td>0.1</td>\n",
       "      <td>0.0</td>\n",
       "      <td>12.2</td>\n",
       "      <td>-2.2</td>\n",
       "      <td>0.0</td>\n",
       "      <td>0.0</td>\n",
       "      <td>0.4</td>\n",
       "      <td>2.6</td>\n",
       "      <td>34.6</td>\n",
       "      <td>61.6</td>\n",
       "    </tr>\n",
       "    <tr>\n",
       "      <th>4</th>\n",
       "      <td>75.0</td>\n",
       "      <td>0.0</td>\n",
       "      <td>190.0</td>\n",
       "      <td>80.0</td>\n",
       "      <td>88.0</td>\n",
       "      <td>181.0</td>\n",
       "      <td>360.0</td>\n",
       "      <td>177.0</td>\n",
       "      <td>103.0</td>\n",
       "      <td>-16.0</td>\n",
       "      <td>...</td>\n",
       "      <td>-0.4</td>\n",
       "      <td>0.0</td>\n",
       "      <td>13.1</td>\n",
       "      <td>-3.6</td>\n",
       "      <td>0.0</td>\n",
       "      <td>0.0</td>\n",
       "      <td>-0.1</td>\n",
       "      <td>3.9</td>\n",
       "      <td>25.4</td>\n",
       "      <td>62.8</td>\n",
       "    </tr>\n",
       "  </tbody>\n",
       "</table>\n",
       "<p>5 rows × 278 columns</p>\n",
       "</div>"
      ],
      "text/plain": [
       "    0    1      2     3      4      5      6      7      8     9    ...   268  \\\n",
       "0  75.0  0.0  190.0  80.0   91.0  193.0  371.0  174.0  121.0 -16.0  ...  -0.3   \n",
       "1  56.0  1.0  165.0  64.0   81.0  174.0  401.0  149.0   39.0  25.0  ...  -0.5   \n",
       "2  54.0  0.0  172.0  95.0  138.0  163.0  386.0  185.0  102.0  96.0  ...   0.9   \n",
       "3  55.0  0.0  175.0  94.0  100.0  202.0  380.0  179.0  143.0  28.0  ...   0.1   \n",
       "4  75.0  0.0  190.0  80.0   88.0  181.0  360.0  177.0  103.0 -16.0  ...  -0.4   \n",
       "\n",
       "   269   270  271  272  273  274  275   276   277  \n",
       "0  0.0   9.0 -0.9  0.0  0.0  0.9  2.9  23.3  49.4  \n",
       "1  0.0   8.5  0.0  0.0  0.0  0.2  2.1  20.4  38.8  \n",
       "2  0.0   9.5 -2.4  0.0  0.0  0.3  3.4  12.3  49.0  \n",
       "3  0.0  12.2 -2.2  0.0  0.0  0.4  2.6  34.6  61.6  \n",
       "4  0.0  13.1 -3.6  0.0  0.0 -0.1  3.9  25.4  62.8  \n",
       "\n",
       "[5 rows x 278 columns]"
      ]
     },
     "execution_count": 14,
     "metadata": {},
     "output_type": "execute_result"
    }
   ],
   "source": [
    "X = data_no_missing.drop(columns = 278)\n",
    "X.head()"
   ]
  },
  {
   "cell_type": "code",
   "execution_count": 15,
   "metadata": {},
   "outputs": [
    {
     "data": {
      "text/html": [
       "<div>\n",
       "<style scoped>\n",
       "    .dataframe tbody tr th:only-of-type {\n",
       "        vertical-align: middle;\n",
       "    }\n",
       "\n",
       "    .dataframe tbody tr th {\n",
       "        vertical-align: top;\n",
       "    }\n",
       "\n",
       "    .dataframe thead th {\n",
       "        text-align: right;\n",
       "    }\n",
       "</style>\n",
       "<table border=\"1\" class=\"dataframe\">\n",
       "  <thead>\n",
       "    <tr style=\"text-align: right;\">\n",
       "      <th></th>\n",
       "      <th>Age</th>\n",
       "      <th>Sex</th>\n",
       "      <th>Height</th>\n",
       "      <th>Weight</th>\n",
       "      <th>QRS_Dur</th>\n",
       "      <th>P-R_Int</th>\n",
       "      <th>Q-T_Int</th>\n",
       "      <th>T_Int</th>\n",
       "      <th>P_Int</th>\n",
       "      <th>QRS</th>\n",
       "      <th>...</th>\n",
       "      <th>V6270</th>\n",
       "      <th>V6271</th>\n",
       "      <th>V6272</th>\n",
       "      <th>V6273</th>\n",
       "      <th>V6274</th>\n",
       "      <th>V6275</th>\n",
       "      <th>V6276</th>\n",
       "      <th>V6277</th>\n",
       "      <th>V6278</th>\n",
       "      <th>V6279</th>\n",
       "    </tr>\n",
       "  </thead>\n",
       "  <tbody>\n",
       "    <tr>\n",
       "      <th>0</th>\n",
       "      <td>75.0</td>\n",
       "      <td>0.0</td>\n",
       "      <td>190.0</td>\n",
       "      <td>80.0</td>\n",
       "      <td>91.0</td>\n",
       "      <td>193.0</td>\n",
       "      <td>371.0</td>\n",
       "      <td>174.0</td>\n",
       "      <td>121.0</td>\n",
       "      <td>-16.0</td>\n",
       "      <td>...</td>\n",
       "      <td>-0.3</td>\n",
       "      <td>0.0</td>\n",
       "      <td>9.0</td>\n",
       "      <td>-0.9</td>\n",
       "      <td>0.0</td>\n",
       "      <td>0.0</td>\n",
       "      <td>0.9</td>\n",
       "      <td>2.9</td>\n",
       "      <td>23.3</td>\n",
       "      <td>49.4</td>\n",
       "    </tr>\n",
       "    <tr>\n",
       "      <th>1</th>\n",
       "      <td>56.0</td>\n",
       "      <td>1.0</td>\n",
       "      <td>165.0</td>\n",
       "      <td>64.0</td>\n",
       "      <td>81.0</td>\n",
       "      <td>174.0</td>\n",
       "      <td>401.0</td>\n",
       "      <td>149.0</td>\n",
       "      <td>39.0</td>\n",
       "      <td>25.0</td>\n",
       "      <td>...</td>\n",
       "      <td>-0.5</td>\n",
       "      <td>0.0</td>\n",
       "      <td>8.5</td>\n",
       "      <td>0.0</td>\n",
       "      <td>0.0</td>\n",
       "      <td>0.0</td>\n",
       "      <td>0.2</td>\n",
       "      <td>2.1</td>\n",
       "      <td>20.4</td>\n",
       "      <td>38.8</td>\n",
       "    </tr>\n",
       "    <tr>\n",
       "      <th>2</th>\n",
       "      <td>54.0</td>\n",
       "      <td>0.0</td>\n",
       "      <td>172.0</td>\n",
       "      <td>95.0</td>\n",
       "      <td>138.0</td>\n",
       "      <td>163.0</td>\n",
       "      <td>386.0</td>\n",
       "      <td>185.0</td>\n",
       "      <td>102.0</td>\n",
       "      <td>96.0</td>\n",
       "      <td>...</td>\n",
       "      <td>0.9</td>\n",
       "      <td>0.0</td>\n",
       "      <td>9.5</td>\n",
       "      <td>-2.4</td>\n",
       "      <td>0.0</td>\n",
       "      <td>0.0</td>\n",
       "      <td>0.3</td>\n",
       "      <td>3.4</td>\n",
       "      <td>12.3</td>\n",
       "      <td>49.0</td>\n",
       "    </tr>\n",
       "    <tr>\n",
       "      <th>3</th>\n",
       "      <td>55.0</td>\n",
       "      <td>0.0</td>\n",
       "      <td>175.0</td>\n",
       "      <td>94.0</td>\n",
       "      <td>100.0</td>\n",
       "      <td>202.0</td>\n",
       "      <td>380.0</td>\n",
       "      <td>179.0</td>\n",
       "      <td>143.0</td>\n",
       "      <td>28.0</td>\n",
       "      <td>...</td>\n",
       "      <td>0.1</td>\n",
       "      <td>0.0</td>\n",
       "      <td>12.2</td>\n",
       "      <td>-2.2</td>\n",
       "      <td>0.0</td>\n",
       "      <td>0.0</td>\n",
       "      <td>0.4</td>\n",
       "      <td>2.6</td>\n",
       "      <td>34.6</td>\n",
       "      <td>61.6</td>\n",
       "    </tr>\n",
       "    <tr>\n",
       "      <th>4</th>\n",
       "      <td>75.0</td>\n",
       "      <td>0.0</td>\n",
       "      <td>190.0</td>\n",
       "      <td>80.0</td>\n",
       "      <td>88.0</td>\n",
       "      <td>181.0</td>\n",
       "      <td>360.0</td>\n",
       "      <td>177.0</td>\n",
       "      <td>103.0</td>\n",
       "      <td>-16.0</td>\n",
       "      <td>...</td>\n",
       "      <td>-0.4</td>\n",
       "      <td>0.0</td>\n",
       "      <td>13.1</td>\n",
       "      <td>-3.6</td>\n",
       "      <td>0.0</td>\n",
       "      <td>0.0</td>\n",
       "      <td>-0.1</td>\n",
       "      <td>3.9</td>\n",
       "      <td>25.4</td>\n",
       "      <td>62.8</td>\n",
       "    </tr>\n",
       "  </tbody>\n",
       "</table>\n",
       "<p>5 rows × 278 columns</p>\n",
       "</div>"
      ],
      "text/plain": [
       "    Age  Sex  Height  Weight  QRS_Dur  P-R_Int  Q-T_Int  T_Int  P_Int   QRS  \\\n",
       "0  75.0  0.0   190.0    80.0     91.0    193.0    371.0  174.0  121.0 -16.0   \n",
       "1  56.0  1.0   165.0    64.0     81.0    174.0    401.0  149.0   39.0  25.0   \n",
       "2  54.0  0.0   172.0    95.0    138.0    163.0    386.0  185.0  102.0  96.0   \n",
       "3  55.0  0.0   175.0    94.0    100.0    202.0    380.0  179.0  143.0  28.0   \n",
       "4  75.0  0.0   190.0    80.0     88.0    181.0    360.0  177.0  103.0 -16.0   \n",
       "\n",
       "   ...    V6270  V6271  V6272  V6273  V6274  V6275  V6276  V6277  V6278  V6279  \n",
       "0  ...     -0.3    0.0    9.0   -0.9    0.0    0.0    0.9    2.9   23.3   49.4  \n",
       "1  ...     -0.5    0.0    8.5    0.0    0.0    0.0    0.2    2.1   20.4   38.8  \n",
       "2  ...      0.9    0.0    9.5   -2.4    0.0    0.0    0.3    3.4   12.3   49.0  \n",
       "3  ...      0.1    0.0   12.2   -2.2    0.0    0.0    0.4    2.6   34.6   61.6  \n",
       "4  ...     -0.4    0.0   13.1   -3.6    0.0    0.0   -0.1    3.9   25.4   62.8  \n",
       "\n",
       "[5 rows x 278 columns]"
      ]
     },
     "execution_count": 15,
     "metadata": {},
     "output_type": "execute_result"
    }
   ],
   "source": [
    "X.columns = X_columns\n",
    "X.head()"
   ]
  },
  {
   "cell_type": "code",
   "execution_count": 16,
   "metadata": {},
   "outputs": [
    {
     "data": {
      "text/plain": [
       "0     8\n",
       "1     6\n",
       "2    10\n",
       "3     1\n",
       "4     7\n",
       "Name: 279, dtype: int64"
      ]
     },
     "execution_count": 16,
     "metadata": {},
     "output_type": "execute_result"
    }
   ],
   "source": [
    "y = data[279]\n",
    "y.head()"
   ]
  },
  {
   "cell_type": "code",
   "execution_count": 17,
   "metadata": {},
   "outputs": [
    {
     "data": {
      "text/plain": [
       "0     8\n",
       "1     6\n",
       "2    10\n",
       "3     1\n",
       "4     7\n",
       "Name: 279, dtype: int64"
      ]
     },
     "execution_count": 17,
     "metadata": {},
     "output_type": "execute_result"
    }
   ],
   "source": [
    "y.columns = [\"Class\"]\n",
    "y.head()"
   ]
  },
  {
   "cell_type": "code",
   "execution_count": 18,
   "metadata": {},
   "outputs": [
    {
     "data": {
      "image/png": "[encoded data removed]",
      "text/plain": [
       "<matplotlib.figure.Figure at 0x7f9059f5b588>"
      ]
     },
     "metadata": {},
     "output_type": "display_data"
    }
   ],
   "source": [
    "g = sns.PairGrid(X, vars=['Age', 'Sex', 'Height', 'Weight'],\n",
    "                 hue='Sex', palette='RdBu_r')\n",
    "g.map(plt.scatter, alpha=0.8)\n",
    "g.add_legend();"
   ]
  },
  {
   "cell_type": "markdown",
   "metadata": {},
   "source": [
    "According to scatter plots, there are few outliers in 'height' and 'weight' attributes.\n",
    "I'll check the maximums of heights and weights"
   ]
  },
  {
   "cell_type": "code",
   "execution_count": 19,
   "metadata": {},
   "outputs": [
    {
     "data": {
      "text/plain": [
       "[780.0, 608.0, 190.0, 190.0, 190.0, 188.0, 186.0, 186.0, 186.0, 185.0]"
      ]
     },
     "execution_count": 19,
     "metadata": {},
     "output_type": "execute_result"
    }
   ],
   "source": [
    "sorted(X['Height'], reverse=True)[:10]"
   ]
  },
  {
   "cell_type": "markdown",
   "metadata": {},
   "source": [
    "The tallest person ever lived in the world was **272** cm (1940). His followers were **267** cm(1905) and **263.5** cm(1969) \n",
    "\n",
    "Replacing **780** and **608** with **108** and **180** cm"
   ]
  },
  {
   "cell_type": "code",
   "execution_count": 20,
   "metadata": {},
   "outputs": [],
   "source": [
    "X['Height']=X['Height'].replace(608,108)\n",
    "X['Height']=X['Height'].replace(780,180)"
   ]
  },
  {
   "cell_type": "code",
   "execution_count": 21,
   "metadata": {},
   "outputs": [
    {
     "data": {
      "text/plain": [
       "[176.0, 124.0, 110.0, 106.0, 105.0, 105.0, 104.0, 104.0, 100.0, 98.0]"
      ]
     },
     "execution_count": 21,
     "metadata": {},
     "output_type": "execute_result"
    }
   ],
   "source": [
    "sorted(X['Weight'], reverse=True)[:10]\n"
   ]
  },
  {
   "cell_type": "markdown",
   "metadata": {},
   "source": [
    "Looks like **176** kgs is a possible weight. I'll keep them."
   ]
  },
  {
   "cell_type": "code",
   "execution_count": 22,
   "metadata": {},
   "outputs": [
    {
     "data": {
      "image/png": "[encoded data removed]",
      "text/plain": [
       "<matplotlib.figure.Figure at 0x7f9059f5b0f0>"
      ]
     },
     "metadata": {},
     "output_type": "display_data"
    }
   ],
   "source": [
    "g = sns.PairGrid(X, vars=['Age', 'Sex', 'Height', 'Weight'],\n",
    "                 hue='Sex', palette='RdBu_r')\n",
    "g.map(plt.scatter, alpha=0.8)\n",
    "g.add_legend();"
   ]
  },
  {
   "cell_type": "code",
   "execution_count": 23,
   "metadata": {},
   "outputs": [
    {
     "data": {
      "image/png": "[encoded data removed]",
      "text/plain": [
       "<matplotlib.figure.Figure at 0x7f9059ca4a58>"
      ]
     },
     "metadata": {},
     "output_type": "display_data"
    }
   ],
   "source": [
    "sns.boxplot(data=X[[\"QRS_Dur\",\"P-R_Int\",\"Q-T_Int\",\"T_Int\",\"P_Int\"]]);\n",
    "#sns.swarmplot(data=X[[\"QRS_Dur\",\"P-R_Int\",\"Q-T_Int\",\"T_Int\",\"P_Int\"]]);"
   ]
  },
  {
   "cell_type": "markdown",
   "metadata": {},
   "source": [
    "**PR interval** is the period, measured in milliseconds, that extends from the beginning of the P wave  until the beginning of the QRS complex; it is normally between **120 and 200ms** in duration. "
   ]
  },
  {
   "cell_type": "code",
   "execution_count": 24,
   "metadata": {},
   "outputs": [
    {
     "data": {
      "image/png": "[encoded data removed]",
      "text/plain": [
       "<matplotlib.figure.Figure at 0x7f9059d595c0>"
      ]
     },
     "metadata": {},
     "output_type": "display_data"
    }
   ],
   "source": [
    "X['P-R_Int'].value_counts().sort_index().head().plot(kind='bar')\n",
    "plt.xlabel('P-R Interval Values')\n",
    "plt.ylabel('Count');"
   ]
  },
  {
   "cell_type": "code",
   "execution_count": 25,
   "metadata": {},
   "outputs": [
    {
     "data": {
      "image/png": "[encoded data removed]",
      "text/plain": [
       "<matplotlib.figure.Figure at 0x7f9053d25748>"
      ]
     },
     "metadata": {},
     "output_type": "display_data"
    }
   ],
   "source": [
    "X['P-R_Int'].value_counts().sort_index().tail().plot(kind='bar')\n",
    "plt.xlabel('P-R Interval Values')\n",
    "plt.ylabel('Count');"
   ]
  },
  {
   "cell_type": "markdown",
   "metadata": {},
   "source": [
    "#### PR Interval data is including outliers 0(x18). I'll keep them"
   ]
  },
  {
   "cell_type": "markdown",
   "metadata": {},
   "source": [
    "QT interval is a measure of the time between the start of the Q wave and the end of the T wave in the heart's electrical cycle. The outlier data appearing in Q-T Interval box might be related to the outlier of T-interval data."
   ]
  },
  {
   "cell_type": "code",
   "execution_count": 26,
   "metadata": {},
   "outputs": [
    {
     "data": {
      "image/png": "[encoded data removed]",
      "text/plain": [
       "<matplotlib.figure.Figure at 0x7f9053c81860>"
      ]
     },
     "metadata": {},
     "output_type": "display_data"
    }
   ],
   "source": [
    "X['T_Int'].value_counts().sort_index(ascending=False).head().plot(kind='bar')\n",
    "plt.xlabel('T Interval Values')\n",
    "plt.ylabel('Count');"
   ]
  },
  {
   "cell_type": "code",
   "execution_count": 27,
   "metadata": {},
   "outputs": [
    {
     "data": {
      "image/png": "[encoded data removed]",
      "text/plain": [
       "<matplotlib.figure.Figure at 0x7f9053d2d8d0>"
      ]
     },
     "metadata": {},
     "output_type": "display_data"
    }
   ],
   "source": [
    "X['T_Int'].value_counts().sort_index(ascending=False).tail().plot(kind='bar')\n",
    "plt.xlabel('T Interval Values')\n",
    "plt.ylabel('Count');"
   ]
  },
  {
   "cell_type": "code",
   "execution_count": 28,
   "metadata": {},
   "outputs": [
    {
     "data": {
      "image/png": "[encoded data removed]",
      "text/plain": [
       "<matplotlib.figure.Figure at 0x7f9053b99550>"
      ]
     },
     "metadata": {},
     "output_type": "display_data"
    }
   ],
   "source": [
    "sns.boxplot(data=X[[\"QRS\",\"T\",\"P\",\"J\",\"Heart_Rate\"]]);\n",
    "#sns.swarmplot(data=X[[\"QRS_Dur\",\"P-R_Int\",\"Q-T_Int\",\"T_Int\",\"P_Int\"]]);"
   ]
  },
  {
   "cell_type": "code",
   "execution_count": 29,
   "metadata": {},
   "outputs": [
    {
     "data": {
      "image/png": "[encoded data removed]",
      "text/plain": [
       "<matplotlib.figure.Figure at 0x7f9053bb31d0>"
      ]
     },
     "metadata": {},
     "output_type": "display_data"
    }
   ],
   "source": [
    "sns.boxplot(data=X[[\"Q_Wave\",\"R_Wave\",\"S_Wave\"]])\n",
    "sns.swarmplot(data=X[[\"Q_Wave\",\"R_Wave\",\"S_Wave\"]]);"
   ]
  },
  {
   "cell_type": "code",
   "execution_count": 30,
   "metadata": {},
   "outputs": [
    {
     "data": {
      "image/png": "[encoded data removed]",
      "text/plain": [
       "<matplotlib.figure.Figure at 0x7f9053a65898>"
      ]
     },
     "metadata": {},
     "output_type": "display_data"
    }
   ],
   "source": [
    "sns.boxplot(data=X[[\"R'_Wave\",\"S'_Wave\",\"Int_Def\",\"Rag_R_Nom\"]]);\n",
    "#sns.swarmplot(data=X[[\"R'_Wave\",\"S'_Wave\",\"Int_Def\",\"Rag_R_Nom\"]])"
   ]
  },
  {
   "cell_type": "markdown",
   "metadata": {},
   "source": [
    "#### S'Wave has 0's which is not a NaN. So, we can't assume it as including outliers."
   ]
  },
  {
   "cell_type": "code",
   "execution_count": 31,
   "metadata": {},
   "outputs": [
    {
     "data": {
      "text/plain": [
       "24.0      1\n",
       "16.0      1\n",
       "12.0      2\n",
       "0.0     448\n",
       "Name: R'_Wave, dtype: int64"
      ]
     },
     "execution_count": 31,
     "metadata": {},
     "output_type": "execute_result"
    }
   ],
   "source": [
    "X[\"R'_Wave\"].value_counts().sort_index(ascending=False)"
   ]
  },
  {
   "cell_type": "code",
   "execution_count": 32,
   "metadata": {},
   "outputs": [
    {
     "data": {
      "text/plain": [
       "0.0    452\n",
       "Name: S'_Wave, dtype: int64"
      ]
     },
     "execution_count": 32,
     "metadata": {},
     "output_type": "execute_result"
    }
   ],
   "source": [
    "X[\"S'_Wave\"].value_counts().sort_index(ascending=False)"
   ]
  },
  {
   "cell_type": "code",
   "execution_count": 33,
   "metadata": {},
   "outputs": [
    {
     "data": {
      "text/plain": [
       "1.0      1\n",
       "0.0    451\n",
       "Name: Rag_R_Nom, dtype: int64"
      ]
     },
     "execution_count": 33,
     "metadata": {},
     "output_type": "execute_result"
    }
   ],
   "source": [
    "X[\"Rag_R_Nom\"].value_counts().sort_index(ascending=False)"
   ]
  },
  {
   "cell_type": "code",
   "execution_count": 34,
   "metadata": {},
   "outputs": [
    {
     "data": {
      "image/png": "[encoded data removed]",
      "text/plain": [
       "<matplotlib.figure.Figure at 0x7f9053b88b70>"
      ]
     },
     "metadata": {},
     "output_type": "display_data"
    }
   ],
   "source": [
    "sns.set(rc={'figure.figsize':(11.7,5.27)})\n",
    "sns.boxplot(data=X[[\"Diph_R_Nom\",\"Rag_P_Nom\",\"Diph_P_Nom\",\"Rag_T_Nom\",\"Diph_T_Nom\"]]);"
   ]
  },
  {
   "cell_type": "code",
   "execution_count": 35,
   "metadata": {
    "scrolled": true
   },
   "outputs": [
    {
     "data": {
      "text/plain": [
       "1.0      5\n",
       "0.0    447\n",
       "Name: Diph_R_Nom, dtype: int64"
      ]
     },
     "execution_count": 35,
     "metadata": {},
     "output_type": "execute_result"
    }
   ],
   "source": [
    "X[\"Diph_R_Nom\"].value_counts().sort_index(ascending=False)"
   ]
  },
  {
   "cell_type": "code",
   "execution_count": 36,
   "metadata": {},
   "outputs": [
    {
     "data": {
      "text/plain": [
       "1.0      5\n",
       "0.0    447\n",
       "Name: Rag_P_Nom, dtype: int64"
      ]
     },
     "execution_count": 36,
     "metadata": {},
     "output_type": "execute_result"
    }
   ],
   "source": [
    "X[\"Rag_P_Nom\"].value_counts().sort_index(ascending=False)"
   ]
  },
  {
   "cell_type": "code",
   "execution_count": 37,
   "metadata": {},
   "outputs": [
    {
     "data": {
      "text/plain": [
       "1.0      2\n",
       "0.0    450\n",
       "Name: Diph_P_Nom, dtype: int64"
      ]
     },
     "execution_count": 37,
     "metadata": {},
     "output_type": "execute_result"
    }
   ],
   "source": [
    "X[\"Diph_P_Nom\"].value_counts().sort_index(ascending=False)"
   ]
  },
  {
   "cell_type": "code",
   "execution_count": 38,
   "metadata": {},
   "outputs": [
    {
     "data": {
      "text/plain": [
       "1.0      2\n",
       "0.0    450\n",
       "Name: Rag_T_Nom, dtype: int64"
      ]
     },
     "execution_count": 38,
     "metadata": {},
     "output_type": "execute_result"
    }
   ],
   "source": [
    "X[\"Rag_T_Nom\"].value_counts().sort_index(ascending=False)"
   ]
  },
  {
   "cell_type": "code",
   "execution_count": 39,
   "metadata": {},
   "outputs": [
    {
     "data": {
      "text/plain": [
       "1.0      4\n",
       "0.0    448\n",
       "Name: Diph_T_Nom, dtype: int64"
      ]
     },
     "execution_count": 39,
     "metadata": {},
     "output_type": "execute_result"
    }
   ],
   "source": [
    "X[\"Diph_T_Nom\"].value_counts().sort_index(ascending=False)"
   ]
  },
  {
   "cell_type": "code",
   "execution_count": 40,
   "metadata": {
    "scrolled": true
   },
   "outputs": [
    {
     "data": {
      "image/png": "[encoded data removed]",
      "text/plain": [
       "<matplotlib.figure.Figure at 0x7f9053b88c50>"
      ]
     },
     "metadata": {},
     "output_type": "display_data"
    }
   ],
   "source": [
    "sns.set(rc={'figure.figsize':(11.7,5.27)})\n",
    "sns.boxplot(data=X[[\"DII00\", \"DII01\",\"DII02\", \"DII03\", \"DII04\",\"DII05\",\"DII06\",\"DII07\",\"DII08\",\"DII09\",\"DII10\",\"DII11\"]]);"
   ]
  },
  {
   "cell_type": "code",
   "execution_count": 41,
   "metadata": {},
   "outputs": [
    {
     "data": {
      "image/png": "[encoded data removed]",
      "text/plain": [
       "<matplotlib.figure.Figure at 0x7f9059e70748>"
      ]
     },
     "metadata": {},
     "output_type": "display_data"
    }
   ],
   "source": [
    "sns.set(rc={'figure.figsize':(11.7,5.27)})\n",
    "sns.boxplot(data=X[[\"DIII00\",\"DIII01\",\"DIII02\", \"DIII03\", \"DIII04\",\"DIII05\",\"DIII06\",\n",
    "                       \"DIII07\",\"DIII08\",\"DIII09\",\"DIII10\",\"DIII11\"]]);"
   ]
  },
  {
   "cell_type": "code",
   "execution_count": 42,
   "metadata": {
    "scrolled": true
   },
   "outputs": [
    {
     "data": {
      "image/png": "[encoded data removed]",
      "text/plain": [
       "<matplotlib.figure.Figure at 0x7f905a03e0b8>"
      ]
     },
     "metadata": {},
     "output_type": "display_data"
    }
   ],
   "source": [
    "sns.set(rc={'figure.figsize':(11.7,5.27)})\n",
    "sns.boxplot(data=X[[\"AVR00\",\"AVR01\",\"AVR02\",\"AVR03\",\"AVR04\",\"AVR05\",\n",
    "                       \"AVR06\",\"AVR07\",\"AVR08\",\"AVR09\",\"AVR10\",\"AVR11\"]]);"
   ]
  },
  {
   "cell_type": "code",
   "execution_count": 43,
   "metadata": {},
   "outputs": [
    {
     "data": {
      "image/png": "[encoded data removed]",
      "text/plain": [
       "<matplotlib.figure.Figure at 0x7f9059f2e400>"
      ]
     },
     "metadata": {},
     "output_type": "display_data"
    }
   ],
   "source": [
    "sns.set(rc={'figure.figsize':(11.7,5.27)})\n",
    "sns.boxplot(data=X[[\"AVL00\",\"AVL01\",\"AVL02\",\"AVL03\",\"AVL04\",\"AVL05\",\"AVL06\",\"AVL07\",\"AVL08\",\"AVL09\",\"AVL10\",\"AVL11\"]]);"
   ]
  },
  {
   "cell_type": "code",
   "execution_count": 44,
   "metadata": {},
   "outputs": [
    {
     "data": {
      "image/png": "[encoded data removed]",
      "text/plain": [
       "<matplotlib.figure.Figure at 0x7f9053bc8f98>"
      ]
     },
     "metadata": {},
     "output_type": "display_data"
    }
   ],
   "source": [
    "sns.set(rc={'figure.figsize':(11.7,5.27)})\n",
    "sns.boxplot(data=X[[\"AVF00\",\"AVF01\",\"AVF02\",\"AVF03\",\"AVF04\",\"AVF05\",\"AVF06\",\"AVF07\",\"AVF08\",\"AVF09\",\"AVF10\",\"AVF11\"]]);"
   ]
  },
  {
   "cell_type": "code",
   "execution_count": 45,
   "metadata": {},
   "outputs": [
    {
     "data": {
      "image/png": "[encoded data removed]",
      "text/plain": [
       "<matplotlib.figure.Figure at 0x7f9059d360f0>"
      ]
     },
     "metadata": {},
     "output_type": "display_data"
    }
   ],
   "source": [
    "sns.set(rc={'figure.figsize':(11.7,5.27)})\n",
    "sns.boxplot(data=X[[\"V100\",\"V101\",\"V102\",\"V103\",\"V104\",\"V105\",\"V106\",\"V107\",\"V108\",\"V109\",\"V110\",\"V111\"]]);"
   ]
  },
  {
   "cell_type": "code",
   "execution_count": 46,
   "metadata": {},
   "outputs": [
    {
     "data": {
      "text/plain": [
       "216.0     1\n",
       "112.0     1\n",
       "84.0      1\n",
       "72.0      1\n",
       "68.0      1\n",
       "64.0      1\n",
       "48.0      6\n",
       "44.0      6\n",
       "40.0     13\n",
       "36.0     36\n",
       "32.0     63\n",
       "28.0     81\n",
       "24.0     88\n",
       "20.0     57\n",
       "16.0     13\n",
       "12.0      4\n",
       "0.0      79\n",
       "Name: V101, dtype: int64"
      ]
     },
     "execution_count": 46,
     "metadata": {},
     "output_type": "execute_result"
    }
   ],
   "source": [
    "X[\"V101\"].value_counts().sort_index(ascending=False)"
   ]
  },
  {
   "cell_type": "markdown",
   "metadata": {},
   "source": [
    "**V101** has an outlier, but when we look at other sets (V201, V301, V501) we can see that there's an outlier similarly. Since our data is heavily biased, I can't say these outliers should be dropped. \n",
    "\n",
    "For example, when we look at our data, we can see that class # 8 (Supraventricular Premature Contraction) **has only 2 instances**. Or # 3 (Ventricular Premature Contraction (PVC)) has only 3. The outliers appearing with our plots might belong to these instances and needs to be kept."
   ]
  },
  {
   "cell_type": "code",
   "execution_count": 47,
   "metadata": {},
   "outputs": [
    {
     "data": {
      "image/png": "[encoded data removed]",
      "text/plain": [
       "<matplotlib.figure.Figure at 0x7f9053b19390>"
      ]
     },
     "metadata": {},
     "output_type": "display_data"
    }
   ],
   "source": [
    "sns.set(rc={'figure.figsize':(11.7,5.27)})\n",
    "sns.boxplot(data=X[[\"V200\",\"V201\",\"V202\",\"V203\",\"V204\",\"V205\",\"V206\",\"V207\",\"V208\",\"V209\",\"V210\",\"V211\"]]);"
   ]
  },
  {
   "cell_type": "code",
   "execution_count": 48,
   "metadata": {},
   "outputs": [
    {
     "data": {
      "image/png": "[encoded data removed]",
      "text/plain": [
       "<matplotlib.figure.Figure at 0x7f9059e830f0>"
      ]
     },
     "metadata": {},
     "output_type": "display_data"
    }
   ],
   "source": [
    "sns.set(rc={'figure.figsize':(11.7,5.27)})\n",
    "sns.boxplot(data=X[[\"V300\",\"V301\",\"V302\",\"V303\",\"V304\",\"V305\",\"V306\",\"V307\",\"V308\",\"V309\",\"V310\",\"V311\"]]);"
   ]
  },
  {
   "cell_type": "code",
   "execution_count": 49,
   "metadata": {},
   "outputs": [
    {
     "data": {
      "image/png": "[encoded data removed]",
      "text/plain": [
       "<matplotlib.figure.Figure at 0x7f9059e83b38>"
      ]
     },
     "metadata": {},
     "output_type": "display_data"
    }
   ],
   "source": [
    "sns.set(rc={'figure.figsize':(11.7,5.27)})\n",
    "sns.boxplot(data=X[[\"V400\",\"V401\",\"V402\",\"V403\",\"V404\",\"V405\",\"V406\",\"V407\",\"V408\",\"V409\",\"V410\",\"V411\"]]);"
   ]
  },
  {
   "cell_type": "code",
   "execution_count": 50,
   "metadata": {},
   "outputs": [
    {
     "data": {
      "image/png": "[encoded data removed]",
      "text/plain": [
       "<matplotlib.figure.Figure at 0x7f9059ae31d0>"
      ]
     },
     "metadata": {},
     "output_type": "display_data"
    }
   ],
   "source": [
    "sns.set(rc={'figure.figsize':(11.7,5.27)})\n",
    "sns.boxplot(data=X[[\"V500\",\"V501\",\"V502\",\"V503\",\"V504\",\"V505\",\"V506\",\"V507\",\"V508\",\"V509\",\"V510\",\"V511\"]]);"
   ]
  },
  {
   "cell_type": "code",
   "execution_count": 51,
   "metadata": {},
   "outputs": [
    {
     "data": {
      "image/png": "[encoded data removed]",
      "text/plain": [
       "<matplotlib.figure.Figure at 0x7f9059e765f8>"
      ]
     },
     "metadata": {},
     "output_type": "display_data"
    }
   ],
   "source": [
    "sns.set(rc={'figure.figsize':(11.7,5.27)})\n",
    "sns.boxplot(data=X[[\"V600\",\"V601\",\"V602\",\"V603\",\"V604\",\"V605\",\"V606\",\"V607\",\"V608\",\"V609\",\"V610\",\"V611\"]]);"
   ]
  },
  {
   "cell_type": "code",
   "execution_count": 52,
   "metadata": {},
   "outputs": [
    {
     "data": {
      "image/png": "[encoded data removed]",
      "text/plain": [
       "<matplotlib.figure.Figure at 0x7f9059f02b00>"
      ]
     },
     "metadata": {},
     "output_type": "display_data"
    }
   ],
   "source": [
    "sns.set(rc={'figure.figsize':(11.7,5.27)})\n",
    "sns.boxplot(data=X[[\"JJ_Wave\",\"Amp_Q_Wave\",\"Amp_R_Wave\",\"Amp_S_Wave\",\"R_Prime_Wave\",\"S_Prime_Wave\",\"P_Wave\",\"T_Wave\"]]);"
   ]
  },
  {
   "cell_type": "code",
   "execution_count": 53,
   "metadata": {},
   "outputs": [
    {
     "data": {
      "image/png": "[encoded data removed]",
      "text/plain": [
       "<matplotlib.figure.Figure at 0x7f905395f160>"
      ]
     },
     "metadata": {},
     "output_type": "display_data"
    }
   ],
   "source": [
    "sns.set(rc={'figure.figsize':(13.7,5.27)})\n",
    "sns.boxplot(data=X[[\"QRSA\",\"QRSTA\",\"DII170\",\"DII171\",\"DII172\",\"DII173\",\"DII174\",\"DII175\",\"DII176\",\"DII177\",\"DII178\",\"DII179\"]]);"
   ]
  },
  {
   "cell_type": "code",
   "execution_count": 54,
   "metadata": {},
   "outputs": [
    {
     "data": {
      "image/png": "[encoded data removed]",
      "text/plain": [
       "<matplotlib.figure.Figure at 0x7f9053a5f588>"
      ]
     },
     "metadata": {},
     "output_type": "display_data"
    }
   ],
   "source": [
    "sns.set(rc={'figure.figsize':(11.7,5.27)})\n",
    "sns.boxplot(data=X[[\"DIII180\",\"DIII181\",\"DIII182\",\"DIII183\",\"DIII184\",\"DIII185\",\"DIII186\",\"DIII187\",\"DIII188\",\"DIII189\"]]);"
   ]
  },
  {
   "cell_type": "markdown",
   "metadata": {},
   "source": [
    "Now we can see outlier within the last two attributes of each series(DIII188, DIII189, AVR198, AVR199, AVL208, AVL209, AVF218, AVF219, V2238, V2239, V3248, V3249,V4258, V4259,V5268, V5269, V6278, V6279). Similiarly assuming that these outliers might belong to the classes with few instances."
   ]
  },
  {
   "cell_type": "code",
   "execution_count": 55,
   "metadata": {},
   "outputs": [
    {
     "data": {
      "image/png": "[encoded data removed]",
      "text/plain": [
       "<matplotlib.figure.Figure at 0x7f9053ac17b8>"
      ]
     },
     "metadata": {},
     "output_type": "display_data"
    }
   ],
   "source": [
    "sns.set(rc={'figure.figsize':(11.7,5.27)})\n",
    "sns.boxplot(data=X[[\"AVR190\",\"AVR191\",\"AVR192\",\"AVR193\",\"AVR194\",\"AVR195\",\"AVR196\",\"AVR197\",\"AVR198\",\"AVR199\"]]);"
   ]
  },
  {
   "cell_type": "code",
   "execution_count": 56,
   "metadata": {},
   "outputs": [
    {
     "data": {
      "image/png": "[encoded data removed]",
      "text/plain": [
       "<matplotlib.figure.Figure at 0x7f9053ba3438>"
      ]
     },
     "metadata": {},
     "output_type": "display_data"
    }
   ],
   "source": [
    "sns.set(rc={'figure.figsize':(11.7,5.27)})\n",
    "sns.boxplot(data=X[[\"AVL200\",\"AVL201\",\"AVL202\",\"AVL203\",\"AVL204\",\"AVL205\",\"AVL206\",\"AVL207\",\"AVL208\",\"AVL209\"]]);"
   ]
  },
  {
   "cell_type": "code",
   "execution_count": 57,
   "metadata": {},
   "outputs": [
    {
     "data": {
      "image/png": "[encoded data removed]",
      "text/plain": [
       "<matplotlib.figure.Figure at 0x7f9053890b00>"
      ]
     },
     "metadata": {},
     "output_type": "display_data"
    }
   ],
   "source": [
    "sns.set(rc={'figure.figsize':(11.7,5.27)})\n",
    "sns.boxplot(data=X[[\"AVF210\",\"AVF211\",\"AVF212\",\"AVF213\",\"AVF214\",\"AVF215\",\"AVF216\",\"AVF217\",\"AVF218\",\"AVF219\"]]);"
   ]
  },
  {
   "cell_type": "code",
   "execution_count": 58,
   "metadata": {
    "scrolled": true
   },
   "outputs": [
    {
     "data": {
      "image/png": "[encoded data removed]",
      "text/plain": [
       "<matplotlib.figure.Figure at 0x7f9059ccca58>"
      ]
     },
     "metadata": {},
     "output_type": "display_data"
    }
   ],
   "source": [
    "sns.set(rc={'figure.figsize':(11.7,5.27)})\n",
    "sns.boxplot(data=X[[\"V1220\",\"V1221\",\"V1222\",\"V1223\",\"V1224\",\"V1225\",\"V1226\",\"V1227\",\"V1228\",\"V1229\"]]);"
   ]
  },
  {
   "cell_type": "code",
   "execution_count": 59,
   "metadata": {
    "scrolled": true
   },
   "outputs": [
    {
     "data": {
      "image/png": "[encoded data removed]",
      "text/plain": [
       "<matplotlib.figure.Figure at 0x7f9059f5ba58>"
      ]
     },
     "metadata": {},
     "output_type": "display_data"
    }
   ],
   "source": [
    "sns.set(rc={'figure.figsize':(11.7,5.27)})\n",
    "sns.boxplot(data=X[[\"V2230\",\"V2231\",\"V2232\",\"V2233\",\"V2234\",\"V2235\",\"V2236\",\"V2237\",\"V2238\",\"V2239\"]]);"
   ]
  },
  {
   "cell_type": "code",
   "execution_count": 60,
   "metadata": {},
   "outputs": [
    {
     "data": {
      "image/png": "[encoded data removed]",
      "text/plain": [
       "<matplotlib.figure.Figure at 0x7f9059d10a20>"
      ]
     },
     "metadata": {},
     "output_type": "display_data"
    }
   ],
   "source": [
    "sns.set(rc={'figure.figsize':(11.7,5.27)})\n",
    "sns.boxplot(data=X[[\"V3240\",\"V3241\",\"V3242\",\"V3243\",\"V3244\",\"V3245\",\"V3246\",\"V3247\",\"V3248\",\"V3249\"]]);"
   ]
  },
  {
   "cell_type": "code",
   "execution_count": 61,
   "metadata": {},
   "outputs": [
    {
     "data": {
      "image/png": "[encoded data removed]",
      "text/plain": [
       "<matplotlib.figure.Figure at 0x7f9059c48e48>"
      ]
     },
     "metadata": {},
     "output_type": "display_data"
    }
   ],
   "source": [
    "sns.set(rc={'figure.figsize':(11.7,5.27)})\n",
    "sns.boxplot(data=X[[\"V4250\",\"V4251\",\"V4252\",\"V4253\",\"V4254\",\"V4255\",\"V4256\",\"V4257\",\"V4258\",\"V4259\"]]);"
   ]
  },
  {
   "cell_type": "code",
   "execution_count": 62,
   "metadata": {},
   "outputs": [
    {
     "data": {
      "image/png": "[encoded data removed]",
      "text/plain": [
       "<matplotlib.figure.Figure at 0x7f9059dbf8d0>"
      ]
     },
     "metadata": {},
     "output_type": "display_data"
    }
   ],
   "source": [
    "sns.set(rc={'figure.figsize':(11.7,5.27)})\n",
    "sns.boxplot(data=X[[\"V5260\",\"V5261\",\"V5262\",\"V5263\",\"V5264\",\"V5265\",\"V5266\",\"V5267\",\"V5268\",\"V5269\"]]);"
   ]
  },
  {
   "cell_type": "code",
   "execution_count": 63,
   "metadata": {},
   "outputs": [
    {
     "data": {
      "image/png": "[encoded data removed]",
      "text/plain": [
       "<matplotlib.figure.Figure at 0x7f9053cced30>"
      ]
     },
     "metadata": {},
     "output_type": "display_data"
    }
   ],
   "source": [
    "sns.set(rc={'figure.figsize':(11.7,5.27)})\n",
    "sns.boxplot(data=X[[\"V6270\",\"V6271\",\"V6272\",\"V6273\",\"V6274\",\"V6275\",\"V6276\",\"V6277\",\"V6278\",\"V6279\"]]);"
   ]
  },
  {
   "cell_type": "markdown",
   "metadata": {},
   "source": [
    "### Train Test Split"
   ]
  },
  {
   "cell_type": "code",
   "execution_count": 64,
   "metadata": {},
   "outputs": [],
   "source": [
    "from sklearn.model_selection import train_test_split\n",
    "X_train, X_test, y_train, y_test = train_test_split(X, y, test_size=0.15, random_state = 10)"
   ]
  },
  {
   "cell_type": "code",
   "execution_count": 65,
   "metadata": {},
   "outputs": [],
   "source": [
    "from sklearn.preprocessing import MinMaxScaler\n",
    "scaler = MinMaxScaler()\n",
    "X_train = scaler.fit_transform(X_train)\n",
    "X_test = scaler.transform(X_test)"
   ]
  },
  {
   "cell_type": "markdown",
   "metadata": {},
   "source": [
    "## Choosing ML Models and metrics"
   ]
  },
  {
   "attachments": {
    "image.png": {
     "image/png": "[encoded data removed]"
    }
   },
   "cell_type": "markdown",
   "metadata": {},
   "source": [
    "My intention is to try all applicable ML models in order to practice my knowledge.\n",
    "\n",
    "Thinking about the classification evaluation metrics, the importance of my models' precitions (I can't accept a result having the probability of saying to a healty person that you have Cardiac Arrhythmia (FN)). \n",
    "\n",
    "I definitely will focus on **Sensitivity** (the percentage of sick people who are correctly identified as having the condition) not Specificity (percentage of healthy people who are correctly identified as not having the condition). \n",
    "\n",
    "![image.png](attachment:image.png)\n",
    "\n",
    "So, I'll use recall for my models and sklearn has a **\"weighted\"** metric which accounts for class imbalance by computing the average of metrics in which each class’s score is weighted by its presence in the true data sample.\n",
    "\n",
    "I'll use GridSearchCV to obtain the best parameters for each model and get my results by applying those parameters.\n"
   ]
  },
  {
   "cell_type": "markdown",
   "metadata": {},
   "source": [
    "### KNN Clasification"
   ]
  },
  {
   "cell_type": "code",
   "execution_count": 66,
   "metadata": {},
   "outputs": [
    {
     "data": {
      "text/plain": [
       "GridSearchCV(cv=StratifiedKFold(n_splits=5, random_state=None, shuffle=False),\n",
       "       error_score='raise',\n",
       "       estimator=KNeighborsClassifier(algorithm='auto', leaf_size=30, metric='minkowski',\n",
       "           metric_params=None, n_jobs=1, n_neighbors=5, p=2,\n",
       "           weights='uniform'),\n",
       "       fit_params=None, iid=True, n_jobs=1,\n",
       "       param_grid={'n_neighbors': [1, 2, 3, 4, 5, 7, 10]},\n",
       "       pre_dispatch='2*n_jobs', refit=True, return_train_score=True,\n",
       "       scoring='recall_weighted', verbose=0)"
      ]
     },
     "execution_count": 66,
     "metadata": {},
     "output_type": "execute_result"
    }
   ],
   "source": [
    "from sklearn.neighbors import KNeighborsClassifier\n",
    "from sklearn.model_selection import GridSearchCV\n",
    "\n",
    "knn_clf = KNeighborsClassifier()\n",
    "\n",
    "param_grid = {'n_neighbors' : [1,2,3,4,5,7,10]}\n",
    "\n",
    "grid_search = GridSearchCV (knn_clf, param_grid, cv=kFold,scoring = 'recall_weighted', return_train_score=True)\n",
    "\n",
    "grid_search.fit(X_train, y_train)"
   ]
  },
  {
   "cell_type": "code",
   "execution_count": 67,
   "metadata": {},
   "outputs": [
    {
     "data": {
      "text/plain": [
       "{'n_neighbors': 3}"
      ]
     },
     "execution_count": 67,
     "metadata": {},
     "output_type": "execute_result"
    }
   ],
   "source": [
    "grid_search.best_params_"
   ]
  },
  {
   "cell_type": "code",
   "execution_count": 68,
   "metadata": {},
   "outputs": [
    {
     "data": {
      "text/plain": [
       "0.5963541666666666"
      ]
     },
     "execution_count": 68,
     "metadata": {},
     "output_type": "execute_result"
    }
   ],
   "source": [
    "grid_search.best_score_"
   ]
  },
  {
   "cell_type": "code",
   "execution_count": 69,
   "metadata": {},
   "outputs": [
    {
     "data": {
      "text/plain": [
       "KNeighborsClassifier(algorithm='auto', leaf_size=30, metric='minkowski',\n",
       "           metric_params=None, n_jobs=1, n_neighbors=3, p=2,\n",
       "           weights='uniform')"
      ]
     },
     "execution_count": 69,
     "metadata": {},
     "output_type": "execute_result"
    }
   ],
   "source": [
    "knn_clf = KNeighborsClassifier(n_neighbors=3)\n",
    "knn_clf.fit(X_train, y_train)"
   ]
  },
  {
   "cell_type": "code",
   "execution_count": 70,
   "metadata": {},
   "outputs": [
    {
     "name": "stdout",
     "output_type": "stream",
     "text": [
      "Train Recall score: 0.6692708333333334\n",
      "Test Recall score: 0.6470588235294118\n"
     ]
    },
    {
     "data": {
      "text/plain": [
       "array([[40,  0,  0,  0,  0,  0,  0,  0,  0,  0,  0],\n",
       "       [ 4,  0,  0,  0,  0,  0,  0,  0,  0,  0,  0],\n",
       "       [ 2,  0,  2,  0,  0,  0,  0,  0,  0,  0,  0],\n",
       "       [ 3,  0,  0,  1,  0,  0,  0,  0,  0,  0,  0],\n",
       "       [ 1,  0,  0,  0,  0,  0,  0,  0,  0,  0,  0],\n",
       "       [ 3,  0,  0,  0,  0,  0,  0,  0,  0,  0,  0],\n",
       "       [ 1,  0,  0,  0,  0,  0,  0,  0,  0,  0,  0],\n",
       "       [ 4,  0,  0,  0,  0,  0,  0,  1,  0,  0,  0],\n",
       "       [ 1,  0,  0,  0,  0,  0,  0,  0,  0,  0,  0],\n",
       "       [ 1,  0,  0,  0,  0,  0,  0,  0,  0,  0,  0],\n",
       "       [ 3,  1,  0,  0,  0,  0,  0,  0,  0,  0,  0]])"
      ]
     },
     "execution_count": 70,
     "metadata": {},
     "output_type": "execute_result"
    }
   ],
   "source": [
    "y_pred_train = knn_clf.predict(X_train)\n",
    "y_pred_test = knn_clf.predict(X_test)\n",
    "\n",
    "knn_train_recall_score = recall_score(y_train, y_pred_train, average='weighted')\n",
    "knn_test_recall_score = recall_score(y_test, y_pred_test, average='weighted')\n",
    "\n",
    "print('Train Recall score: {}'\n",
    "      .format(knn_train_recall_score))\n",
    "print('Test Recall score: {}'\n",
    "      .format(knn_test_recall_score))\n",
    "\n",
    "metrics.confusion_matrix(y_test, y_pred_test)"
   ]
  },
  {
   "cell_type": "markdown",
   "metadata": {},
   "source": [
    "Model fit well but KNN results are not good. "
   ]
  },
  {
   "cell_type": "markdown",
   "metadata": {},
   "source": [
    "### Logistic Regression"
   ]
  },
  {
   "cell_type": "code",
   "execution_count": 71,
   "metadata": {},
   "outputs": [
    {
     "data": {
      "text/plain": [
       "GridSearchCV(cv=StratifiedKFold(n_splits=5, random_state=None, shuffle=False),\n",
       "       error_score='raise',\n",
       "       estimator=LogisticRegression(C=1.0, class_weight=None, dual=False, fit_intercept=True,\n",
       "          intercept_scaling=1, max_iter=100, multi_class='multinomial',\n",
       "          n_jobs=1, penalty='l2', random_state=None, solver='lbfgs',\n",
       "          tol=0.0001, verbose=0, warm_start=False),\n",
       "       fit_params=None, iid=True, n_jobs=1,\n",
       "       param_grid={'C': [1e-05, 0.0001, 0.001, 0.01, 0.1, 1, 10, 100]},\n",
       "       pre_dispatch='2*n_jobs', refit=True, return_train_score=True,\n",
       "       scoring='recall_weighted', verbose=0)"
      ]
     },
     "execution_count": 71,
     "metadata": {},
     "output_type": "execute_result"
    }
   ],
   "source": [
    "from sklearn.linear_model import LogisticRegression\n",
    "\n",
    "lreg_clf = LogisticRegression(multi_class='multinomial', solver='lbfgs')\n",
    "\n",
    "param_grid = {'C': [0.00001,0.0001,0.001,0.01,0.1,1,10,100]}\n",
    "\n",
    "grid_search = GridSearchCV(lreg_clf, param_grid, scoring = 'recall_weighted',cv=kFold, return_train_score=True)\n",
    "grid_search.fit(X_train,y_train)"
   ]
  },
  {
   "cell_type": "code",
   "execution_count": 72,
   "metadata": {},
   "outputs": [
    {
     "data": {
      "text/plain": [
       "{'C': 1}"
      ]
     },
     "execution_count": 72,
     "metadata": {},
     "output_type": "execute_result"
    }
   ],
   "source": [
    "grid_search.best_params_"
   ]
  },
  {
   "cell_type": "code",
   "execution_count": 73,
   "metadata": {},
   "outputs": [
    {
     "data": {
      "text/plain": [
       "0.6979166666666666"
      ]
     },
     "execution_count": 73,
     "metadata": {},
     "output_type": "execute_result"
    }
   ],
   "source": [
    "grid_search.best_score_"
   ]
  },
  {
   "cell_type": "code",
   "execution_count": 74,
   "metadata": {},
   "outputs": [
    {
     "data": {
      "text/plain": [
       "LogisticRegression(C=1, class_weight=None, dual=False, fit_intercept=True,\n",
       "          intercept_scaling=1, max_iter=100, multi_class='multinomial',\n",
       "          n_jobs=1, penalty='l2', random_state=None, solver='lbfgs',\n",
       "          tol=0.0001, verbose=0, warm_start=False)"
      ]
     },
     "execution_count": 74,
     "metadata": {},
     "output_type": "execute_result"
    }
   ],
   "source": [
    "lreg_clf= LogisticRegression(multi_class='multinomial', solver='lbfgs', C=1)\n",
    "lreg_clf.fit(X_train, y_train)"
   ]
  },
  {
   "cell_type": "code",
   "execution_count": 75,
   "metadata": {},
   "outputs": [
    {
     "name": "stdout",
     "output_type": "stream",
     "text": [
      "Train Recall score: 0.8411458333333334\n",
      "Test Recall score: 0.6764705882352942\n"
     ]
    },
    {
     "data": {
      "text/plain": [
       "array([[37,  1,  0,  0,  0,  2,  0,  0,  0,  0,  0],\n",
       "       [ 1,  1,  0,  1,  0,  0,  0,  1,  0,  0,  0],\n",
       "       [ 0,  1,  3,  0,  0,  0,  0,  0,  0,  0,  0],\n",
       "       [ 3,  0,  0,  1,  0,  0,  0,  0,  0,  0,  0],\n",
       "       [ 1,  0,  0,  0,  0,  0,  0,  0,  0,  0,  0],\n",
       "       [ 3,  0,  0,  0,  0,  0,  0,  0,  0,  0,  0],\n",
       "       [ 0,  0,  0,  0,  0,  0,  1,  0,  0,  0,  0],\n",
       "       [ 2,  0,  0,  0,  0,  0,  0,  3,  0,  0,  0],\n",
       "       [ 1,  0,  0,  0,  0,  0,  0,  0,  0,  0,  0],\n",
       "       [ 1,  0,  0,  0,  0,  0,  0,  0,  0,  0,  0],\n",
       "       [ 3,  1,  0,  0,  0,  0,  0,  0,  0,  0,  0]])"
      ]
     },
     "execution_count": 75,
     "metadata": {},
     "output_type": "execute_result"
    }
   ],
   "source": [
    "y_pred_train = lreg_clf.predict(X_train)\n",
    "y_pred_test = lreg_clf.predict(X_test)\n",
    "\n",
    "lreg_train_recall_score = recall_score(y_train, y_pred_train, average='weighted')\n",
    "lreg_test_recall_score = recall_score(y_test, y_pred_test, average='weighted')\n",
    "print('Train Recall score: {}'\n",
    "      .format(lreg_train_recall_score))\n",
    "print('Test Recall score: {}'\n",
    "      .format(lreg_test_recall_score))\n",
    "\n",
    "metrics.confusion_matrix(y_test, y_pred_test)"
   ]
  },
  {
   "cell_type": "markdown",
   "metadata": {},
   "source": [
    "The large difference between train and test scores showing that the model is overfitting and low test score is also showing that Logistic Regression doesn't perform well."
   ]
  },
  {
   "cell_type": "markdown",
   "metadata": {},
   "source": [
    "### Linear SVM"
   ]
  },
  {
   "cell_type": "code",
   "execution_count": 76,
   "metadata": {},
   "outputs": [
    {
     "data": {
      "text/plain": [
       "GridSearchCV(cv=StratifiedKFold(n_splits=5, random_state=None, shuffle=False),\n",
       "       error_score='raise',\n",
       "       estimator=LinearSVC(C=1.0, class_weight=None, dual=True, fit_intercept=True,\n",
       "     intercept_scaling=1, loss='squared_hinge', max_iter=1000,\n",
       "     multi_class='crammer_singer', penalty='l2', random_state=None,\n",
       "     tol=0.0001, verbose=0),\n",
       "       fit_params=None, iid=True, n_jobs=1,\n",
       "       param_grid={'C': [1e-05, 0.0001, 0.001, 0.01, 0.1, 1, 10, 100]},\n",
       "       pre_dispatch='2*n_jobs', refit=True, return_train_score=True,\n",
       "       scoring='recall_weighted', verbose=0)"
      ]
     },
     "execution_count": 76,
     "metadata": {},
     "output_type": "execute_result"
    }
   ],
   "source": [
    "from sklearn.svm import LinearSVC\n",
    "\n",
    "LSVC_clf = LinearSVC(multi_class='crammer_singer')\n",
    "\n",
    "param_grid = {'C': [0.00001,0.0001,0.001,0.01,0.1,1,10,100]}\n",
    "\n",
    "grid_search = GridSearchCV(LSVC_clf, param_grid, scoring = 'recall_weighted',cv=kFold, return_train_score=True)\n",
    "grid_search.fit(X_train,y_train)"
   ]
  },
  {
   "cell_type": "code",
   "execution_count": 77,
   "metadata": {},
   "outputs": [
    {
     "data": {
      "text/plain": [
       "{'C': 0.1}"
      ]
     },
     "execution_count": 77,
     "metadata": {},
     "output_type": "execute_result"
    }
   ],
   "source": [
    "grid_search.best_params_"
   ]
  },
  {
   "cell_type": "code",
   "execution_count": 78,
   "metadata": {},
   "outputs": [
    {
     "data": {
      "text/plain": [
       "0.7005208333333334"
      ]
     },
     "execution_count": 78,
     "metadata": {},
     "output_type": "execute_result"
    }
   ],
   "source": [
    "grid_search.best_score_"
   ]
  },
  {
   "cell_type": "code",
   "execution_count": 79,
   "metadata": {},
   "outputs": [
    {
     "data": {
      "text/plain": [
       "LinearSVC(C=0.1, class_weight=None, dual=True, fit_intercept=True,\n",
       "     intercept_scaling=1, loss='squared_hinge', max_iter=1000,\n",
       "     multi_class='crammer_singer', penalty='l2', random_state=None,\n",
       "     tol=0.0001, verbose=0)"
      ]
     },
     "execution_count": 79,
     "metadata": {},
     "output_type": "execute_result"
    }
   ],
   "source": [
    "LSVC_clf = LinearSVC(multi_class='crammer_singer', C=0.1)\n",
    "LSVC_clf.fit(X_train, y_train)"
   ]
  },
  {
   "cell_type": "code",
   "execution_count": 80,
   "metadata": {},
   "outputs": [
    {
     "name": "stdout",
     "output_type": "stream",
     "text": [
      "Train Recall score: 0.7838541666666666\n",
      "Test Recall score: 0.7205882352941176\n"
     ]
    },
    {
     "data": {
      "text/plain": [
       "array([[39,  1,  0,  0,  0,  0,  0,  0,  0,  0,  0],\n",
       "       [ 2,  1,  0,  0,  0,  0,  0,  1,  0,  0,  0],\n",
       "       [ 1,  0,  3,  0,  0,  0,  0,  0,  0,  0,  0],\n",
       "       [ 3,  0,  0,  1,  0,  0,  0,  0,  0,  0,  0],\n",
       "       [ 1,  0,  0,  0,  0,  0,  0,  0,  0,  0,  0],\n",
       "       [ 3,  0,  0,  0,  0,  0,  0,  0,  0,  0,  0],\n",
       "       [ 0,  0,  0,  0,  0,  0,  1,  0,  0,  0,  0],\n",
       "       [ 1,  0,  0,  0,  0,  0,  0,  4,  0,  0,  0],\n",
       "       [ 0,  0,  0,  0,  0,  0,  0,  1,  0,  0,  0],\n",
       "       [ 1,  0,  0,  0,  0,  0,  0,  0,  0,  0,  0],\n",
       "       [ 3,  1,  0,  0,  0,  0,  0,  0,  0,  0,  0]])"
      ]
     },
     "execution_count": 80,
     "metadata": {},
     "output_type": "execute_result"
    }
   ],
   "source": [
    "y_pred_train = LSVC_clf.predict(X_train)\n",
    "y_pred_test = LSVC_clf.predict(X_test)\n",
    "\n",
    "lsvc_train_recall_score = recall_score(y_train, y_pred_train, average='weighted')\n",
    "lsvc_test_recall_score = recall_score(y_test, y_pred_test, average='weighted')\n",
    "\n",
    "print('Train Recall score: {}'\n",
    "      .format(lsvc_train_recall_score))\n",
    "print('Test Recall score: {}'\n",
    "      .format(lsvc_test_recall_score))\n",
    "\n",
    "metrics.confusion_matrix(y_test, y_pred_test)"
   ]
  },
  {
   "cell_type": "markdown",
   "metadata": {},
   "source": [
    "Test score is better than KNN and Logistic Regression. Also model is good fit as there is not much difference between train and test score."
   ]
  },
  {
   "cell_type": "markdown",
   "metadata": {},
   "source": [
    "### Kernelized SVM"
   ]
  },
  {
   "cell_type": "code",
   "execution_count": 81,
   "metadata": {},
   "outputs": [
    {
     "data": {
      "text/plain": [
       "GridSearchCV(cv=StratifiedKFold(n_splits=5, random_state=None, shuffle=False),\n",
       "       error_score='raise',\n",
       "       estimator=SVC(C=1.0, cache_size=200, class_weight=None, coef0=0.0,\n",
       "  decision_function_shape='ovr', degree=3, gamma='auto', kernel='rbf',\n",
       "  max_iter=-1, probability=False, random_state=None, shrinking=True,\n",
       "  tol=0.001, verbose=False),\n",
       "       fit_params=None, iid=True, n_jobs=1,\n",
       "       param_grid={'C': [0.0001, 0.001, 0.01, 0.1, 1, 10], 'gamma': [0.0001, 0.001, 0.01, 0.1, 1, 10]},\n",
       "       pre_dispatch='2*n_jobs', refit=True, return_train_score=True,\n",
       "       scoring='recall_weighted', verbose=0)"
      ]
     },
     "execution_count": 81,
     "metadata": {},
     "output_type": "execute_result"
    }
   ],
   "source": [
    "from sklearn import svm\n",
    "\n",
    "KSVC_clf = svm.SVC(kernel='rbf')\n",
    "\n",
    "param_grid = {'C': [0.0001,0.001,0.01,0.1,1,10],\n",
    "          'gamma': [0.0001,0.001,0.01,0.1,1,10]}\n",
    "\n",
    "grid_search = GridSearchCV(KSVC_clf, param_grid, scoring = 'recall_weighted',cv=kFold, return_train_score=True)\n",
    "grid_search.fit(X_train,y_train)"
   ]
  },
  {
   "cell_type": "code",
   "execution_count": 82,
   "metadata": {},
   "outputs": [
    {
     "data": {
      "text/plain": [
       "{'C': 10, 'gamma': 0.1}"
      ]
     },
     "execution_count": 82,
     "metadata": {},
     "output_type": "execute_result"
    }
   ],
   "source": [
    "grid_search.best_params_"
   ]
  },
  {
   "cell_type": "code",
   "execution_count": 83,
   "metadata": {},
   "outputs": [
    {
     "data": {
      "text/plain": [
       "0.7057291666666666"
      ]
     },
     "execution_count": 83,
     "metadata": {},
     "output_type": "execute_result"
    }
   ],
   "source": [
    "grid_search.best_score_"
   ]
  },
  {
   "cell_type": "code",
   "execution_count": 84,
   "metadata": {},
   "outputs": [
    {
     "data": {
      "text/plain": [
       "SVC(C=10, cache_size=200, class_weight=None, coef0=0.0,\n",
       "  decision_function_shape='ovr', degree=3, gamma=0.1, kernel='rbf',\n",
       "  max_iter=-1, probability=False, random_state=None, shrinking=True,\n",
       "  tol=0.001, verbose=False)"
      ]
     },
     "execution_count": 84,
     "metadata": {},
     "output_type": "execute_result"
    }
   ],
   "source": [
    "KSVC_clf = svm.SVC(kernel='rbf',C=10,gamma=0.1)\n",
    "\n",
    "KSVC_clf.fit(X_train, y_train)"
   ]
  },
  {
   "cell_type": "code",
   "execution_count": 85,
   "metadata": {},
   "outputs": [
    {
     "name": "stdout",
     "output_type": "stream",
     "text": [
      "Train Recall score: 0.9765625\n",
      "Test Recall score: 0.6764705882352942\n"
     ]
    },
    {
     "data": {
      "text/plain": [
       "array([[35,  1,  0,  0,  0,  3,  0,  1,  0,  0,  0],\n",
       "       [ 2,  1,  0,  1,  0,  0,  0,  0,  0,  0,  0],\n",
       "       [ 0,  1,  3,  0,  0,  0,  0,  0,  0,  0,  0],\n",
       "       [ 2,  0,  0,  2,  0,  0,  0,  0,  0,  0,  0],\n",
       "       [ 1,  0,  0,  0,  0,  0,  0,  0,  0,  0,  0],\n",
       "       [ 2,  0,  0,  0,  0,  1,  0,  0,  0,  0,  0],\n",
       "       [ 0,  0,  0,  0,  0,  0,  1,  0,  0,  0,  0],\n",
       "       [ 2,  0,  0,  0,  0,  0,  0,  3,  0,  0,  0],\n",
       "       [ 0,  0,  0,  0,  0,  0,  0,  1,  0,  0,  0],\n",
       "       [ 1,  0,  0,  0,  0,  0,  0,  0,  0,  0,  0],\n",
       "       [ 3,  1,  0,  0,  0,  0,  0,  0,  0,  0,  0]])"
      ]
     },
     "execution_count": 85,
     "metadata": {},
     "output_type": "execute_result"
    }
   ],
   "source": [
    "y_pred_train = KSVC_clf.predict(X_train)\n",
    "y_pred_test = KSVC_clf.predict(X_test)\n",
    "\n",
    "ksvc_train_recall_score = recall_score(y_train, y_pred_train, average='weighted')\n",
    "ksvc_test_recall_score = recall_score(y_test, y_pred_test, average='weighted')\n",
    "\n",
    "print('Train Recall score: {}'\n",
    "      .format(ksvc_train_recall_score))\n",
    "print('Test Recall score: {}'\n",
    "      .format(ksvc_test_recall_score))\n",
    "\n",
    "metrics.confusion_matrix(y_test, y_pred_test)"
   ]
  },
  {
   "cell_type": "markdown",
   "metadata": {},
   "source": [
    "We can see that test score is poor and Kernalised SVM doesn't perform well. Also model is overfitting as there is large difference between train and test score."
   ]
  },
  {
   "cell_type": "markdown",
   "metadata": {},
   "source": [
    "### Naive Bayes"
   ]
  },
  {
   "cell_type": "code",
   "execution_count": 86,
   "metadata": {},
   "outputs": [
    {
     "data": {
      "text/plain": [
       "GridSearchCV(cv=None, error_score='raise',\n",
       "       estimator=MultinomialNB(alpha=1.0, class_prior=None, fit_prior=True),\n",
       "       fit_params=None, iid=True, n_jobs=-1,\n",
       "       param_grid={'alpha': [0, 1.0, 10], 'fit_prior': (True, False)},\n",
       "       pre_dispatch='2*n_jobs', refit=True, return_train_score='warn',\n",
       "       scoring=None, verbose=0)"
      ]
     },
     "execution_count": 86,
     "metadata": {},
     "output_type": "execute_result"
    }
   ],
   "source": [
    "from sklearn.naive_bayes import MultinomialNB\n",
    "\n",
    "mnb_clf = MultinomialNB()\n",
    "param_grid = {'alpha':[0,1.0,10], 'fit_prior':(True, False)}\n",
    "\n",
    "grid_search = GridSearchCV(mnb_clf, param_grid,n_jobs=-1)\n",
    "grid_search.fit(X_train,y_train)"
   ]
  },
  {
   "cell_type": "code",
   "execution_count": 87,
   "metadata": {},
   "outputs": [
    {
     "data": {
      "text/plain": [
       "{'alpha': 0, 'fit_prior': True}"
      ]
     },
     "execution_count": 87,
     "metadata": {},
     "output_type": "execute_result"
    }
   ],
   "source": [
    "grid_search.best_params_"
   ]
  },
  {
   "cell_type": "code",
   "execution_count": 88,
   "metadata": {},
   "outputs": [
    {
     "data": {
      "text/plain": [
       "0.6067708333333334"
      ]
     },
     "execution_count": 88,
     "metadata": {},
     "output_type": "execute_result"
    }
   ],
   "source": [
    "grid_search.best_score_"
   ]
  },
  {
   "cell_type": "code",
   "execution_count": 89,
   "metadata": {},
   "outputs": [
    {
     "data": {
      "text/plain": [
       "MultinomialNB(alpha=0, class_prior=None, fit_prior=True)"
      ]
     },
     "execution_count": 89,
     "metadata": {},
     "output_type": "execute_result"
    }
   ],
   "source": [
    "mnb_clf = MultinomialNB(alpha=0, fit_prior=True)\n",
    "\n",
    "mnb_clf.fit(X_train, y_train)"
   ]
  },
  {
   "cell_type": "code",
   "execution_count": 90,
   "metadata": {},
   "outputs": [
    {
     "name": "stdout",
     "output_type": "stream",
     "text": [
      "Train Recall score: 0.7604166666666666\n",
      "Test Recall score: 0.6323529411764706\n"
     ]
    },
    {
     "data": {
      "text/plain": [
       "array([[35,  0,  0,  0,  1,  1,  0,  2,  0,  0,  1],\n",
       "       [ 3,  0,  0,  0,  0,  0,  0,  1,  0,  0,  0],\n",
       "       [ 2,  0,  2,  0,  0,  0,  0,  0,  0,  0,  0],\n",
       "       [ 3,  0,  0,  1,  0,  0,  0,  0,  0,  0,  0],\n",
       "       [ 1,  0,  0,  0,  0,  0,  0,  0,  0,  0,  0],\n",
       "       [ 3,  0,  0,  0,  0,  0,  0,  0,  0,  0,  0],\n",
       "       [ 0,  0,  0,  0,  0,  0,  1,  0,  0,  0,  0],\n",
       "       [ 1,  0,  0,  0,  0,  0,  0,  4,  0,  0,  0],\n",
       "       [ 0,  0,  0,  0,  0,  0,  0,  1,  0,  0,  0],\n",
       "       [ 1,  0,  0,  0,  0,  0,  0,  0,  0,  0,  0],\n",
       "       [ 4,  0,  0,  0,  0,  0,  0,  0,  0,  0,  0]])"
      ]
     },
     "execution_count": 90,
     "metadata": {},
     "output_type": "execute_result"
    }
   ],
   "source": [
    "y_pred_train = mnb_clf.predict(X_train)\n",
    "y_pred_test = mnb_clf.predict(X_test)\n",
    "\n",
    "mnb_train_recall_score = recall_score(y_train, y_pred_train, average='weighted')\n",
    "mnb_test_recall_score = recall_score(y_test, y_pred_test, average='weighted')\n",
    "\n",
    "print('Train Recall score: {}'\n",
    "      .format(mnb_train_recall_score))\n",
    "print('Test Recall score: {}'\n",
    "      .format(mnb_test_recall_score))\n",
    "\n",
    "metrics.confusion_matrix(y_test, y_pred_test)"
   ]
  },
  {
   "cell_type": "markdown",
   "metadata": {},
   "source": [
    "### Decision Tree"
   ]
  },
  {
   "cell_type": "code",
   "execution_count": 91,
   "metadata": {},
   "outputs": [
    {
     "data": {
      "text/plain": [
       "GridSearchCV(cv=StratifiedKFold(n_splits=5, random_state=None, shuffle=False),\n",
       "       error_score='raise',\n",
       "       estimator=DecisionTreeClassifier(class_weight=None, criterion='gini', max_depth=None,\n",
       "            max_features=None, max_leaf_nodes=None,\n",
       "            min_impurity_decrease=0.0, min_impurity_split=None,\n",
       "            min_samples_leaf=1, min_samples_split=2,\n",
       "            min_weight_fraction_leaf=0.0, presort=False, random_state=None,\n",
       "            splitter='best'),\n",
       "       fit_params=None, iid=True, n_jobs=1,\n",
       "       param_grid={'max_depth': [2, 3, 4, 5, 6, 10, 20]},\n",
       "       pre_dispatch='2*n_jobs', refit=True, return_train_score=True,\n",
       "       scoring='recall_weighted', verbose=0)"
      ]
     },
     "execution_count": 91,
     "metadata": {},
     "output_type": "execute_result"
    }
   ],
   "source": [
    "from sklearn.tree import DecisionTreeClassifier\n",
    "\n",
    "dt_clf = DecisionTreeClassifier()\n",
    "param_grid = {'max_depth': [2, 3, 4, 5,6, 10, 20]}\n",
    "\n",
    "grid_search = GridSearchCV(dt_clf, param_grid, scoring = 'recall_weighted',cv=kFold, return_train_score=True)\n",
    "grid_search.fit(X_train,y_train)"
   ]
  },
  {
   "cell_type": "code",
   "execution_count": 92,
   "metadata": {},
   "outputs": [
    {
     "data": {
      "text/plain": [
       "{'max_depth': 6}"
      ]
     },
     "execution_count": 92,
     "metadata": {},
     "output_type": "execute_result"
    }
   ],
   "source": [
    "grid_search.best_params_"
   ]
  },
  {
   "cell_type": "code",
   "execution_count": 93,
   "metadata": {},
   "outputs": [
    {
     "data": {
      "text/plain": [
       "0.6770833333333334"
      ]
     },
     "execution_count": 93,
     "metadata": {},
     "output_type": "execute_result"
    }
   ],
   "source": [
    "grid_search.best_score_"
   ]
  },
  {
   "cell_type": "code",
   "execution_count": 94,
   "metadata": {},
   "outputs": [
    {
     "data": {
      "text/plain": [
       "DecisionTreeClassifier(class_weight=None, criterion='gini', max_depth=6,\n",
       "            max_features=None, max_leaf_nodes=None,\n",
       "            min_impurity_decrease=0.0, min_impurity_split=None,\n",
       "            min_samples_leaf=1, min_samples_split=2,\n",
       "            min_weight_fraction_leaf=0.0, presort=False, random_state=None,\n",
       "            splitter='best')"
      ]
     },
     "execution_count": 94,
     "metadata": {},
     "output_type": "execute_result"
    }
   ],
   "source": [
    "dt_clf = DecisionTreeClassifier(max_depth=6)\n",
    "dt_clf.fit(X_train, y_train)"
   ]
  },
  {
   "cell_type": "code",
   "execution_count": 95,
   "metadata": {},
   "outputs": [
    {
     "name": "stdout",
     "output_type": "stream",
     "text": [
      "Train Recall score: 0.8463541666666666\n",
      "Test Recall score: 0.7205882352941176\n"
     ]
    },
    {
     "data": {
      "text/plain": [
       "array([[37,  0,  1,  0,  1,  1,  0,  0,  0,  0,  0],\n",
       "       [ 2,  0,  0,  1,  0,  0,  0,  1,  0,  0,  0],\n",
       "       [ 1,  0,  3,  0,  0,  0,  0,  0,  0,  0,  0],\n",
       "       [ 2,  0,  0,  2,  0,  0,  0,  0,  0,  0,  0],\n",
       "       [ 1,  0,  0,  0,  0,  0,  0,  0,  0,  0,  0],\n",
       "       [ 0,  0,  0,  0,  0,  3,  0,  0,  0,  0,  0],\n",
       "       [ 0,  0,  0,  0,  0,  0,  1,  0,  0,  0,  0],\n",
       "       [ 2,  0,  0,  0,  0,  0,  0,  3,  0,  0,  0],\n",
       "       [ 0,  0,  0,  0,  0,  0,  0,  0,  0,  1,  0],\n",
       "       [ 1,  0,  0,  0,  0,  0,  0,  0,  0,  0,  0],\n",
       "       [ 3,  0,  0,  0,  0,  1,  0,  0,  0,  0,  0]])"
      ]
     },
     "execution_count": 95,
     "metadata": {},
     "output_type": "execute_result"
    }
   ],
   "source": [
    "y_pred_train = dt_clf.predict(X_train)\n",
    "y_pred_test = dt_clf.predict(X_test)\n",
    "\n",
    "dt_train_recall_score = recall_score(y_train, y_pred_train, average='weighted')\n",
    "dt_test_recall_score = recall_score(y_test, y_pred_test, average='weighted')\n",
    "\n",
    "print('Train Recall score: {}'\n",
    "      .format(dt_train_recall_score))\n",
    "print('Test Recall score: {}'\n",
    "      .format(dt_test_recall_score))\n",
    "\n",
    "metrics.confusion_matrix(y_test, y_pred_test)"
   ]
  },
  {
   "cell_type": "markdown",
   "metadata": {},
   "source": [
    "Test score is poor and decision tree doesn't perform well. Also model is somewhat overfitting as there is difference between train and test score."
   ]
  },
  {
   "cell_type": "markdown",
   "metadata": {},
   "source": [
    "## Random Forest"
   ]
  },
  {
   "cell_type": "code",
   "execution_count": 96,
   "metadata": {},
   "outputs": [
    {
     "data": {
      "text/plain": [
       "GridSearchCV(cv=StratifiedKFold(n_splits=5, random_state=None, shuffle=False),\n",
       "       error_score='raise',\n",
       "       estimator=RandomForestClassifier(bootstrap=True, class_weight=None, criterion='gini',\n",
       "            max_depth=None, max_features='auto', max_leaf_nodes=None,\n",
       "            min_impurity_decrease=0.0, min_impurity_split=None,\n",
       "            min_samples_leaf=1, min_samples_split=2,\n",
       "            min_weight_fraction_leaf=0.0, n_estimators=300, n_jobs=-1,\n",
       "            oob_score=False, random_state=10, verbose=0, warm_start=False),\n",
       "       fit_params=None, iid=True, n_jobs=1,\n",
       "       param_grid={'max_features': [100, 125, 150, 200], 'max_depth': [6, 8, 10, 12, 14], 'max_leaf_nodes': [20, 22, 30, 50]},\n",
       "       pre_dispatch='2*n_jobs', refit=True, return_train_score=True,\n",
       "       scoring='recall_weighted', verbose=0)"
      ]
     },
     "execution_count": 96,
     "metadata": {},
     "output_type": "execute_result"
    }
   ],
   "source": [
    "from sklearn.ensemble import RandomForestClassifier\n",
    "rf_clf = RandomForestClassifier(n_estimators=300, criterion='gini',n_jobs= -1,random_state=10)\n",
    "\n",
    "param_grid = {'max_features': [100,125,150,200],\n",
    "          'max_depth': [6,8,10,12,14],\n",
    "           'max_leaf_nodes':[20,22,30,50]}\n",
    "\n",
    "grid_search = GridSearchCV(rf_clf, param_grid, scoring = 'recall_weighted',cv=kFold, return_train_score=True)\n",
    "grid_search.fit(X_train,y_train)"
   ]
  },
  {
   "cell_type": "code",
   "execution_count": 97,
   "metadata": {},
   "outputs": [
    {
     "data": {
      "text/plain": [
       "{'max_depth': 10, 'max_features': 100, 'max_leaf_nodes': 30}"
      ]
     },
     "execution_count": 97,
     "metadata": {},
     "output_type": "execute_result"
    }
   ],
   "source": [
    "grid_search.best_params_"
   ]
  },
  {
   "cell_type": "code",
   "execution_count": 98,
   "metadata": {},
   "outputs": [
    {
     "data": {
      "text/plain": [
       "0.7578125"
      ]
     },
     "execution_count": 98,
     "metadata": {},
     "output_type": "execute_result"
    }
   ],
   "source": [
    "grid_search.best_score_"
   ]
  },
  {
   "cell_type": "code",
   "execution_count": 99,
   "metadata": {},
   "outputs": [
    {
     "data": {
      "text/plain": [
       "RandomForestClassifier(bootstrap=True, class_weight=None, criterion='gini',\n",
       "            max_depth=10, max_features=100, max_leaf_nodes=30,\n",
       "            min_impurity_decrease=0.0, min_impurity_split=None,\n",
       "            min_samples_leaf=1, min_samples_split=2,\n",
       "            min_weight_fraction_leaf=0.0, n_estimators=300, n_jobs=1,\n",
       "            oob_score=False, random_state=None, verbose=0,\n",
       "            warm_start=False)"
      ]
     },
     "execution_count": 99,
     "metadata": {},
     "output_type": "execute_result"
    }
   ],
   "source": [
    "rf_clf = RandomForestClassifier(n_estimators=300, criterion='gini',max_features=100,max_depth=10,max_leaf_nodes=30)\n",
    "rf_clf.fit(X_train, y_train)"
   ]
  },
  {
   "cell_type": "code",
   "execution_count": 100,
   "metadata": {},
   "outputs": [
    {
     "name": "stdout",
     "output_type": "stream",
     "text": [
      "Train Recall score: 0.9375\n",
      "Test Recall score: 0.7647058823529411\n"
     ]
    },
    {
     "data": {
      "text/plain": [
       "array([[37,  1,  0,  0,  1,  1,  0,  0,  0,  0,  0],\n",
       "       [ 1,  2,  0,  0,  0,  0,  0,  1,  0,  0,  0],\n",
       "       [ 1,  0,  3,  0,  0,  0,  0,  0,  0,  0,  0],\n",
       "       [ 3,  0,  0,  1,  0,  0,  0,  0,  0,  0,  0],\n",
       "       [ 1,  0,  0,  0,  0,  0,  0,  0,  0,  0,  0],\n",
       "       [ 0,  0,  0,  0,  0,  3,  0,  0,  0,  0,  0],\n",
       "       [ 0,  0,  0,  0,  0,  0,  1,  0,  0,  0,  0],\n",
       "       [ 0,  0,  0,  0,  0,  0,  0,  5,  0,  0,  0],\n",
       "       [ 0,  0,  0,  0,  0,  0,  0,  1,  0,  0,  0],\n",
       "       [ 1,  0,  0,  0,  0,  0,  0,  0,  0,  0,  0],\n",
       "       [ 4,  0,  0,  0,  0,  0,  0,  0,  0,  0,  0]])"
      ]
     },
     "execution_count": 100,
     "metadata": {},
     "output_type": "execute_result"
    }
   ],
   "source": [
    "y_pred_train = rf_clf.predict(X_train)\n",
    "y_pred_test = rf_clf.predict(X_test)\n",
    "\n",
    "rf_train_recall_score = recall_score(y_train, y_pred_train, average='weighted')\n",
    "rf_test_recall_score = recall_score(y_test, y_pred_test, average='weighted')\n",
    "\n",
    "print('Train Recall score: {}'\n",
    "      .format(rf_train_recall_score))\n",
    "print('Test Recall score: {}'\n",
    "      .format(rf_test_recall_score))\n",
    "\n",
    "metrics.confusion_matrix(y_test, y_pred_test)"
   ]
  },
  {
   "cell_type": "markdown",
   "metadata": {},
   "source": [
    "Test score is good and Random forest performs well as it is ensemble method. But model is overfitting as there is large difference between train and test score."
   ]
  },
  {
   "cell_type": "code",
   "execution_count": 101,
   "metadata": {},
   "outputs": [
    {
     "name": "stdout",
     "output_type": "stream",
     "text": [
      "Train score: 0.85\n",
      "Test score: 0.69\n"
     ]
    },
    {
     "name": "stderr",
     "output_type": "stream",
     "text": [
      "/home/muzo/anaconda3/lib/python3.6/site-packages/sklearn/preprocessing/label.py:151: DeprecationWarning: The truth value of an empty array is ambiguous. Returning False, but in future this will result in an error. Use `array.size > 0` to check that an array is not empty.\n",
      "  if diff:\n",
      "/home/muzo/anaconda3/lib/python3.6/site-packages/sklearn/preprocessing/label.py:151: DeprecationWarning: The truth value of an empty array is ambiguous. Returning False, but in future this will result in an error. Use `array.size > 0` to check that an array is not empty.\n",
      "  if diff:\n"
     ]
    }
   ],
   "source": [
    "from sklearn.ensemble import VotingClassifier\n",
    "from sklearn.model_selection import cross_val_score\n",
    "\n",
    "hard_voting_clf = VotingClassifier(estimators=[('knn', knn_clf),('lr',lreg_clf),('lsvc', LSVC_clf),\n",
    "                                   ('ksvc', KSVC_clf),('dt', dt_clf), ('rt', rf_clf)],voting = 'hard')\n",
    "hard_voting_clf.fit(X_train, y_train)\n",
    "print('Train score: {0:0.2f}'.format(hard_voting_clf.score(X_train, y_train)))\n",
    "print('Test score: {0:0.2f}'.format(hard_voting_clf.score(X_test, y_test)))"
   ]
  },
  {
   "cell_type": "code",
   "execution_count": 102,
   "metadata": {},
   "outputs": [
    {
     "name": "stderr",
     "output_type": "stream",
     "text": [
      "/home/muzo/anaconda3/lib/python3.6/site-packages/sklearn/preprocessing/label.py:151: DeprecationWarning: The truth value of an empty array is ambiguous. Returning False, but in future this will result in an error. Use `array.size > 0` to check that an array is not empty.\n",
      "  if diff:\n",
      "/home/muzo/anaconda3/lib/python3.6/site-packages/sklearn/preprocessing/label.py:151: DeprecationWarning: The truth value of an empty array is ambiguous. Returning False, but in future this will result in an error. Use `array.size > 0` to check that an array is not empty.\n",
      "  if diff:\n",
      "/home/muzo/anaconda3/lib/python3.6/site-packages/sklearn/preprocessing/label.py:151: DeprecationWarning: The truth value of an empty array is ambiguous. Returning False, but in future this will result in an error. Use `array.size > 0` to check that an array is not empty.\n",
      "  if diff:\n",
      "/home/muzo/anaconda3/lib/python3.6/site-packages/sklearn/preprocessing/label.py:151: DeprecationWarning: The truth value of an empty array is ambiguous. Returning False, but in future this will result in an error. Use `array.size > 0` to check that an array is not empty.\n",
      "  if diff:\n",
      "/home/muzo/anaconda3/lib/python3.6/site-packages/sklearn/preprocessing/label.py:151: DeprecationWarning: The truth value of an empty array is ambiguous. Returning False, but in future this will result in an error. Use `array.size > 0` to check that an array is not empty.\n",
      "  if diff:\n"
     ]
    }
   ],
   "source": [
    "score = cross_val_score(estimator=hard_voting_clf,X=X_train,y=y_train, scoring='recall_weighted', cv=kFold)"
   ]
  },
  {
   "cell_type": "code",
   "execution_count": 103,
   "metadata": {},
   "outputs": [
    {
     "name": "stdout",
     "output_type": "stream",
     "text": [
      "Mean Score: 0.71\n",
      "Mean Std: 0.02\n"
     ]
    }
   ],
   "source": [
    "print('Mean Score: {0:0.2f}'.format(score.mean()))\n",
    "print('Mean Std: {0:0.2f}'.format(score.std()))"
   ]
  },
  {
   "cell_type": "code",
   "execution_count": 104,
   "metadata": {},
   "outputs": [],
   "source": [
    "X_scaled = scaler.fit_transform(X)"
   ]
  },
  {
   "cell_type": "markdown",
   "metadata": {},
   "source": [
    "### Bagging with KNN¶"
   ]
  },
  {
   "cell_type": "code",
   "execution_count": 105,
   "metadata": {},
   "outputs": [],
   "source": [
    "from sklearn.ensemble import BaggingClassifier\n",
    "from sklearn.neighbors import KNeighborsClassifier\n",
    "\n",
    "#knn = KNeighborsClassifier(n_neighbors=5, n_jobs=-1)\n",
    "bag_knn = BaggingClassifier(base_estimator=knn_clf, n_estimators=100,bootstrap_features=True, bootstrap=False,\n",
    "                            max_samples=50, max_features=100)\n",
    "\n",
    "score = cross_val_score(estimator=bag_knn, X=X_scaled, y=y, scoring='recall_weighted', cv=kFold, n_jobs=-1)"
   ]
  },
  {
   "cell_type": "code",
   "execution_count": 106,
   "metadata": {},
   "outputs": [
    {
     "name": "stdout",
     "output_type": "stream",
     "text": [
      "Mean score: 0.5448364251823543\n"
     ]
    }
   ],
   "source": [
    "print('Mean score:', score.mean())"
   ]
  },
  {
   "cell_type": "markdown",
   "metadata": {},
   "source": [
    "Bagging is giving us a very low score. It doesn't improve our model"
   ]
  },
  {
   "cell_type": "markdown",
   "metadata": {},
   "source": [
    "### Pasting with KNN"
   ]
  },
  {
   "cell_type": "code",
   "execution_count": 107,
   "metadata": {},
   "outputs": [],
   "source": [
    "from sklearn.ensemble import BaggingClassifier\n",
    "from sklearn.neighbors import KNeighborsClassifier\n",
    "\n",
    "#knn = KNeighborsClassifier(n_neighbors=5, n_jobs=-1)\n",
    "bag_knn = BaggingClassifier(base_estimator=knn_clf, n_estimators=100,bootstrap_features=True, bootstrap=False,\n",
    "                            max_samples=50, max_features=100)\n",
    "\n",
    "score = cross_val_score(estimator=bag_knn, X=X_scaled, y=y, scoring='recall_weighted', cv=kFold, n_jobs=-1)"
   ]
  },
  {
   "cell_type": "code",
   "execution_count": 108,
   "metadata": {},
   "outputs": [
    {
     "name": "stdout",
     "output_type": "stream",
     "text": [
      "Mean score: 0.5448364251823543\n"
     ]
    }
   ],
   "source": [
    "print('Mean score:', score.mean())\n"
   ]
  },
  {
   "cell_type": "markdown",
   "metadata": {},
   "source": [
    "Pasting is also giving us a very low score. It doesn't improve our model"
   ]
  },
  {
   "cell_type": "markdown",
   "metadata": {},
   "source": [
    "### Bagging with Logistic Reg"
   ]
  },
  {
   "cell_type": "code",
   "execution_count": 109,
   "metadata": {},
   "outputs": [
    {
     "name": "stdout",
     "output_type": "stream",
     "text": [
      "Mean score: 0.5516381256074606\n"
     ]
    }
   ],
   "source": [
    "from sklearn.ensemble import BaggingClassifier\n",
    "\n",
    "bag_log = BaggingClassifier(base_estimator=lreg_clf, n_estimators=100,bootstrap_features=True, max_samples=50, max_features=100)\n",
    "\n",
    "score = cross_val_score(estimator=bag_log, X=X_scaled, y=y, scoring='recall_weighted', cv=kFold, n_jobs=-1)\n",
    "print('Mean score:', score.mean())\n"
   ]
  },
  {
   "cell_type": "markdown",
   "metadata": {},
   "source": [
    "### Bagging with Linear SVC"
   ]
  },
  {
   "cell_type": "code",
   "execution_count": 110,
   "metadata": {},
   "outputs": [
    {
     "name": "stdout",
     "output_type": "stream",
     "text": [
      "Mean score: 0.6376323090526922\n"
     ]
    }
   ],
   "source": [
    "bag_lsvc = BaggingClassifier(base_estimator=LSVC_clf, n_estimators=100,bootstrap_features=True, max_samples=50, max_features=100)\n",
    "\n",
    "score = cross_val_score(estimator=bag_lsvc, X=X_scaled, y=y, scoring='recall_weighted', cv=kFold, n_jobs=-1)\n",
    "print('Mean score:', score.mean())"
   ]
  },
  {
   "cell_type": "markdown",
   "metadata": {},
   "source": [
    "The bagging algorithm has raised the bias and doesn't improve our model"
   ]
  },
  {
   "cell_type": "markdown",
   "metadata": {},
   "source": [
    "### Bagging with SVM"
   ]
  },
  {
   "cell_type": "code",
   "execution_count": 111,
   "metadata": {},
   "outputs": [
    {
     "name": "stdout",
     "output_type": "stream",
     "text": [
      "Mean score: 0.5623779509514988\n"
     ]
    }
   ],
   "source": [
    "bag_ksvc = BaggingClassifier(base_estimator=KSVC_clf, n_estimators=100,bootstrap_features=True, max_samples=50, max_features=100)\n",
    "\n",
    "score = cross_val_score(estimator=bag_ksvc, X=X_scaled, y=y, scoring='recall_weighted', cv=kFold, n_jobs=-1)\n",
    "print('Mean score:', score.mean())"
   ]
  },
  {
   "cell_type": "markdown",
   "metadata": {},
   "source": [
    "The bagging algorithm has raised the bias and doesn't improve our model"
   ]
  },
  {
   "cell_type": "markdown",
   "metadata": {},
   "source": [
    "### Bagging with Decision Tree"
   ]
  },
  {
   "cell_type": "code",
   "execution_count": 112,
   "metadata": {},
   "outputs": [
    {
     "name": "stdout",
     "output_type": "stream",
     "text": [
      "Mean score: 0.6291450748845996\n"
     ]
    }
   ],
   "source": [
    "bag_dt = BaggingClassifier(base_estimator=dt_clf, n_estimators=100,bootstrap_features=True, max_samples=50, max_features=100)\n",
    "\n",
    "score = cross_val_score(estimator=bag_dt, X=X_scaled, y=y, scoring='recall_weighted', cv=kFold, n_jobs=-1)\n",
    "print('Mean score:', score.mean())"
   ]
  },
  {
   "cell_type": "markdown",
   "metadata": {},
   "source": [
    "The bagging algorithm has raised the bias and doesn't improve our model"
   ]
  },
  {
   "cell_type": "markdown",
   "metadata": {},
   "source": [
    "### Bagging with Random Forest"
   ]
  },
  {
   "cell_type": "code",
   "execution_count": 113,
   "metadata": {},
   "outputs": [
    {
     "name": "stdout",
     "output_type": "stream",
     "text": [
      "Mean score: 0.5849368657758959\n"
     ]
    }
   ],
   "source": [
    "bag_rf = BaggingClassifier(base_estimator=rf_clf, n_estimators=100,bootstrap_features=True, max_samples=50, max_features=100)\n",
    "\n",
    "score = cross_val_score(estimator=bag_rf, X=X_scaled, y=y, scoring='recall_weighted', cv=kFold, n_jobs=-1)\n",
    "print('Mean score:', score.mean())"
   ]
  },
  {
   "cell_type": "markdown",
   "metadata": {},
   "source": [
    "The bagging algorithm has raised the bias and doesn't improve our model"
   ]
  },
  {
   "cell_type": "markdown",
   "metadata": {},
   "source": [
    "### Adaptive boosting with decision tree classifier"
   ]
  },
  {
   "cell_type": "code",
   "execution_count": 114,
   "metadata": {},
   "outputs": [
    {
     "name": "stdout",
     "output_type": "stream",
     "text": [
      "Train score: 1.00\n",
      "Test score: 0.72\n"
     ]
    }
   ],
   "source": [
    "from sklearn.ensemble import AdaBoostClassifier\n",
    "\n",
    "adaboost_clf = AdaBoostClassifier(base_estimator = dt_clf, learning_rate = 0.5)\n",
    "adaboost_clf.fit(X_train, y_train)\n",
    "print('Train score: {0:0.2f}'.format(adaboost_clf.score(X_train, y_train)))\n",
    "print('Test score: {0:0.2f}'.format(adaboost_clf.score(X_test, y_test)))"
   ]
  },
  {
   "cell_type": "markdown",
   "metadata": {},
   "source": [
    "Adaptive boosting did in fact raise the average training accuracy for the Decision Tree but the test accuracy got reduced"
   ]
  },
  {
   "cell_type": "markdown",
   "metadata": {},
   "source": [
    "### AdBoosting with Random Forest"
   ]
  },
  {
   "cell_type": "code",
   "execution_count": 115,
   "metadata": {},
   "outputs": [
    {
     "name": "stdout",
     "output_type": "stream",
     "text": [
      "Train score: 0.99\n",
      "Test score: 0.69\n"
     ]
    }
   ],
   "source": [
    "from sklearn.ensemble import AdaBoostClassifier\n",
    "adaboost_clf = AdaBoostClassifier(base_estimator = rf_clf, learning_rate = 0.5)\n",
    "adaboost_clf.fit(X_train, y_train)\n",
    "print('Train score: {0:0.2f}'.format(adaboost_clf.score(X_train, y_train)))\n",
    "print('Test score: {0:0.2f}'.format(adaboost_clf.score(X_test, y_test)))"
   ]
  },
  {
   "cell_type": "markdown",
   "metadata": {},
   "source": [
    "Adaptive boosting did in fact raise the average training accuracy for the Decision Tree but the test accuracy got reduced. It is still overfitting"
   ]
  },
  {
   "cell_type": "markdown",
   "metadata": {},
   "source": [
    "### Adaptive Boosting with Logistic Regression"
   ]
  },
  {
   "cell_type": "code",
   "execution_count": 116,
   "metadata": {},
   "outputs": [
    {
     "name": "stdout",
     "output_type": "stream",
     "text": [
      "Train score: 0.57\n",
      "Test score: 0.60\n"
     ]
    }
   ],
   "source": [
    "from sklearn.ensemble import AdaBoostClassifier\n",
    "\n",
    "adaboost_clf = AdaBoostClassifier(base_estimator = lreg_clf, learning_rate = 0.5)\n",
    "adaboost_clf.fit(X_train, y_train)\n",
    "print('Train score: {0:0.2f}'.format(adaboost_clf.score(X_train, y_train)))\n",
    "print('Test score: {0:0.2f}'.format(adaboost_clf.score(X_test, y_test)))"
   ]
  },
  {
   "cell_type": "markdown",
   "metadata": {},
   "source": [
    "Adaptive boosting improved our test accuracy with logistic model and has an improved model fit"
   ]
  },
  {
   "cell_type": "markdown",
   "metadata": {},
   "source": [
    "### Adaptive Boosting with LinearSVC"
   ]
  },
  {
   "cell_type": "code",
   "execution_count": 117,
   "metadata": {},
   "outputs": [
    {
     "name": "stdout",
     "output_type": "stream",
     "text": [
      "Train score: 0.78\n",
      "Test score: 0.72\n"
     ]
    }
   ],
   "source": [
    "from sklearn.ensemble import AdaBoostClassifier\n",
    "\n",
    "adaboost_clf = AdaBoostClassifier(base_estimator = LSVC_clf, algorithm='SAMME')\n",
    "adaboost_clf.fit(X_train, y_train)\n",
    "print('Train score: {0:0.2f}'.format(adaboost_clf.score(X_train, y_train)))\n",
    "print('Test score: {0:0.2f}'.format(adaboost_clf.score(X_test, y_test)))"
   ]
  },
  {
   "cell_type": "markdown",
   "metadata": {},
   "source": [
    "Adaptive boosting did in fact reduced the average test accuracy for the Decision Tree but the test accuracy got increased. Therefore, it has a poor fit with Linear SVC"
   ]
  },
  {
   "cell_type": "markdown",
   "metadata": {},
   "source": [
    "### Adaptive Boosting with KNN"
   ]
  },
  {
   "cell_type": "markdown",
   "metadata": {},
   "source": [
    "KNeighborsClassifier does not support sample weights, so we will not be able to use Adaptive Boosting to lower the model bias."
   ]
  },
  {
   "cell_type": "markdown",
   "metadata": {},
   "source": [
    "### Adaptive Boosting with Kernel SVC"
   ]
  },
  {
   "cell_type": "code",
   "execution_count": 118,
   "metadata": {},
   "outputs": [
    {
     "name": "stdout",
     "output_type": "stream",
     "text": [
      "Train score: 0.53\n",
      "Test score: 0.59\n"
     ]
    }
   ],
   "source": [
    "from sklearn.ensemble import AdaBoostClassifier\n",
    "\n",
    "adaboost_clf = AdaBoostClassifier(base_estimator = KSVC_clf, algorithm='SAMME')\n",
    "adaboost_clf.fit(X_train, y_train)\n",
    "print('Train score: {0:0.2f}'.format(adaboost_clf.score(X_train, y_train)))\n",
    "print('Test score: {0:0.2f}'.format(adaboost_clf.score(X_test, y_test)))"
   ]
  },
  {
   "cell_type": "markdown",
   "metadata": {},
   "source": [
    "Adaptive boosting has very low accuracy for Kernel SVC. So it's not a good fit"
   ]
  },
  {
   "cell_type": "markdown",
   "metadata": {},
   "source": [
    "### Gradient Boosting"
   ]
  },
  {
   "cell_type": "code",
   "execution_count": 119,
   "metadata": {},
   "outputs": [
    {
     "name": "stdout",
     "output_type": "stream",
     "text": [
      "Train score: 1.00\n",
      "Test score: 0.71\n"
     ]
    }
   ],
   "source": [
    "from sklearn.ensemble import GradientBoostingClassifier\n",
    "\n",
    "gb_clf = GradientBoostingClassifier(learning_rate = 0.05)\n",
    "gb_clf.fit(X_train, y_train)\n",
    "print('Train score: {0:0.2f}'.format(gb_clf.score(X_train, y_train)))\n",
    "print('Test score: {0:0.2f}'.format(gb_clf.score(X_test, y_test)))"
   ]
  },
  {
   "cell_type": "markdown",
   "metadata": {},
   "source": [
    "Gradient Boosting is overfitting the model"
   ]
  },
  {
   "cell_type": "code",
   "execution_count": 120,
   "metadata": {},
   "outputs": [
    {
     "name": "stdout",
     "output_type": "stream",
     "text": [
      "Train score: 1.00\n",
      "Test score: 0.71\n",
      "Mean Accuracy: 0.7304787334010931\n"
     ]
    }
   ],
   "source": [
    "GB = GradientBoostingClassifier()\n",
    "score = cross_val_score(estimator=GB, X=X_scaled, y=y, cv=kFold, n_jobs=-1)\n",
    "gb_clf.fit(X_train, y_train)\n",
    "print('Train score: {0:0.2f}'.format(gb_clf.score(X_train, y_train)))\n",
    "print('Test score: {0:0.2f}'.format(gb_clf.score(X_test, y_test)))\n",
    "print('Mean Accuracy:', score.mean())"
   ]
  },
  {
   "cell_type": "markdown",
   "metadata": {},
   "source": [
    "Gradient Boosting is overfitting the model"
   ]
  },
  {
   "cell_type": "code",
   "execution_count": 121,
   "metadata": {},
   "outputs": [
    {
     "name": "stdout",
     "output_type": "stream",
     "text": [
      "Train score: 1.00\n",
      "Test score: 0.72\n",
      "Mean Accuracy: 0.7259370868152277\n"
     ]
    }
   ],
   "source": [
    "GB2 = GradientBoostingClassifier(min_samples_leaf=9, learning_rate=0.05, n_estimators=100)\n",
    "score = cross_val_score(estimator=GB, X=X_scaled, y=y, cv=kFold, n_jobs=-1)\n",
    "gb_clf.fit(X_train, y_train)\n",
    "print('Train score: {0:0.2f}'.format(gb_clf.score(X_train, y_train)))\n",
    "print('Test score: {0:0.2f}'.format(gb_clf.score(X_test, y_test)))\n",
    "print('Mean Accuracy:', score.mean())"
   ]
  },
  {
   "cell_type": "markdown",
   "metadata": {},
   "source": [
    "\n",
    "It is clear that, while the bagging and boosting techniques mentioned above are\n",
    "usually effective, most did not do much to improve the models.\n",
    "    Due to reasons like imbalanced classes, high dimensionality and lack of observations, we couldn't get an optimal model.\n",
    "\n"
   ]
  },
  {
   "cell_type": "code",
   "execution_count": 122,
   "metadata": {},
   "outputs": [],
   "source": [
    "from sklearn.decomposition import PCA\n",
    "\n",
    "pca = PCA(n_components=100, svd_solver='auto')\n",
    "X_train_pca = pca.fit_transform(X_train)\n",
    "X_test_pca = pca.transform(X_test)\n",
    "X_comb_pca = np.concatenate((X_train_pca, X_test_pca), axis=0)"
   ]
  },
  {
   "cell_type": "code",
   "execution_count": 123,
   "metadata": {},
   "outputs": [
    {
     "data": {
      "text/plain": [
       "(384, 100)"
      ]
     },
     "execution_count": 123,
     "metadata": {},
     "output_type": "execute_result"
    }
   ],
   "source": [
    "X_train_pca.shape"
   ]
  },
  {
   "cell_type": "markdown",
   "metadata": {},
   "source": [
    "### KNN Classification with PCA\n"
   ]
  },
  {
   "cell_type": "code",
   "execution_count": 124,
   "metadata": {},
   "outputs": [
    {
     "data": {
      "text/plain": [
       "GridSearchCV(cv=StratifiedKFold(n_splits=5, random_state=None, shuffle=False),\n",
       "       error_score='raise',\n",
       "       estimator=KNeighborsClassifier(algorithm='auto', leaf_size=30, metric='minkowski',\n",
       "           metric_params=None, n_jobs=-1, n_neighbors=5, p=2,\n",
       "           weights='uniform'),\n",
       "       fit_params=None, iid=True, n_jobs=1,\n",
       "       param_grid={'n_neighbors': [1, 2, 3, 4, 5, 7, 10]},\n",
       "       pre_dispatch='2*n_jobs', refit=True, return_train_score=True,\n",
       "       scoring='recall_weighted', verbose=0)"
      ]
     },
     "execution_count": 124,
     "metadata": {},
     "output_type": "execute_result"
    }
   ],
   "source": [
    "from sklearn.neighbors import KNeighborsClassifier\n",
    "\n",
    "knn_clf = KNeighborsClassifier(n_jobs=-1)\n",
    "\n",
    "param_grid={'n_neighbors':[1,2,3,4,5,7,10]}\n",
    "\n",
    "grid_search = GridSearchCV(knn_clf, param_grid, scoring = 'recall_weighted',cv=kFold, return_train_score=True)\n",
    "grid_search.fit(X_train_pca,y_train)"
   ]
  },
  {
   "cell_type": "code",
   "execution_count": 125,
   "metadata": {},
   "outputs": [
    {
     "data": {
      "text/plain": [
       "{'mean_fit_time': array([0.00308466, 0.00236869, 0.00212483, 0.00316567, 0.00267415,\n",
       "        0.00218716, 0.00213494]),\n",
       " 'mean_score_time': array([0.10493855, 0.10538487, 0.10483413, 0.1056859 , 0.10569105,\n",
       "        0.10504818, 0.10516739]),\n",
       " 'mean_test_score': array([0.5546875 , 0.59114583, 0.59895833, 0.58854167, 0.5859375 ,\n",
       "        0.56770833, 0.57291667]),\n",
       " 'mean_train_score': array([1.        , 0.69659241, 0.67252099, 0.63668232, 0.625623  ,\n",
       "        0.60357192, 0.5761998 ]),\n",
       " 'param_n_neighbors': masked_array(data=[1, 2, 3, 4, 5, 7, 10],\n",
       "              mask=[False, False, False, False, False, False, False],\n",
       "        fill_value='?',\n",
       "             dtype=object),\n",
       " 'params': [{'n_neighbors': 1},\n",
       "  {'n_neighbors': 2},\n",
       "  {'n_neighbors': 3},\n",
       "  {'n_neighbors': 4},\n",
       "  {'n_neighbors': 5},\n",
       "  {'n_neighbors': 7},\n",
       "  {'n_neighbors': 10}],\n",
       " 'rank_test_score': array([7, 2, 1, 3, 4, 6, 5], dtype=int32),\n",
       " 'split0_test_score': array([0.57317073, 0.58536585, 0.59756098, 0.57317073, 0.57317073,\n",
       "        0.54878049, 0.53658537]),\n",
       " 'split0_train_score': array([1.        , 0.68211921, 0.66225166, 0.62251656, 0.61589404,\n",
       "        0.61589404, 0.58609272]),\n",
       " 'split1_test_score': array([0.5375, 0.575 , 0.6   , 0.5875, 0.575 , 0.5625, 0.5625]),\n",
       " 'split1_train_score': array([1.        , 0.69736842, 0.68092105, 0.63815789, 0.62828947,\n",
       "        0.59539474, 0.56578947]),\n",
       " 'split2_test_score': array([0.51948052, 0.57142857, 0.58441558, 0.55844156, 0.57142857,\n",
       "        0.53246753, 0.55844156]),\n",
       " 'split2_train_score': array([1.        , 0.71661238, 0.67752443, 0.6514658 , 0.63192182,\n",
       "        0.60912052, 0.58306189]),\n",
       " 'split3_test_score': array([0.57534247, 0.61643836, 0.5890411 , 0.57534247, 0.57534247,\n",
       "        0.5890411 , 0.60273973]),\n",
       " 'split3_train_score': array([1.        , 0.70096463, 0.67524116, 0.63665595, 0.62700965,\n",
       "        0.60450161, 0.56913183]),\n",
       " 'split4_test_score': array([0.56944444, 0.61111111, 0.625     , 0.65277778, 0.63888889,\n",
       "        0.61111111, 0.61111111]),\n",
       " 'split4_train_score': array([1.        , 0.68589744, 0.66666667, 0.63461538, 0.625     ,\n",
       "        0.59294872, 0.57692308]),\n",
       " 'std_fit_time': array([0.00138075, 0.00094315, 0.00096068, 0.00028652, 0.00084035,\n",
       "        0.00035065, 0.00073961]),\n",
       " 'std_score_time': array([0.00118569, 0.00071379, 0.00113559, 0.00037395, 0.00057638,\n",
       "        0.00093073, 0.00022524]),\n",
       " 'std_test_score': array([0.02247183, 0.01832354, 0.01374428, 0.03223586, 0.0254755 ,\n",
       "        0.0277653 , 0.02809087]),\n",
       " 'std_train_score': array([0.        , 0.01220142, 0.00696745, 0.00922681, 0.00536188,\n",
       "        0.00852297, 0.00779503])}"
      ]
     },
     "execution_count": 125,
     "metadata": {},
     "output_type": "execute_result"
    }
   ],
   "source": [
    "grid_search.cv_results_"
   ]
  },
  {
   "cell_type": "code",
   "execution_count": 126,
   "metadata": {},
   "outputs": [
    {
     "data": {
      "text/plain": [
       "{'n_neighbors': 3}"
      ]
     },
     "execution_count": 126,
     "metadata": {},
     "output_type": "execute_result"
    }
   ],
   "source": [
    "grid_search.best_params_"
   ]
  },
  {
   "cell_type": "code",
   "execution_count": 127,
   "metadata": {},
   "outputs": [
    {
     "data": {
      "text/plain": [
       "0.5989583333333334"
      ]
     },
     "execution_count": 127,
     "metadata": {},
     "output_type": "execute_result"
    }
   ],
   "source": [
    "grid_search.best_score_"
   ]
  },
  {
   "cell_type": "code",
   "execution_count": 128,
   "metadata": {},
   "outputs": [
    {
     "data": {
      "text/plain": [
       "KNeighborsClassifier(algorithm='auto', leaf_size=30, metric='minkowski',\n",
       "           metric_params=None, n_jobs=1, n_neighbors=3, p=2,\n",
       "           weights='uniform')"
      ]
     },
     "execution_count": 128,
     "metadata": {},
     "output_type": "execute_result"
    }
   ],
   "source": [
    "knn_clf=KNeighborsClassifier(n_neighbors=3)\n",
    "knn_clf.fit(X_train_pca, y_train)"
   ]
  },
  {
   "cell_type": "code",
   "execution_count": 129,
   "metadata": {},
   "outputs": [
    {
     "name": "stdout",
     "output_type": "stream",
     "text": [
      "Train Recall score: 0.6770833333333334\n",
      "Test Recall score: 0.6470588235294118\n"
     ]
    },
    {
     "data": {
      "text/plain": [
       "array([[40,  0,  0,  0,  0,  0,  0,  0,  0,  0,  0],\n",
       "       [ 4,  0,  0,  0,  0,  0,  0,  0,  0,  0,  0],\n",
       "       [ 2,  0,  2,  0,  0,  0,  0,  0,  0,  0,  0],\n",
       "       [ 3,  0,  0,  1,  0,  0,  0,  0,  0,  0,  0],\n",
       "       [ 1,  0,  0,  0,  0,  0,  0,  0,  0,  0,  0],\n",
       "       [ 3,  0,  0,  0,  0,  0,  0,  0,  0,  0,  0],\n",
       "       [ 1,  0,  0,  0,  0,  0,  0,  0,  0,  0,  0],\n",
       "       [ 4,  0,  0,  0,  0,  0,  0,  1,  0,  0,  0],\n",
       "       [ 1,  0,  0,  0,  0,  0,  0,  0,  0,  0,  0],\n",
       "       [ 1,  0,  0,  0,  0,  0,  0,  0,  0,  0,  0],\n",
       "       [ 3,  1,  0,  0,  0,  0,  0,  0,  0,  0,  0]])"
      ]
     },
     "execution_count": 129,
     "metadata": {},
     "output_type": "execute_result"
    }
   ],
   "source": [
    "y_pred_train = knn_clf.predict(X_train_pca)\n",
    "y_pred_test = knn_clf.predict(X_test_pca)\n",
    "\n",
    "knn_pca_train_recall_score = recall_score(y_train, y_pred_train, average='weighted')\n",
    "knn_pca_test_recall_score = recall_score(y_test, y_pred_test, average='weighted')\n",
    "print('Train Recall score: {}'\n",
    "      .format(knn_pca_train_recall_score))\n",
    "print('Test Recall score: {}'\n",
    "      .format(knn_pca_test_recall_score))\n",
    "\n",
    "metrics.confusion_matrix(y_test, y_pred_test)"
   ]
  },
  {
   "cell_type": "markdown",
   "metadata": {},
   "source": [
    "KNN shows an improved model accuracy and fit after applying PCA"
   ]
  },
  {
   "cell_type": "markdown",
   "metadata": {},
   "source": [
    "### Logistic Regression with PCA"
   ]
  },
  {
   "cell_type": "code",
   "execution_count": 130,
   "metadata": {},
   "outputs": [
    {
     "data": {
      "text/plain": [
       "GridSearchCV(cv=StratifiedKFold(n_splits=5, random_state=None, shuffle=False),\n",
       "       error_score='raise',\n",
       "       estimator=LogisticRegression(C=1.0, class_weight=None, dual=False, fit_intercept=True,\n",
       "          intercept_scaling=1, max_iter=100, multi_class='multinomial',\n",
       "          n_jobs=1, penalty='l2', random_state=None, solver='lbfgs',\n",
       "          tol=0.0001, verbose=0, warm_start=False),\n",
       "       fit_params=None, iid=True, n_jobs=1,\n",
       "       param_grid={'C': [1e-05, 0.0001, 0.001, 0.01, 0.1, 1, 10, 100]},\n",
       "       pre_dispatch='2*n_jobs', refit=True, return_train_score=True,\n",
       "       scoring='recall_weighted', verbose=0)"
      ]
     },
     "execution_count": 130,
     "metadata": {},
     "output_type": "execute_result"
    }
   ],
   "source": [
    "from sklearn.linear_model import LogisticRegression\n",
    "\n",
    "lreg_clf = LogisticRegression(multi_class='multinomial', solver='lbfgs')\n",
    "\n",
    "param_grid = {'C': [0.00001,0.0001,0.001,0.01,0.1,1,10,100]}\n",
    "\n",
    "grid_search = GridSearchCV(lreg_clf, param_grid, scoring = 'recall_weighted',cv=kFold, return_train_score=True)\n",
    "grid_search.fit(X_train_pca,y_train)"
   ]
  },
  {
   "cell_type": "code",
   "execution_count": 131,
   "metadata": {},
   "outputs": [
    {
     "data": {
      "text/plain": [
       "{'mean_fit_time': array([0.07066083, 0.07231317, 0.04898829, 0.02286568, 0.01763182,\n",
       "        0.02276917, 0.05267158, 0.06947045]),\n",
       " 'mean_score_time': array([0.00062094, 0.0006351 , 0.00060477, 0.00064573, 0.00061183,\n",
       "        0.00061283, 0.00062594, 0.0007266 ]),\n",
       " 'mean_test_score': array([0.53385417, 0.53385417, 0.53385417, 0.53385417, 0.609375  ,\n",
       "        0.703125  , 0.6875    , 0.65364583]),\n",
       " 'mean_train_score': array([0.53393884, 0.53393884, 0.53393884, 0.53393884, 0.64196531,\n",
       "        0.82942694, 0.95573529, 0.99870108]),\n",
       " 'param_C': masked_array(data=[1e-05, 0.0001, 0.001, 0.01, 0.1, 1, 10, 100],\n",
       "              mask=[False, False, False, False, False, False, False, False],\n",
       "        fill_value='?',\n",
       "             dtype=object),\n",
       " 'params': [{'C': 1e-05},\n",
       "  {'C': 0.0001},\n",
       "  {'C': 0.001},\n",
       "  {'C': 0.01},\n",
       "  {'C': 0.1},\n",
       "  {'C': 1},\n",
       "  {'C': 10},\n",
       "  {'C': 100}],\n",
       " 'rank_test_score': array([5, 5, 5, 5, 4, 1, 2, 3], dtype=int32),\n",
       " 'split0_test_score': array([0.5       , 0.5       , 0.5       , 0.5       , 0.59756098,\n",
       "        0.67073171, 0.69512195, 0.63414634]),\n",
       " 'split0_train_score': array([0.54304636, 0.54304636, 0.54304636, 0.54304636, 0.63907285,\n",
       "        0.82781457, 0.95364238, 1.        ]),\n",
       " 'split1_test_score': array([0.5125, 0.5125, 0.5125, 0.5125, 0.6   , 0.7   , 0.625 , 0.6125]),\n",
       " 'split1_train_score': array([0.53947368, 0.53947368, 0.53947368, 0.53947368, 0.65131579,\n",
       "        0.83552632, 0.95394737, 0.99671053]),\n",
       " 'split2_test_score': array([0.53246753, 0.53246753, 0.53246753, 0.53246753, 0.58441558,\n",
       "        0.67532468, 0.66233766, 0.63636364]),\n",
       " 'split2_train_score': array([0.53420195, 0.53420195, 0.53420195, 0.53420195, 0.64495114,\n",
       "        0.82410423, 0.96416938, 1.        ]),\n",
       " 'split3_test_score': array([0.56164384, 0.56164384, 0.56164384, 0.56164384, 0.61643836,\n",
       "        0.7260274 , 0.73972603, 0.71232877]),\n",
       " 'split3_train_score': array([0.52733119, 0.52733119, 0.52733119, 0.52733119, 0.63987138,\n",
       "        0.82315113, 0.95819936, 1.        ]),\n",
       " 'split4_test_score': array([0.56944444, 0.56944444, 0.56944444, 0.56944444, 0.65277778,\n",
       "        0.75      , 0.72222222, 0.68055556]),\n",
       " 'split4_train_score': array([0.52564103, 0.52564103, 0.52564103, 0.52564103, 0.63461538,\n",
       "        0.83653846, 0.94871795, 0.99679487]),\n",
       " 'std_fit_time': array([0.00224106, 0.00766629, 0.00533565, 0.00188572, 0.00168337,\n",
       "        0.00054586, 0.00492807, 0.00577164]),\n",
       " 'std_score_time': array([1.82950182e-05, 3.81202604e-05, 3.96836248e-06, 3.64213078e-05,\n",
       "        1.87412169e-05, 1.18727665e-05, 1.39759661e-05, 1.42094081e-04]),\n",
       " 'std_test_score': array([0.02691538, 0.02691538, 0.02691538, 0.02691538, 0.02314586,\n",
       "        0.02987949, 0.04120367, 0.03583607]),\n",
       " 'std_train_score': array([0.00672555, 0.00672555, 0.00672555, 0.00672555, 0.00571172,\n",
       "        0.00562304, 0.00517736, 0.00159107])}"
      ]
     },
     "execution_count": 131,
     "metadata": {},
     "output_type": "execute_result"
    }
   ],
   "source": [
    "grid_search.cv_results_"
   ]
  },
  {
   "cell_type": "code",
   "execution_count": 132,
   "metadata": {},
   "outputs": [
    {
     "data": {
      "text/plain": [
       "{'C': 1}"
      ]
     },
     "execution_count": 132,
     "metadata": {},
     "output_type": "execute_result"
    }
   ],
   "source": [
    "grid_search.best_params_"
   ]
  },
  {
   "cell_type": "code",
   "execution_count": 133,
   "metadata": {},
   "outputs": [
    {
     "data": {
      "text/plain": [
       "0.703125"
      ]
     },
     "execution_count": 133,
     "metadata": {},
     "output_type": "execute_result"
    }
   ],
   "source": [
    "grid_search.best_score_"
   ]
  },
  {
   "cell_type": "code",
   "execution_count": 134,
   "metadata": {},
   "outputs": [
    {
     "data": {
      "text/plain": [
       "LogisticRegression(C=1, class_weight=None, dual=False, fit_intercept=True,\n",
       "          intercept_scaling=1, max_iter=100, multi_class='multinomial',\n",
       "          n_jobs=1, penalty='l2', random_state=None, solver='lbfgs',\n",
       "          tol=0.0001, verbose=0, warm_start=False)"
      ]
     },
     "execution_count": 134,
     "metadata": {},
     "output_type": "execute_result"
    }
   ],
   "source": [
    "lreg_clf = LogisticRegression(multi_class='multinomial', solver='lbfgs',C=1)\n",
    "lreg_clf.fit(X_train_pca, y_train)"
   ]
  },
  {
   "cell_type": "code",
   "execution_count": 135,
   "metadata": {},
   "outputs": [
    {
     "name": "stdout",
     "output_type": "stream",
     "text": [
      "Train Recall score: 0.8255208333333334\n",
      "Test Recall score: 0.6764705882352942\n"
     ]
    },
    {
     "data": {
      "text/plain": [
       "array([[37,  1,  0,  0,  0,  2,  0,  0,  0,  0,  0],\n",
       "       [ 1,  1,  0,  1,  0,  0,  0,  1,  0,  0,  0],\n",
       "       [ 0,  1,  3,  0,  0,  0,  0,  0,  0,  0,  0],\n",
       "       [ 4,  0,  0,  0,  0,  0,  0,  0,  0,  0,  0],\n",
       "       [ 1,  0,  0,  0,  0,  0,  0,  0,  0,  0,  0],\n",
       "       [ 3,  0,  0,  0,  0,  0,  0,  0,  0,  0,  0],\n",
       "       [ 0,  0,  0,  0,  0,  0,  1,  0,  0,  0,  0],\n",
       "       [ 1,  0,  0,  0,  0,  0,  0,  4,  0,  0,  0],\n",
       "       [ 1,  0,  0,  0,  0,  0,  0,  0,  0,  0,  0],\n",
       "       [ 1,  0,  0,  0,  0,  0,  0,  0,  0,  0,  0],\n",
       "       [ 3,  1,  0,  0,  0,  0,  0,  0,  0,  0,  0]])"
      ]
     },
     "execution_count": 135,
     "metadata": {},
     "output_type": "execute_result"
    }
   ],
   "source": [
    "y_pred_train = lreg_clf.predict(X_train_pca)\n",
    "y_pred_test = lreg_clf.predict(X_test_pca)\n",
    "\n",
    "logreg_pca_train_recall_score = recall_score(y_train, y_pred_train, average='weighted')\n",
    "logreg_pca_test_recall_score = recall_score(y_test, y_pred_test, average='weighted')\n",
    "print('Train Recall score: {}'\n",
    "      .format(logreg_pca_train_recall_score))\n",
    "print('Test Recall score: {}'\n",
    "      .format(logreg_pca_test_recall_score))\n",
    "\n",
    "metrics.confusion_matrix(y_test, y_pred_test)"
   ]
  },
  {
   "cell_type": "markdown",
   "metadata": {},
   "source": [
    "Logistics Regression shows an improved model accuracy and fit after applying PCA."
   ]
  },
  {
   "cell_type": "markdown",
   "metadata": {},
   "source": [
    "### Linear SVM with PCA"
   ]
  },
  {
   "cell_type": "code",
   "execution_count": 136,
   "metadata": {},
   "outputs": [
    {
     "data": {
      "text/plain": [
       "GridSearchCV(cv=StratifiedKFold(n_splits=5, random_state=None, shuffle=False),\n",
       "       error_score='raise',\n",
       "       estimator=LinearSVC(C=1.0, class_weight=None, dual=True, fit_intercept=True,\n",
       "     intercept_scaling=1, loss='squared_hinge', max_iter=1000,\n",
       "     multi_class='crammer_singer', penalty='l2', random_state=None,\n",
       "     tol=0.0001, verbose=0),\n",
       "       fit_params=None, iid=True, n_jobs=1,\n",
       "       param_grid={'C': [1e-05, 0.0001, 0.001, 0.01, 0.1, 1, 10, 100]},\n",
       "       pre_dispatch='2*n_jobs', refit=True, return_train_score=True,\n",
       "       scoring='recall_weighted', verbose=0)"
      ]
     },
     "execution_count": 136,
     "metadata": {},
     "output_type": "execute_result"
    }
   ],
   "source": [
    "from sklearn.svm import LinearSVC\n",
    "\n",
    "LSVC_clf = LinearSVC(multi_class='crammer_singer')\n",
    "\n",
    "param_grid = {'C': [0.00001,0.0001,0.001,0.01,0.1,1,10,100]}\n",
    "\n",
    "grid_search = GridSearchCV(LSVC_clf, param_grid, scoring = 'recall_weighted',cv=kFold, return_train_score=True)\n",
    "grid_search.fit(X_train_pca,y_train)"
   ]
  },
  {
   "cell_type": "code",
   "execution_count": 137,
   "metadata": {},
   "outputs": [
    {
     "data": {
      "text/plain": [
       "{'mean_fit_time': array([0.00384817, 0.00540633, 0.01134663, 0.01593122, 0.02146134,\n",
       "        0.06462941, 0.19958692, 0.25545306]),\n",
       " 'mean_score_time': array([0.00075207, 0.00059576, 0.00068483, 0.00067716, 0.00064921,\n",
       "        0.00078516, 0.00079546, 0.00076509]),\n",
       " 'mean_test_score': array([0.61458333, 0.61458333, 0.61458333, 0.6171875 , 0.70052083,\n",
       "        0.70052083, 0.609375  , 0.58854167]),\n",
       " 'mean_train_score': array([0.64708695, 0.64578367, 0.64578367, 0.65291468, 0.776758  ,\n",
       "        0.91268746, 0.98694107, 1.        ]),\n",
       " 'param_C': masked_array(data=[1e-05, 0.0001, 0.001, 0.01, 0.1, 1, 10, 100],\n",
       "              mask=[False, False, False, False, False, False, False, False],\n",
       "        fill_value='?',\n",
       "             dtype=object),\n",
       " 'params': [{'C': 1e-05},\n",
       "  {'C': 0.0001},\n",
       "  {'C': 0.001},\n",
       "  {'C': 0.01},\n",
       "  {'C': 0.1},\n",
       "  {'C': 1},\n",
       "  {'C': 10},\n",
       "  {'C': 100}],\n",
       " 'rank_test_score': array([4, 4, 4, 3, 1, 1, 7, 8], dtype=int32),\n",
       " 'split0_test_score': array([0.62195122, 0.62195122, 0.62195122, 0.62195122, 0.68292683,\n",
       "        0.67073171, 0.65853659, 0.59756098]),\n",
       " 'split0_train_score': array([0.63907285, 0.63576159, 0.63576159, 0.63907285, 0.78476821,\n",
       "        0.90066225, 0.98344371, 1.        ]),\n",
       " 'split1_test_score': array([0.575 , 0.575 , 0.575 , 0.5875, 0.675 , 0.725 , 0.525 , 0.5375]),\n",
       " 'split1_train_score': array([0.64802632, 0.64802632, 0.64802632, 0.65131579, 0.78289474,\n",
       "        0.91447368, 0.98355263, 1.        ]),\n",
       " 'split2_test_score': array([0.61038961, 0.61038961, 0.61038961, 0.61038961, 0.7012987 ,\n",
       "        0.67532468, 0.62337662, 0.61038961]),\n",
       " 'split2_train_score': array([0.64495114, 0.64495114, 0.64495114, 0.65472313, 0.77198697,\n",
       "        0.90879479, 0.98697068, 1.        ]),\n",
       " 'split3_test_score': array([0.60273973, 0.60273973, 0.60273973, 0.60273973, 0.69863014,\n",
       "        0.71232877, 0.63013699, 0.65753425]),\n",
       " 'split3_train_score': array([0.65594855, 0.65594855, 0.65594855, 0.67202572, 0.77170418,\n",
       "        0.92604502, 0.9903537 , 1.        ]),\n",
       " 'split4_test_score': array([0.66666667, 0.66666667, 0.66666667, 0.66666667, 0.75      ,\n",
       "        0.72222222, 0.61111111, 0.54166667]),\n",
       " 'split4_train_score': array([0.6474359 , 0.64423077, 0.64423077, 0.6474359 , 0.7724359 ,\n",
       "        0.91346154, 0.99038462, 1.        ]),\n",
       " 'std_fit_time': array([0.00080096, 0.00023823, 0.00092789, 0.00093623, 0.00195484,\n",
       "        0.0048436 , 0.05495944, 0.06601989]),\n",
       " 'std_score_time': array([2.22793180e-04, 1.98351649e-05, 7.36377078e-05, 4.64703193e-05,\n",
       "        2.94347990e-05, 1.97109740e-05, 3.74997183e-05, 1.37276109e-05]),\n",
       " 'std_test_score': array([0.02961142, 0.02961142, 0.02961142, 0.02639022, 0.02572213,\n",
       "        0.02358905, 0.04605516, 0.04441538]),\n",
       " 'std_train_score': array([0.00544646, 0.00651001, 0.00651001, 0.01088735, 0.00581046,\n",
       "        0.0082701 , 0.00307304, 0.        ])}"
      ]
     },
     "execution_count": 137,
     "metadata": {},
     "output_type": "execute_result"
    }
   ],
   "source": [
    "grid_search.cv_results_"
   ]
  },
  {
   "cell_type": "code",
   "execution_count": 138,
   "metadata": {},
   "outputs": [
    {
     "data": {
      "text/plain": [
       "{'C': 0.1}"
      ]
     },
     "execution_count": 138,
     "metadata": {},
     "output_type": "execute_result"
    }
   ],
   "source": [
    "grid_search.best_params_"
   ]
  },
  {
   "cell_type": "code",
   "execution_count": 139,
   "metadata": {},
   "outputs": [
    {
     "data": {
      "text/plain": [
       "0.7005208333333334"
      ]
     },
     "execution_count": 139,
     "metadata": {},
     "output_type": "execute_result"
    }
   ],
   "source": [
    "grid_search.best_score_"
   ]
  },
  {
   "cell_type": "code",
   "execution_count": 140,
   "metadata": {},
   "outputs": [
    {
     "data": {
      "text/plain": [
       "LinearSVC(C=0.1, class_weight=None, dual=True, fit_intercept=True,\n",
       "     intercept_scaling=1, loss='squared_hinge', max_iter=1000,\n",
       "     multi_class='crammer_singer', penalty='l2', random_state=None,\n",
       "     tol=0.0001, verbose=0)"
      ]
     },
     "execution_count": 140,
     "metadata": {},
     "output_type": "execute_result"
    }
   ],
   "source": [
    "LSVC_clf = LinearSVC(multi_class='crammer_singer', C=0.1)\n",
    "LSVC_clf.fit(X_train_pca, y_train)"
   ]
  },
  {
   "cell_type": "code",
   "execution_count": 141,
   "metadata": {},
   "outputs": [
    {
     "name": "stdout",
     "output_type": "stream",
     "text": [
      "Train Recall score: 0.7760416666666666\n",
      "Test Recall score: 0.7352941176470589\n"
     ]
    },
    {
     "data": {
      "text/plain": [
       "array([[40,  0,  0,  0,  0,  0,  0,  0,  0,  0,  0],\n",
       "       [ 1,  1,  0,  1,  0,  0,  0,  1,  0,  0,  0],\n",
       "       [ 0,  1,  3,  0,  0,  0,  0,  0,  0,  0,  0],\n",
       "       [ 3,  0,  0,  1,  0,  0,  0,  0,  0,  0,  0],\n",
       "       [ 1,  0,  0,  0,  0,  0,  0,  0,  0,  0,  0],\n",
       "       [ 3,  0,  0,  0,  0,  0,  0,  0,  0,  0,  0],\n",
       "       [ 0,  0,  0,  0,  0,  0,  1,  0,  0,  0,  0],\n",
       "       [ 1,  0,  0,  0,  0,  0,  0,  4,  0,  0,  0],\n",
       "       [ 1,  0,  0,  0,  0,  0,  0,  0,  0,  0,  0],\n",
       "       [ 1,  0,  0,  0,  0,  0,  0,  0,  0,  0,  0],\n",
       "       [ 3,  1,  0,  0,  0,  0,  0,  0,  0,  0,  0]])"
      ]
     },
     "execution_count": 141,
     "metadata": {},
     "output_type": "execute_result"
    }
   ],
   "source": [
    "y_pred_train = LSVC_clf.predict(X_train_pca)\n",
    "y_pred_test = LSVC_clf.predict(X_test_pca)\n",
    "\n",
    "lscvc_pca_train_recall_score = recall_score(y_train, y_pred_train, average='weighted')\n",
    "lscv_pca_test_recall_score = recall_score(y_test, y_pred_test, average='weighted')\n",
    "print('Train Recall score: {}'\n",
    "      .format(lscvc_pca_train_recall_score))\n",
    "print('Test Recall score: {}'\n",
    "      .format(lscv_pca_test_recall_score))\n",
    "\n",
    "metrics.confusion_matrix(y_test, y_pred_test)"
   ]
  },
  {
   "cell_type": "markdown",
   "metadata": {},
   "source": [
    "Linear SVM still overfits the model after applying PCA."
   ]
  },
  {
   "cell_type": "markdown",
   "metadata": {},
   "source": [
    "### Kernalised SVM with PCA"
   ]
  },
  {
   "cell_type": "code",
   "execution_count": 142,
   "metadata": {},
   "outputs": [
    {
     "data": {
      "text/plain": [
       "GridSearchCV(cv=StratifiedKFold(n_splits=5, random_state=None, shuffle=False),\n",
       "       error_score='raise',\n",
       "       estimator=SVC(C=1.0, cache_size=200, class_weight=None, coef0=0.0,\n",
       "  decision_function_shape='ovr', degree=3, gamma='auto', kernel='rbf',\n",
       "  max_iter=-1, probability=False, random_state=None, shrinking=True,\n",
       "  tol=0.001, verbose=False),\n",
       "       fit_params=None, iid=True, n_jobs=1,\n",
       "       param_grid={'C': [0.0001, 0.001, 0.01, 0.1, 1, 10], 'gamma': [0.0001, 0.001, 0.01, 0.1, 1, 10]},\n",
       "       pre_dispatch='2*n_jobs', refit=True, return_train_score=True,\n",
       "       scoring='recall_weighted', verbose=0)"
      ]
     },
     "execution_count": 142,
     "metadata": {},
     "output_type": "execute_result"
    }
   ],
   "source": [
    "from sklearn import svm\n",
    "\n",
    "KSVC_clf = svm.SVC(kernel='rbf')\n",
    "\n",
    "param_grid = {'C': [0.0001,0.001,0.01,0.1,1,10],\n",
    "          'gamma': [0.0001,0.001,0.01,0.1,1,10]}\n",
    "\n",
    "grid_search = GridSearchCV(KSVC_clf, param_grid, scoring = 'recall_weighted',cv=kFold, return_train_score=True)\n",
    "grid_search.fit(X_train_pca,y_train)"
   ]
  },
  {
   "cell_type": "code",
   "execution_count": 143,
   "metadata": {},
   "outputs": [
    {
     "data": {
      "text/plain": [
       "{'mean_fit_time': array([0.01414165, 0.01295366, 0.01228118, 0.01236997, 0.01281295,\n",
       "        0.01266971, 0.01230402, 0.01225595, 0.01228704, 0.0125978 ,\n",
       "        0.01292105, 0.01527786, 0.01217208, 0.01209855, 0.01301517,\n",
       "        0.01772442, 0.03512678, 0.04573731, 0.01218777, 0.01326957,\n",
       "        0.01680398, 0.02097392, 0.04523244, 0.06149678, 0.01322584,\n",
       "        0.01706586, 0.01866612, 0.02125564, 0.05264406, 0.06671934,\n",
       "        0.01638527, 0.01755128, 0.01763983, 0.0223217 , 0.05633111,\n",
       "        0.06861205]),\n",
       " 'mean_score_time': array([0.00329871, 0.00356684, 0.00285521, 0.00274425, 0.00295897,\n",
       "        0.00276265, 0.00298824, 0.00278268, 0.00276113, 0.00278573,\n",
       "        0.00296555, 0.00315032, 0.00277066, 0.00278492, 0.00292029,\n",
       "        0.00301371, 0.00357456, 0.00362425, 0.00293903, 0.00288787,\n",
       "        0.00310726, 0.0042541 , 0.00363517, 0.00366492, 0.00281429,\n",
       "        0.00395212, 0.00341358, 0.00322762, 0.00369411, 0.00366917,\n",
       "        0.00304942, 0.00311198, 0.00310626, 0.0033308 , 0.00374336,\n",
       "        0.00368791]),\n",
       " 'mean_test_score': array([0.53385417, 0.53385417, 0.53385417, 0.53385417, 0.53385417,\n",
       "        0.53385417, 0.53385417, 0.53385417, 0.53385417, 0.53385417,\n",
       "        0.53385417, 0.53385417, 0.53385417, 0.53385417, 0.53385417,\n",
       "        0.53385417, 0.53385417, 0.53385417, 0.53385417, 0.53385417,\n",
       "        0.53385417, 0.53385417, 0.53385417, 0.53385417, 0.53385417,\n",
       "        0.53385417, 0.53385417, 0.65104167, 0.53385417, 0.53385417,\n",
       "        0.53385417, 0.53385417, 0.69791667, 0.70572917, 0.5390625 ,\n",
       "        0.53385417]),\n",
       " 'mean_train_score': array([0.53393884, 0.53393884, 0.53393884, 0.53393884, 0.53393884,\n",
       "        0.53393884, 0.53393884, 0.53393884, 0.53393884, 0.53393884,\n",
       "        0.53393884, 0.53393884, 0.53393884, 0.53393884, 0.53393884,\n",
       "        0.53393884, 0.53393884, 0.53393884, 0.53393884, 0.53393884,\n",
       "        0.53393884, 0.53393884, 0.53393884, 0.53393884, 0.53393884,\n",
       "        0.53393884, 0.53783559, 0.73766313, 0.94340196, 1.        ,\n",
       "        0.53393884, 0.54170675, 0.7565506 , 0.96942251, 1.        ,\n",
       "        1.        ]),\n",
       " 'param_C': masked_array(data=[0.0001, 0.0001, 0.0001, 0.0001, 0.0001, 0.0001, 0.001,\n",
       "                    0.001, 0.001, 0.001, 0.001, 0.001, 0.01, 0.01, 0.01,\n",
       "                    0.01, 0.01, 0.01, 0.1, 0.1, 0.1, 0.1, 0.1, 0.1, 1, 1,\n",
       "                    1, 1, 1, 1, 10, 10, 10, 10, 10, 10],\n",
       "              mask=[False, False, False, False, False, False, False, False,\n",
       "                    False, False, False, False, False, False, False, False,\n",
       "                    False, False, False, False, False, False, False, False,\n",
       "                    False, False, False, False, False, False, False, False,\n",
       "                    False, False, False, False],\n",
       "        fill_value='?',\n",
       "             dtype=object),\n",
       " 'param_gamma': masked_array(data=[0.0001, 0.001, 0.01, 0.1, 1, 10, 0.0001, 0.001, 0.01,\n",
       "                    0.1, 1, 10, 0.0001, 0.001, 0.01, 0.1, 1, 10, 0.0001,\n",
       "                    0.001, 0.01, 0.1, 1, 10, 0.0001, 0.001, 0.01, 0.1, 1,\n",
       "                    10, 0.0001, 0.001, 0.01, 0.1, 1, 10],\n",
       "              mask=[False, False, False, False, False, False, False, False,\n",
       "                    False, False, False, False, False, False, False, False,\n",
       "                    False, False, False, False, False, False, False, False,\n",
       "                    False, False, False, False, False, False, False, False,\n",
       "                    False, False, False, False],\n",
       "        fill_value='?',\n",
       "             dtype=object),\n",
       " 'params': [{'C': 0.0001, 'gamma': 0.0001},\n",
       "  {'C': 0.0001, 'gamma': 0.001},\n",
       "  {'C': 0.0001, 'gamma': 0.01},\n",
       "  {'C': 0.0001, 'gamma': 0.1},\n",
       "  {'C': 0.0001, 'gamma': 1},\n",
       "  {'C': 0.0001, 'gamma': 10},\n",
       "  {'C': 0.001, 'gamma': 0.0001},\n",
       "  {'C': 0.001, 'gamma': 0.001},\n",
       "  {'C': 0.001, 'gamma': 0.01},\n",
       "  {'C': 0.001, 'gamma': 0.1},\n",
       "  {'C': 0.001, 'gamma': 1},\n",
       "  {'C': 0.001, 'gamma': 10},\n",
       "  {'C': 0.01, 'gamma': 0.0001},\n",
       "  {'C': 0.01, 'gamma': 0.001},\n",
       "  {'C': 0.01, 'gamma': 0.01},\n",
       "  {'C': 0.01, 'gamma': 0.1},\n",
       "  {'C': 0.01, 'gamma': 1},\n",
       "  {'C': 0.01, 'gamma': 10},\n",
       "  {'C': 0.1, 'gamma': 0.0001},\n",
       "  {'C': 0.1, 'gamma': 0.001},\n",
       "  {'C': 0.1, 'gamma': 0.01},\n",
       "  {'C': 0.1, 'gamma': 0.1},\n",
       "  {'C': 0.1, 'gamma': 1},\n",
       "  {'C': 0.1, 'gamma': 10},\n",
       "  {'C': 1, 'gamma': 0.0001},\n",
       "  {'C': 1, 'gamma': 0.001},\n",
       "  {'C': 1, 'gamma': 0.01},\n",
       "  {'C': 1, 'gamma': 0.1},\n",
       "  {'C': 1, 'gamma': 1},\n",
       "  {'C': 1, 'gamma': 10},\n",
       "  {'C': 10, 'gamma': 0.0001},\n",
       "  {'C': 10, 'gamma': 0.001},\n",
       "  {'C': 10, 'gamma': 0.01},\n",
       "  {'C': 10, 'gamma': 0.1},\n",
       "  {'C': 10, 'gamma': 1},\n",
       "  {'C': 10, 'gamma': 10}],\n",
       " 'rank_test_score': array([5, 5, 5, 5, 5, 5, 5, 5, 5, 5, 5, 5, 5, 5, 5, 5, 5, 5, 5, 5, 5, 5,\n",
       "        5, 5, 5, 5, 5, 3, 5, 5, 5, 5, 2, 1, 4, 5], dtype=int32),\n",
       " 'split0_test_score': array([0.5       , 0.5       , 0.5       , 0.5       , 0.5       ,\n",
       "        0.5       , 0.5       , 0.5       , 0.5       , 0.5       ,\n",
       "        0.5       , 0.5       , 0.5       , 0.5       , 0.5       ,\n",
       "        0.5       , 0.5       , 0.5       , 0.5       , 0.5       ,\n",
       "        0.5       , 0.5       , 0.5       , 0.5       , 0.5       ,\n",
       "        0.5       , 0.5       , 0.6097561 , 0.5       , 0.5       ,\n",
       "        0.5       , 0.5       , 0.69512195, 0.70731707, 0.51219512,\n",
       "        0.5       ]),\n",
       " 'split0_train_score': array([0.54304636, 0.54304636, 0.54304636, 0.54304636, 0.54304636,\n",
       "        0.54304636, 0.54304636, 0.54304636, 0.54304636, 0.54304636,\n",
       "        0.54304636, 0.54304636, 0.54304636, 0.54304636, 0.54304636,\n",
       "        0.54304636, 0.54304636, 0.54304636, 0.54304636, 0.54304636,\n",
       "        0.54304636, 0.54304636, 0.54304636, 0.54304636, 0.54304636,\n",
       "        0.54304636, 0.54635762, 0.73509934, 0.94039735, 1.        ,\n",
       "        0.54304636, 0.54635762, 0.7615894 , 0.96688742, 1.        ,\n",
       "        1.        ]),\n",
       " 'split1_test_score': array([0.5125, 0.5125, 0.5125, 0.5125, 0.5125, 0.5125, 0.5125, 0.5125,\n",
       "        0.5125, 0.5125, 0.5125, 0.5125, 0.5125, 0.5125, 0.5125, 0.5125,\n",
       "        0.5125, 0.5125, 0.5125, 0.5125, 0.5125, 0.5125, 0.5125, 0.5125,\n",
       "        0.5125, 0.5125, 0.5125, 0.6375, 0.5125, 0.5125, 0.5125, 0.5125,\n",
       "        0.6875, 0.725 , 0.5   , 0.5125]),\n",
       " 'split1_train_score': array([0.53947368, 0.53947368, 0.53947368, 0.53947368, 0.53947368,\n",
       "        0.53947368, 0.53947368, 0.53947368, 0.53947368, 0.53947368,\n",
       "        0.53947368, 0.53947368, 0.53947368, 0.53947368, 0.53947368,\n",
       "        0.53947368, 0.53947368, 0.53947368, 0.53947368, 0.53947368,\n",
       "        0.53947368, 0.53947368, 0.53947368, 0.53947368, 0.53947368,\n",
       "        0.53947368, 0.54276316, 0.74342105, 0.95065789, 1.        ,\n",
       "        0.53947368, 0.54276316, 0.75657895, 0.97368421, 1.        ,\n",
       "        1.        ]),\n",
       " 'split2_test_score': array([0.53246753, 0.53246753, 0.53246753, 0.53246753, 0.53246753,\n",
       "        0.53246753, 0.53246753, 0.53246753, 0.53246753, 0.53246753,\n",
       "        0.53246753, 0.53246753, 0.53246753, 0.53246753, 0.53246753,\n",
       "        0.53246753, 0.53246753, 0.53246753, 0.53246753, 0.53246753,\n",
       "        0.53246753, 0.53246753, 0.53246753, 0.53246753, 0.53246753,\n",
       "        0.53246753, 0.53246753, 0.62337662, 0.53246753, 0.53246753,\n",
       "        0.53246753, 0.53246753, 0.66233766, 0.68831169, 0.54545455,\n",
       "        0.53246753]),\n",
       " 'split2_train_score': array([0.53420195, 0.53420195, 0.53420195, 0.53420195, 0.53420195,\n",
       "        0.53420195, 0.53420195, 0.53420195, 0.53420195, 0.53420195,\n",
       "        0.53420195, 0.53420195, 0.53420195, 0.53420195, 0.53420195,\n",
       "        0.53420195, 0.53420195, 0.53420195, 0.53420195, 0.53420195,\n",
       "        0.53420195, 0.53420195, 0.53420195, 0.53420195, 0.53420195,\n",
       "        0.53420195, 0.53745928, 0.74267101, 0.95114007, 1.        ,\n",
       "        0.53420195, 0.54397394, 0.75895765, 0.97394137, 1.        ,\n",
       "        1.        ]),\n",
       " 'split3_test_score': array([0.56164384, 0.56164384, 0.56164384, 0.56164384, 0.56164384,\n",
       "        0.56164384, 0.56164384, 0.56164384, 0.56164384, 0.56164384,\n",
       "        0.56164384, 0.56164384, 0.56164384, 0.56164384, 0.56164384,\n",
       "        0.56164384, 0.56164384, 0.56164384, 0.56164384, 0.56164384,\n",
       "        0.56164384, 0.56164384, 0.56164384, 0.56164384, 0.56164384,\n",
       "        0.56164384, 0.56164384, 0.65753425, 0.56164384, 0.56164384,\n",
       "        0.56164384, 0.56164384, 0.69863014, 0.68493151, 0.57534247,\n",
       "        0.56164384]),\n",
       " 'split3_train_score': array([0.52733119, 0.52733119, 0.52733119, 0.52733119, 0.52733119,\n",
       "        0.52733119, 0.52733119, 0.52733119, 0.52733119, 0.52733119,\n",
       "        0.52733119, 0.52733119, 0.52733119, 0.52733119, 0.52733119,\n",
       "        0.52733119, 0.52733119, 0.52733119, 0.52733119, 0.52733119,\n",
       "        0.52733119, 0.52733119, 0.52733119, 0.52733119, 0.52733119,\n",
       "        0.52733119, 0.53054662, 0.74276527, 0.94212219, 1.        ,\n",
       "        0.52733119, 0.53697749, 0.75562701, 0.97106109, 1.        ,\n",
       "        1.        ]),\n",
       " 'split4_test_score': array([0.56944444, 0.56944444, 0.56944444, 0.56944444, 0.56944444,\n",
       "        0.56944444, 0.56944444, 0.56944444, 0.56944444, 0.56944444,\n",
       "        0.56944444, 0.56944444, 0.56944444, 0.56944444, 0.56944444,\n",
       "        0.56944444, 0.56944444, 0.56944444, 0.56944444, 0.56944444,\n",
       "        0.56944444, 0.56944444, 0.56944444, 0.56944444, 0.56944444,\n",
       "        0.56944444, 0.56944444, 0.73611111, 0.56944444, 0.56944444,\n",
       "        0.56944444, 0.56944444, 0.75      , 0.72222222, 0.56944444,\n",
       "        0.56944444]),\n",
       " 'split4_train_score': array([0.52564103, 0.52564103, 0.52564103, 0.52564103, 0.52564103,\n",
       "        0.52564103, 0.52564103, 0.52564103, 0.52564103, 0.52564103,\n",
       "        0.52564103, 0.52564103, 0.52564103, 0.52564103, 0.52564103,\n",
       "        0.52564103, 0.52564103, 0.52564103, 0.52564103, 0.52564103,\n",
       "        0.52564103, 0.52564103, 0.52564103, 0.52564103, 0.52564103,\n",
       "        0.52564103, 0.53205128, 0.72435897, 0.93269231, 1.        ,\n",
       "        0.52564103, 0.53846154, 0.75      , 0.96153846, 1.        ,\n",
       "        1.        ]),\n",
       " 'std_fit_time': array([0.00074079, 0.00062293, 0.00044381, 0.00043066, 0.00034809,\n",
       "        0.00046043, 0.00049865, 0.00038125, 0.00042117, 0.00046898,\n",
       "        0.00038184, 0.00046072, 0.00040392, 0.00038705, 0.0004402 ,\n",
       "        0.00061598, 0.00378497, 0.0016349 , 0.00039293, 0.00052446,\n",
       "        0.00083009, 0.00099194, 0.00175358, 0.00091128, 0.00057848,\n",
       "        0.00113984, 0.00148753, 0.00056944, 0.00205583, 0.00383744,\n",
       "        0.00056786, 0.00070752, 0.00059896, 0.0003079 , 0.00380824,\n",
       "        0.0008858 ]),\n",
       " 'std_score_time': array([3.71081631e-04, 1.30797509e-03, 1.11039250e-04, 8.99251418e-05,\n",
       "        2.84174360e-04, 1.03127498e-04, 2.51436401e-04, 6.51924815e-05,\n",
       "        8.07281225e-05, 7.29204540e-05, 3.26338677e-04, 4.85559829e-04,\n",
       "        8.34469114e-05, 8.72819647e-05, 2.99365211e-04, 7.29895185e-05,\n",
       "        1.44104371e-04, 9.79068036e-05, 1.48655802e-04, 9.72044681e-05,\n",
       "        4.53798686e-05, 2.00165191e-03, 1.14839674e-04, 7.76122459e-05,\n",
       "        8.54760366e-05, 1.62082591e-03, 3.05525408e-04, 1.01756267e-04,\n",
       "        2.19028877e-04, 1.07536093e-04, 1.16416684e-04, 1.17851208e-04,\n",
       "        1.01806084e-04, 8.95685770e-05, 6.43684951e-05, 8.72678963e-05]),\n",
       " 'std_test_score': array([0.02691538, 0.02691538, 0.02691538, 0.02691538, 0.02691538,\n",
       "        0.02691538, 0.02691538, 0.02691538, 0.02691538, 0.02691538,\n",
       "        0.02691538, 0.02691538, 0.02691538, 0.02691538, 0.02691538,\n",
       "        0.02691538, 0.02691538, 0.02691538, 0.02691538, 0.02691538,\n",
       "        0.02691538, 0.02691538, 0.02691538, 0.02691538, 0.02691538,\n",
       "        0.02691538, 0.02691538, 0.04382431, 0.02691538, 0.02691538,\n",
       "        0.02691538, 0.02691538, 0.02805047, 0.01649151, 0.03005872,\n",
       "        0.02691538]),\n",
       " 'std_train_score': array([0.00672555, 0.00672555, 0.00672555, 0.00672555, 0.00672555,\n",
       "        0.00672555, 0.00672555, 0.00672555, 0.00672555, 0.00672555,\n",
       "        0.00672555, 0.00672555, 0.00672555, 0.00672555, 0.00672555,\n",
       "        0.00672555, 0.00672555, 0.00672555, 0.00672555, 0.00672555,\n",
       "        0.00672555, 0.00672555, 0.00672555, 0.00672555, 0.00672555,\n",
       "        0.00672555, 0.00606028, 0.00731899, 0.00689767, 0.        ,\n",
       "        0.00672555, 0.00348666, 0.00387163, 0.00468726, 0.        ,\n",
       "        0.        ])}"
      ]
     },
     "execution_count": 143,
     "metadata": {},
     "output_type": "execute_result"
    }
   ],
   "source": [
    "grid_search.cv_results_"
   ]
  },
  {
   "cell_type": "code",
   "execution_count": 144,
   "metadata": {},
   "outputs": [
    {
     "data": {
      "text/plain": [
       "{'C': 10, 'gamma': 0.1}"
      ]
     },
     "execution_count": 144,
     "metadata": {},
     "output_type": "execute_result"
    }
   ],
   "source": [
    "grid_search.best_params_"
   ]
  },
  {
   "cell_type": "code",
   "execution_count": 145,
   "metadata": {},
   "outputs": [
    {
     "data": {
      "text/plain": [
       "0.7057291666666666"
      ]
     },
     "execution_count": 145,
     "metadata": {},
     "output_type": "execute_result"
    }
   ],
   "source": [
    "grid_search.best_score_"
   ]
  },
  {
   "cell_type": "code",
   "execution_count": 146,
   "metadata": {},
   "outputs": [
    {
     "data": {
      "text/plain": [
       "SVC(C=10, cache_size=200, class_weight=None, coef0=0.0,\n",
       "  decision_function_shape='ovr', degree=3, gamma=0.1, kernel='rbf',\n",
       "  max_iter=-1, probability=False, random_state=None, shrinking=True,\n",
       "  tol=0.001, verbose=False)"
      ]
     },
     "execution_count": 146,
     "metadata": {},
     "output_type": "execute_result"
    }
   ],
   "source": [
    "from sklearn import svm\n",
    "KSVC_clf = svm.SVC(kernel='rbf',C=10,gamma=0.1)\n",
    "KSVC_clf.fit(X_train_pca, y_train)"
   ]
  },
  {
   "cell_type": "code",
   "execution_count": 147,
   "metadata": {},
   "outputs": [
    {
     "name": "stdout",
     "output_type": "stream",
     "text": [
      "Train Recall score: 0.96875\n",
      "Test Recall score: 0.6764705882352942\n"
     ]
    },
    {
     "data": {
      "text/plain": [
       "array([[35,  1,  0,  0,  0,  3,  0,  1,  0,  0,  0],\n",
       "       [ 2,  1,  0,  1,  0,  0,  0,  0,  0,  0,  0],\n",
       "       [ 1,  0,  3,  0,  0,  0,  0,  0,  0,  0,  0],\n",
       "       [ 1,  0,  0,  2,  0,  1,  0,  0,  0,  0,  0],\n",
       "       [ 1,  0,  0,  0,  0,  0,  0,  0,  0,  0,  0],\n",
       "       [ 2,  0,  0,  0,  0,  1,  0,  0,  0,  0,  0],\n",
       "       [ 0,  0,  0,  0,  0,  0,  1,  0,  0,  0,  0],\n",
       "       [ 2,  0,  0,  0,  0,  0,  0,  3,  0,  0,  0],\n",
       "       [ 1,  0,  0,  0,  0,  0,  0,  0,  0,  0,  0],\n",
       "       [ 1,  0,  0,  0,  0,  0,  0,  0,  0,  0,  0],\n",
       "       [ 3,  1,  0,  0,  0,  0,  0,  0,  0,  0,  0]])"
      ]
     },
     "execution_count": 147,
     "metadata": {},
     "output_type": "execute_result"
    }
   ],
   "source": [
    "y_pred_train = KSVC_clf.predict(X_train_pca)\n",
    "y_pred_test = KSVC_clf.predict(X_test_pca)\n",
    "\n",
    "kscv_pca_train_recall_score = recall_score(y_train, y_pred_train, average='weighted')\n",
    "kscv_pca_test_recall_score = recall_score(y_test, y_pred_test, average='weighted')\n",
    "print('Train Recall score: {}'\n",
    "      .format(kscv_pca_train_recall_score))\n",
    "print('Test Recall score: {}'\n",
    "      .format(kscv_pca_test_recall_score))\n",
    "\n",
    "metrics.confusion_matrix(y_test, y_pred_test)"
   ]
  },
  {
   "cell_type": "markdown",
   "metadata": {},
   "source": [
    "Kernalized SVM still overfits the model after applying PCA."
   ]
  },
  {
   "cell_type": "markdown",
   "metadata": {},
   "source": [
    "### Decision Trees with PCA"
   ]
  },
  {
   "cell_type": "code",
   "execution_count": 148,
   "metadata": {},
   "outputs": [
    {
     "data": {
      "text/plain": [
       "GridSearchCV(cv=StratifiedKFold(n_splits=5, random_state=None, shuffle=False),\n",
       "       error_score='raise',\n",
       "       estimator=DecisionTreeClassifier(class_weight=None, criterion='gini', max_depth=None,\n",
       "            max_features=None, max_leaf_nodes=None,\n",
       "            min_impurity_decrease=0.0, min_impurity_split=None,\n",
       "            min_samples_leaf=1, min_samples_split=2,\n",
       "            min_weight_fraction_leaf=0.0, presort=False, random_state=None,\n",
       "            splitter='best'),\n",
       "       fit_params=None, iid=True, n_jobs=1,\n",
       "       param_grid={'max_depth': [2, 3, 4, 5, 6, 10, 20]},\n",
       "       pre_dispatch='2*n_jobs', refit=True, return_train_score=True,\n",
       "       scoring='recall_weighted', verbose=0)"
      ]
     },
     "execution_count": 148,
     "metadata": {},
     "output_type": "execute_result"
    }
   ],
   "source": [
    "from sklearn.tree import DecisionTreeClassifier\n",
    "\n",
    "dt_clf = DecisionTreeClassifier()\n",
    "param_grid = {'max_depth': [2, 3, 4, 5,6, 10, 20]}\n",
    "\n",
    "grid_search = GridSearchCV(dt_clf, param_grid, scoring = 'recall_weighted',cv=kFold, return_train_score=True)\n",
    "grid_search.fit(X_train_pca,y_train)"
   ]
  },
  {
   "cell_type": "code",
   "execution_count": 149,
   "metadata": {},
   "outputs": [
    {
     "data": {
      "text/plain": [
       "{'mean_fit_time': array([0.0068614 , 0.00923858, 0.01223283, 0.0158246 , 0.01628027,\n",
       "        0.02211089, 0.02723622]),\n",
       " 'mean_score_time': array([0.00060582, 0.0006072 , 0.00062366, 0.00137534, 0.00062566,\n",
       "        0.00059562, 0.00066948]),\n",
       " 'mean_test_score': array([0.546875  , 0.56770833, 0.54947917, 0.52864583, 0.53125   ,\n",
       "        0.46875   , 0.44010417]),\n",
       " 'mean_train_score': array([0.58403044, 0.63489796, 0.69736229, 0.75210961, 0.81007198,\n",
       "        0.95511379, 0.99934853]),\n",
       " 'param_max_depth': masked_array(data=[2, 3, 4, 5, 6, 10, 20],\n",
       "              mask=[False, False, False, False, False, False, False],\n",
       "        fill_value='?',\n",
       "             dtype=object),\n",
       " 'params': [{'max_depth': 2},\n",
       "  {'max_depth': 3},\n",
       "  {'max_depth': 4},\n",
       "  {'max_depth': 5},\n",
       "  {'max_depth': 6},\n",
       "  {'max_depth': 10},\n",
       "  {'max_depth': 20}],\n",
       " 'rank_test_score': array([3, 1, 2, 5, 4, 6, 7], dtype=int32),\n",
       " 'split0_test_score': array([0.52439024, 0.51219512, 0.52439024, 0.5       , 0.51219512,\n",
       "        0.37804878, 0.34146341]),\n",
       " 'split0_train_score': array([0.58609272, 0.65231788, 0.69205298, 0.74503311, 0.80463576,\n",
       "        0.98013245, 1.        ]),\n",
       " 'split1_test_score': array([0.5375, 0.5875, 0.5375, 0.525 , 0.525 , 0.5   , 0.4625]),\n",
       " 'split1_train_score': array([0.58223684, 0.63486842, 0.70723684, 0.79276316, 0.85855263,\n",
       "        0.95394737, 1.        ]),\n",
       " 'split2_test_score': array([0.57142857, 0.57142857, 0.5974026 , 0.57142857, 0.54545455,\n",
       "        0.51948052, 0.4025974 ]),\n",
       " 'split2_train_score': array([0.59283388, 0.64169381, 0.71986971, 0.752443  , 0.80130293,\n",
       "        0.91856678, 0.99674267]),\n",
       " 'split3_test_score': array([0.56164384, 0.56164384, 0.49315068, 0.52054795, 0.53424658,\n",
       "        0.52054795, 0.46575342]),\n",
       " 'split3_train_score': array([0.60450161, 0.63022508, 0.7073955 , 0.73633441, 0.79099678,\n",
       "        0.95176849, 1.        ]),\n",
       " 'split4_test_score': array([0.54166667, 0.61111111, 0.59722222, 0.52777778, 0.54166667,\n",
       "        0.43055556, 0.54166667]),\n",
       " 'split4_train_score': array([0.55448718, 0.61538462, 0.66025641, 0.73397436, 0.79487179,\n",
       "        0.97115385, 1.        ]),\n",
       " 'std_fit_time': array([0.00059988, 0.00023539, 0.00060438, 0.00254876, 0.00026669,\n",
       "        0.00047331, 0.00283111]),\n",
       " 'std_score_time': array([9.33747729e-05, 1.19972305e-04, 9.14766323e-05, 1.54429092e-03,\n",
       "        4.16465872e-05, 2.01704936e-05, 1.47082661e-04]),\n",
       " 'std_test_score': array([0.01713799, 0.03320634, 0.04068668, 0.02361422, 0.01217307,\n",
       "        0.05709498, 0.06725665]),\n",
       " 'std_train_score': array([0.01659424, 0.01226576, 0.02054162, 0.02135717, 0.02470519,\n",
       "        0.02112559, 0.00130293])}"
      ]
     },
     "execution_count": 149,
     "metadata": {},
     "output_type": "execute_result"
    }
   ],
   "source": [
    "grid_search.cv_results_"
   ]
  },
  {
   "cell_type": "code",
   "execution_count": 150,
   "metadata": {},
   "outputs": [
    {
     "data": {
      "text/plain": [
       "{'max_depth': 3}"
      ]
     },
     "execution_count": 150,
     "metadata": {},
     "output_type": "execute_result"
    }
   ],
   "source": [
    "grid_search.best_params_"
   ]
  },
  {
   "cell_type": "code",
   "execution_count": 151,
   "metadata": {},
   "outputs": [
    {
     "data": {
      "text/plain": [
       "0.5677083333333334"
      ]
     },
     "execution_count": 151,
     "metadata": {},
     "output_type": "execute_result"
    }
   ],
   "source": [
    "grid_search.best_score_"
   ]
  },
  {
   "cell_type": "code",
   "execution_count": 152,
   "metadata": {},
   "outputs": [
    {
     "data": {
      "text/plain": [
       "DecisionTreeClassifier(class_weight=None, criterion='gini', max_depth=4,\n",
       "            max_features=None, max_leaf_nodes=None,\n",
       "            min_impurity_decrease=0.0, min_impurity_split=None,\n",
       "            min_samples_leaf=1, min_samples_split=2,\n",
       "            min_weight_fraction_leaf=0.0, presort=False, random_state=None,\n",
       "            splitter='best')"
      ]
     },
     "execution_count": 152,
     "metadata": {},
     "output_type": "execute_result"
    }
   ],
   "source": [
    "dt_clf = DecisionTreeClassifier(max_depth=4)\n",
    "dt_clf.fit(X_train_pca, y_train)"
   ]
  },
  {
   "cell_type": "code",
   "execution_count": 153,
   "metadata": {},
   "outputs": [
    {
     "name": "stdout",
     "output_type": "stream",
     "text": [
      "Train Recall score: 0.6744791666666666\n",
      "Test Recall score: 0.5735294117647058\n"
     ]
    },
    {
     "data": {
      "text/plain": [
       "array([[37,  3,  0,  0,  0,  0,  0,  0,  0,  0,  0],\n",
       "       [ 3,  1,  0,  0,  0,  0,  0,  0,  0,  0,  0],\n",
       "       [ 3,  0,  1,  0,  0,  0,  0,  0,  0,  0,  0],\n",
       "       [ 3,  1,  0,  0,  0,  0,  0,  0,  0,  0,  0],\n",
       "       [ 1,  0,  0,  0,  0,  0,  0,  0,  0,  0,  0],\n",
       "       [ 3,  0,  0,  0,  0,  0,  0,  0,  0,  0,  0],\n",
       "       [ 0,  1,  0,  0,  0,  0,  0,  0,  0,  0,  0],\n",
       "       [ 4,  0,  0,  1,  0,  0,  0,  0,  0,  0,  0],\n",
       "       [ 1,  0,  0,  0,  0,  0,  0,  0,  0,  0,  0],\n",
       "       [ 0,  0,  0,  0,  0,  0,  1,  0,  0,  0,  0],\n",
       "       [ 4,  0,  0,  0,  0,  0,  0,  0,  0,  0,  0]])"
      ]
     },
     "execution_count": 153,
     "metadata": {},
     "output_type": "execute_result"
    }
   ],
   "source": [
    "y_pred_train = dt_clf.predict(X_train_pca)\n",
    "y_pred_test = dt_clf.predict(X_test_pca)\n",
    "\n",
    "dt_pca_train_recall_score = recall_score(y_train, y_pred_train, average='weighted')\n",
    "dt_pca_test_recall_score = recall_score(y_test, y_pred_test, average='weighted')\n",
    "\n",
    "print('Train Recall score: {}'\n",
    "      .format(dt_pca_train_recall_score))\n",
    "print('Test Recall score: {}'\n",
    "      .format(dt_pca_test_recall_score))\n",
    "\n",
    "metrics.confusion_matrix(y_test, y_pred_test)"
   ]
  },
  {
   "cell_type": "markdown",
   "metadata": {},
   "source": [
    "We can see that decision tree performs really bad with PCA. This may be due to information lose due to dimentionality reduction.\n",
    "Also model is also overfitting as there is difference between train and test score.\n",
    "\n"
   ]
  },
  {
   "cell_type": "markdown",
   "metadata": {},
   "source": [
    "### Random Forest with PCA"
   ]
  },
  {
   "cell_type": "code",
   "execution_count": 154,
   "metadata": {},
   "outputs": [
    {
     "data": {
      "text/plain": [
       "GridSearchCV(cv=StratifiedKFold(n_splits=5, random_state=None, shuffle=False),\n",
       "       error_score='raise',\n",
       "       estimator=RandomForestClassifier(bootstrap=True, class_weight=None, criterion='gini',\n",
       "            max_depth=None, max_features='auto', max_leaf_nodes=None,\n",
       "            min_impurity_decrease=0.0, min_impurity_split=None,\n",
       "            min_samples_leaf=1, min_samples_split=2,\n",
       "            min_weight_fraction_leaf=0.0, n_estimators=300, n_jobs=-1,\n",
       "            oob_score=False, random_state=10, verbose=0, warm_start=False),\n",
       "       fit_params=None, iid=True, n_jobs=1,\n",
       "       param_grid={'max_features': [25, 50, 75, 100], 'max_depth': [6, 8, 10, 12, 14], 'max_leaf_nodes': [20, 22, 30, 50]},\n",
       "       pre_dispatch='2*n_jobs', refit=True, return_train_score=True,\n",
       "       scoring='recall_weighted', verbose=0)"
      ]
     },
     "execution_count": 154,
     "metadata": {},
     "output_type": "execute_result"
    }
   ],
   "source": [
    "from sklearn.ensemble import RandomForestClassifier\n",
    "rf_clf = RandomForestClassifier(n_estimators=300, criterion='gini',n_jobs= -1,random_state=10)\n",
    "\n",
    "param_grid = {'max_features': [25,50,75,100],\n",
    "          'max_depth': [6,8,10,12,14],\n",
    "           'max_leaf_nodes':[20,22,30,50]}\n",
    "\n",
    "grid_search = GridSearchCV(rf_clf, param_grid, scoring = 'recall_weighted',cv=kFold, return_train_score=True)\n",
    "grid_search.fit(X_train_pca,y_train)"
   ]
  },
  {
   "cell_type": "code",
   "execution_count": 155,
   "metadata": {},
   "outputs": [
    {
     "data": {
      "text/plain": [
       "{'mean_fit_time': array([0.6353097 , 0.62166672, 0.63830252, 0.65352483, 1.05662494,\n",
       "        1.05628414, 1.0570055 , 1.07727771, 1.44160452, 1.43944349,\n",
       "        1.45781431, 1.47898993, 1.83540931, 1.80207653, 1.89006934,\n",
       "        1.88804822, 0.6855433 , 0.70486917, 0.7159524 , 0.77657566,\n",
       "        1.5430656 , 1.13809981, 1.17758884, 1.19919496, 1.54314647,\n",
       "        1.55906663, 1.63902822, 1.68119435, 1.96041846, 2.00637765,\n",
       "        2.10276361, 2.22479119, 0.90579419, 0.92390423, 0.9343174 ,\n",
       "        1.07585068, 1.80484085, 2.56040602, 3.09507666, 3.09029384,\n",
       "        3.32652159, 3.06917725, 3.33959002, 3.30086489, 6.61946106,\n",
       "        4.32442141, 6.41778646, 6.70542998, 2.41925349, 2.59247108,\n",
       "        3.24539542, 3.57006841, 4.24062943, 4.31252332, 4.56666512,\n",
       "        4.73037047, 5.46374969, 5.33921647, 5.94779272, 6.23084822,\n",
       "        6.53958263, 6.75023851, 7.04946141, 7.56045432, 2.77606144,\n",
       "        2.84284172, 2.92104235, 3.43188548, 4.19826727, 4.07071557,\n",
       "        4.15883479, 4.9189723 , 5.28201847, 5.37291884, 6.21306543,\n",
       "        6.32197304, 6.65600305, 7.17449417, 7.29664197, 7.78352551]),\n",
       " 'mean_score_time': array([0.1038034 , 0.1036015 , 0.10414786, 0.10388947, 0.1043334 ,\n",
       "        0.10454597, 0.1041131 , 0.10447907, 0.10404572, 0.10409679,\n",
       "        0.10415144, 0.10444942, 0.10441127, 0.10376897, 0.10386209,\n",
       "        0.10388165, 0.10403953, 0.10417972, 0.10396266, 0.10446262,\n",
       "        0.10365095, 0.10441709, 0.10395889, 0.10367322, 0.10446491,\n",
       "        0.10415311, 0.1043788 , 0.10467725, 0.10399675, 0.10409055,\n",
       "        0.10364819, 0.10406947, 0.16448226, 0.10411386, 0.1034739 ,\n",
       "        0.10391321, 0.12421794, 0.20544596, 0.22674613, 0.247439  ,\n",
       "        0.20428514, 0.2052402 , 0.20398817, 0.20604649, 0.24824181,\n",
       "        0.18827953, 0.29149132, 0.25091176, 0.31119747, 0.27271576,\n",
       "        0.30576401, 0.27680178, 0.29700599, 0.25741787, 0.29279766,\n",
       "        0.25254278, 0.29856219, 0.2724946 , 0.25261083, 0.29531107,\n",
       "        0.27752576, 0.31932135, 0.29830751, 0.25643163, 0.26918383,\n",
       "        0.29533944, 0.29576068, 0.2745223 , 0.33903842, 0.29158134,\n",
       "        0.27322044, 0.29436703, 0.27250037, 0.29421573, 0.2969193 ,\n",
       "        0.25374289, 0.27615089, 0.34546475, 0.2616221 , 0.30037255]),\n",
       " 'mean_test_score': array([0.58333333, 0.58072917, 0.578125  , 0.58333333, 0.60416667,\n",
       "        0.60416667, 0.60677083, 0.6015625 , 0.61458333, 0.61197917,\n",
       "        0.61458333, 0.6171875 , 0.61197917, 0.61197917, 0.6171875 ,\n",
       "        0.609375  , 0.59114583, 0.59375   , 0.59375   , 0.59635417,\n",
       "        0.60677083, 0.61458333, 0.61458333, 0.6171875 , 0.61197917,\n",
       "        0.61197917, 0.6171875 , 0.62760417, 0.61979167, 0.61458333,\n",
       "        0.6171875 , 0.61197917, 0.59114583, 0.59375   , 0.59635417,\n",
       "        0.61197917, 0.61197917, 0.61458333, 0.61979167, 0.61979167,\n",
       "        0.609375  , 0.61458333, 0.625     , 0.62239583, 0.6171875 ,\n",
       "        0.6171875 , 0.6171875 , 0.6171875 , 0.59114583, 0.59375   ,\n",
       "        0.59635417, 0.63020833, 0.609375  , 0.61458333, 0.61979167,\n",
       "        0.625     , 0.609375  , 0.61458333, 0.62239583, 0.62760417,\n",
       "        0.6171875 , 0.6171875 , 0.6171875 , 0.62239583, 0.59114583,\n",
       "        0.59375   , 0.59635417, 0.625     , 0.609375  , 0.61458333,\n",
       "        0.6171875 , 0.625     , 0.609375  , 0.61458333, 0.62239583,\n",
       "        0.62760417, 0.6171875 , 0.6171875 , 0.6171875 , 0.625     ]),\n",
       " 'mean_train_score': array([0.81053762, 0.83921143, 0.88877244, 0.91215705, 0.83337669,\n",
       "        0.84961952, 0.90768321, 0.92073169, 0.84055695, 0.86004285,\n",
       "        0.91024672, 0.92263319, 0.84704888, 0.86267559, 0.91224589,\n",
       "        0.92592496, 0.82159716, 0.84763722, 0.91473974, 0.94928329,\n",
       "        0.84304012, 0.86328078, 0.92523688, 0.95577799, 0.84961515,\n",
       "        0.87434045, 0.93044287, 0.95711524, 0.85354955, 0.87440174,\n",
       "        0.93437165, 0.95647421, 0.82288965, 0.84958967, 0.92129996,\n",
       "        0.96558761, 0.84434111, 0.86454803, 0.93040283, 0.97144151,\n",
       "        0.85155073, 0.87500913, 0.9369479 , 0.9714375 , 0.85355793,\n",
       "        0.8776679 , 0.93825118, 0.97664968, 0.82353274, 0.84958967,\n",
       "        0.92129996, 0.97205694, 0.84368964, 0.86454803, 0.93040283,\n",
       "        0.98512001, 0.85089926, 0.87500913, 0.93892386, 0.98315884,\n",
       "        0.85355793, 0.87831099, 0.93892193, 0.98706603, 0.82353274,\n",
       "        0.84958967, 0.92195785, 0.9766413 , 0.84368964, 0.86454803,\n",
       "        0.93169738, 0.98899759, 0.85089926, 0.87500913, 0.93892386,\n",
       "        0.99028136, 0.85355793, 0.87831099, 0.93957339, 0.99095405]),\n",
       " 'param_max_depth': masked_array(data=[6, 6, 6, 6, 6, 6, 6, 6, 6, 6, 6, 6, 6, 6, 6, 6, 8, 8,\n",
       "                    8, 8, 8, 8, 8, 8, 8, 8, 8, 8, 8, 8, 8, 8, 10, 10, 10,\n",
       "                    10, 10, 10, 10, 10, 10, 10, 10, 10, 10, 10, 10, 10, 12,\n",
       "                    12, 12, 12, 12, 12, 12, 12, 12, 12, 12, 12, 12, 12, 12,\n",
       "                    12, 14, 14, 14, 14, 14, 14, 14, 14, 14, 14, 14, 14, 14,\n",
       "                    14, 14, 14],\n",
       "              mask=[False, False, False, False, False, False, False, False,\n",
       "                    False, False, False, False, False, False, False, False,\n",
       "                    False, False, False, False, False, False, False, False,\n",
       "                    False, False, False, False, False, False, False, False,\n",
       "                    False, False, False, False, False, False, False, False,\n",
       "                    False, False, False, False, False, False, False, False,\n",
       "                    False, False, False, False, False, False, False, False,\n",
       "                    False, False, False, False, False, False, False, False,\n",
       "                    False, False, False, False, False, False, False, False,\n",
       "                    False, False, False, False, False, False, False, False],\n",
       "        fill_value='?',\n",
       "             dtype=object),\n",
       " 'param_max_features': masked_array(data=[25, 25, 25, 25, 50, 50, 50, 50, 75, 75, 75, 75, 100,\n",
       "                    100, 100, 100, 25, 25, 25, 25, 50, 50, 50, 50, 75, 75,\n",
       "                    75, 75, 100, 100, 100, 100, 25, 25, 25, 25, 50, 50, 50,\n",
       "                    50, 75, 75, 75, 75, 100, 100, 100, 100, 25, 25, 25, 25,\n",
       "                    50, 50, 50, 50, 75, 75, 75, 75, 100, 100, 100, 100, 25,\n",
       "                    25, 25, 25, 50, 50, 50, 50, 75, 75, 75, 75, 100, 100,\n",
       "                    100, 100],\n",
       "              mask=[False, False, False, False, False, False, False, False,\n",
       "                    False, False, False, False, False, False, False, False,\n",
       "                    False, False, False, False, False, False, False, False,\n",
       "                    False, False, False, False, False, False, False, False,\n",
       "                    False, False, False, False, False, False, False, False,\n",
       "                    False, False, False, False, False, False, False, False,\n",
       "                    False, False, False, False, False, False, False, False,\n",
       "                    False, False, False, False, False, False, False, False,\n",
       "                    False, False, False, False, False, False, False, False,\n",
       "                    False, False, False, False, False, False, False, False],\n",
       "        fill_value='?',\n",
       "             dtype=object),\n",
       " 'param_max_leaf_nodes': masked_array(data=[20, 22, 30, 50, 20, 22, 30, 50, 20, 22, 30, 50, 20, 22,\n",
       "                    30, 50, 20, 22, 30, 50, 20, 22, 30, 50, 20, 22, 30, 50,\n",
       "                    20, 22, 30, 50, 20, 22, 30, 50, 20, 22, 30, 50, 20, 22,\n",
       "                    30, 50, 20, 22, 30, 50, 20, 22, 30, 50, 20, 22, 30, 50,\n",
       "                    20, 22, 30, 50, 20, 22, 30, 50, 20, 22, 30, 50, 20, 22,\n",
       "                    30, 50, 20, 22, 30, 50, 20, 22, 30, 50],\n",
       "              mask=[False, False, False, False, False, False, False, False,\n",
       "                    False, False, False, False, False, False, False, False,\n",
       "                    False, False, False, False, False, False, False, False,\n",
       "                    False, False, False, False, False, False, False, False,\n",
       "                    False, False, False, False, False, False, False, False,\n",
       "                    False, False, False, False, False, False, False, False,\n",
       "                    False, False, False, False, False, False, False, False,\n",
       "                    False, False, False, False, False, False, False, False,\n",
       "                    False, False, False, False, False, False, False, False,\n",
       "                    False, False, False, False, False, False, False, False],\n",
       "        fill_value='?',\n",
       "             dtype=object),\n",
       " 'params': [{'max_depth': 6, 'max_features': 25, 'max_leaf_nodes': 20},\n",
       "  {'max_depth': 6, 'max_features': 25, 'max_leaf_nodes': 22},\n",
       "  {'max_depth': 6, 'max_features': 25, 'max_leaf_nodes': 30},\n",
       "  {'max_depth': 6, 'max_features': 25, 'max_leaf_nodes': 50},\n",
       "  {'max_depth': 6, 'max_features': 50, 'max_leaf_nodes': 20},\n",
       "  {'max_depth': 6, 'max_features': 50, 'max_leaf_nodes': 22},\n",
       "  {'max_depth': 6, 'max_features': 50, 'max_leaf_nodes': 30},\n",
       "  {'max_depth': 6, 'max_features': 50, 'max_leaf_nodes': 50},\n",
       "  {'max_depth': 6, 'max_features': 75, 'max_leaf_nodes': 20},\n",
       "  {'max_depth': 6, 'max_features': 75, 'max_leaf_nodes': 22},\n",
       "  {'max_depth': 6, 'max_features': 75, 'max_leaf_nodes': 30},\n",
       "  {'max_depth': 6, 'max_features': 75, 'max_leaf_nodes': 50},\n",
       "  {'max_depth': 6, 'max_features': 100, 'max_leaf_nodes': 20},\n",
       "  {'max_depth': 6, 'max_features': 100, 'max_leaf_nodes': 22},\n",
       "  {'max_depth': 6, 'max_features': 100, 'max_leaf_nodes': 30},\n",
       "  {'max_depth': 6, 'max_features': 100, 'max_leaf_nodes': 50},\n",
       "  {'max_depth': 8, 'max_features': 25, 'max_leaf_nodes': 20},\n",
       "  {'max_depth': 8, 'max_features': 25, 'max_leaf_nodes': 22},\n",
       "  {'max_depth': 8, 'max_features': 25, 'max_leaf_nodes': 30},\n",
       "  {'max_depth': 8, 'max_features': 25, 'max_leaf_nodes': 50},\n",
       "  {'max_depth': 8, 'max_features': 50, 'max_leaf_nodes': 20},\n",
       "  {'max_depth': 8, 'max_features': 50, 'max_leaf_nodes': 22},\n",
       "  {'max_depth': 8, 'max_features': 50, 'max_leaf_nodes': 30},\n",
       "  {'max_depth': 8, 'max_features': 50, 'max_leaf_nodes': 50},\n",
       "  {'max_depth': 8, 'max_features': 75, 'max_leaf_nodes': 20},\n",
       "  {'max_depth': 8, 'max_features': 75, 'max_leaf_nodes': 22},\n",
       "  {'max_depth': 8, 'max_features': 75, 'max_leaf_nodes': 30},\n",
       "  {'max_depth': 8, 'max_features': 75, 'max_leaf_nodes': 50},\n",
       "  {'max_depth': 8, 'max_features': 100, 'max_leaf_nodes': 20},\n",
       "  {'max_depth': 8, 'max_features': 100, 'max_leaf_nodes': 22},\n",
       "  {'max_depth': 8, 'max_features': 100, 'max_leaf_nodes': 30},\n",
       "  {'max_depth': 8, 'max_features': 100, 'max_leaf_nodes': 50},\n",
       "  {'max_depth': 10, 'max_features': 25, 'max_leaf_nodes': 20},\n",
       "  {'max_depth': 10, 'max_features': 25, 'max_leaf_nodes': 22},\n",
       "  {'max_depth': 10, 'max_features': 25, 'max_leaf_nodes': 30},\n",
       "  {'max_depth': 10, 'max_features': 25, 'max_leaf_nodes': 50},\n",
       "  {'max_depth': 10, 'max_features': 50, 'max_leaf_nodes': 20},\n",
       "  {'max_depth': 10, 'max_features': 50, 'max_leaf_nodes': 22},\n",
       "  {'max_depth': 10, 'max_features': 50, 'max_leaf_nodes': 30},\n",
       "  {'max_depth': 10, 'max_features': 50, 'max_leaf_nodes': 50},\n",
       "  {'max_depth': 10, 'max_features': 75, 'max_leaf_nodes': 20},\n",
       "  {'max_depth': 10, 'max_features': 75, 'max_leaf_nodes': 22},\n",
       "  {'max_depth': 10, 'max_features': 75, 'max_leaf_nodes': 30},\n",
       "  {'max_depth': 10, 'max_features': 75, 'max_leaf_nodes': 50},\n",
       "  {'max_depth': 10, 'max_features': 100, 'max_leaf_nodes': 20},\n",
       "  {'max_depth': 10, 'max_features': 100, 'max_leaf_nodes': 22},\n",
       "  {'max_depth': 10, 'max_features': 100, 'max_leaf_nodes': 30},\n",
       "  {'max_depth': 10, 'max_features': 100, 'max_leaf_nodes': 50},\n",
       "  {'max_depth': 12, 'max_features': 25, 'max_leaf_nodes': 20},\n",
       "  {'max_depth': 12, 'max_features': 25, 'max_leaf_nodes': 22},\n",
       "  {'max_depth': 12, 'max_features': 25, 'max_leaf_nodes': 30},\n",
       "  {'max_depth': 12, 'max_features': 25, 'max_leaf_nodes': 50},\n",
       "  {'max_depth': 12, 'max_features': 50, 'max_leaf_nodes': 20},\n",
       "  {'max_depth': 12, 'max_features': 50, 'max_leaf_nodes': 22},\n",
       "  {'max_depth': 12, 'max_features': 50, 'max_leaf_nodes': 30},\n",
       "  {'max_depth': 12, 'max_features': 50, 'max_leaf_nodes': 50},\n",
       "  {'max_depth': 12, 'max_features': 75, 'max_leaf_nodes': 20},\n",
       "  {'max_depth': 12, 'max_features': 75, 'max_leaf_nodes': 22},\n",
       "  {'max_depth': 12, 'max_features': 75, 'max_leaf_nodes': 30},\n",
       "  {'max_depth': 12, 'max_features': 75, 'max_leaf_nodes': 50},\n",
       "  {'max_depth': 12, 'max_features': 100, 'max_leaf_nodes': 20},\n",
       "  {'max_depth': 12, 'max_features': 100, 'max_leaf_nodes': 22},\n",
       "  {'max_depth': 12, 'max_features': 100, 'max_leaf_nodes': 30},\n",
       "  {'max_depth': 12, 'max_features': 100, 'max_leaf_nodes': 50},\n",
       "  {'max_depth': 14, 'max_features': 25, 'max_leaf_nodes': 20},\n",
       "  {'max_depth': 14, 'max_features': 25, 'max_leaf_nodes': 22},\n",
       "  {'max_depth': 14, 'max_features': 25, 'max_leaf_nodes': 30},\n",
       "  {'max_depth': 14, 'max_features': 25, 'max_leaf_nodes': 50},\n",
       "  {'max_depth': 14, 'max_features': 50, 'max_leaf_nodes': 20},\n",
       "  {'max_depth': 14, 'max_features': 50, 'max_leaf_nodes': 22},\n",
       "  {'max_depth': 14, 'max_features': 50, 'max_leaf_nodes': 30},\n",
       "  {'max_depth': 14, 'max_features': 50, 'max_leaf_nodes': 50},\n",
       "  {'max_depth': 14, 'max_features': 75, 'max_leaf_nodes': 20},\n",
       "  {'max_depth': 14, 'max_features': 75, 'max_leaf_nodes': 22},\n",
       "  {'max_depth': 14, 'max_features': 75, 'max_leaf_nodes': 30},\n",
       "  {'max_depth': 14, 'max_features': 75, 'max_leaf_nodes': 50},\n",
       "  {'max_depth': 14, 'max_features': 100, 'max_leaf_nodes': 20},\n",
       "  {'max_depth': 14, 'max_features': 100, 'max_leaf_nodes': 22},\n",
       "  {'max_depth': 14, 'max_features': 100, 'max_leaf_nodes': 30},\n",
       "  {'max_depth': 14, 'max_features': 100, 'max_leaf_nodes': 50}],\n",
       " 'rank_test_score': array([77, 79, 80, 77, 61, 61, 59, 63, 34, 45, 34, 18, 45, 45, 18, 53, 73,\n",
       "        68, 68, 64, 59, 34, 34, 18, 45, 45, 18,  2, 14, 34, 18, 45, 73, 68,\n",
       "        64, 45, 45, 34, 14, 14, 53, 34,  5, 10, 18, 18, 18, 18, 73, 68, 64,\n",
       "         1, 53, 34, 14,  5, 53, 34, 10,  2, 18, 18, 18, 10, 73, 68, 64,  5,\n",
       "        53, 34, 18,  5, 53, 34, 10,  2, 18, 18, 18,  5], dtype=int32),\n",
       " 'split0_test_score': array([0.53658537, 0.53658537, 0.53658537, 0.53658537, 0.54878049,\n",
       "        0.54878049, 0.54878049, 0.53658537, 0.56097561, 0.56097561,\n",
       "        0.56097561, 0.56097561, 0.54878049, 0.56097561, 0.54878049,\n",
       "        0.54878049, 0.53658537, 0.52439024, 0.52439024, 0.53658537,\n",
       "        0.54878049, 0.54878049, 0.56097561, 0.56097561, 0.56097561,\n",
       "        0.57317073, 0.57317073, 0.57317073, 0.56097561, 0.56097561,\n",
       "        0.56097561, 0.56097561, 0.53658537, 0.52439024, 0.52439024,\n",
       "        0.56097561, 0.54878049, 0.54878049, 0.57317073, 0.57317073,\n",
       "        0.56097561, 0.57317073, 0.57317073, 0.57317073, 0.56097561,\n",
       "        0.56097561, 0.56097561, 0.57317073, 0.53658537, 0.52439024,\n",
       "        0.52439024, 0.58536585, 0.54878049, 0.54878049, 0.57317073,\n",
       "        0.58536585, 0.56097561, 0.57317073, 0.57317073, 0.58536585,\n",
       "        0.56097561, 0.56097561, 0.56097561, 0.58536585, 0.53658537,\n",
       "        0.52439024, 0.52439024, 0.58536585, 0.54878049, 0.54878049,\n",
       "        0.57317073, 0.58536585, 0.56097561, 0.57317073, 0.57317073,\n",
       "        0.58536585, 0.56097561, 0.56097561, 0.56097561, 0.58536585]),\n",
       " 'split0_train_score': array([0.81125828, 0.84437086, 0.89735099, 0.9205298 , 0.83774834,\n",
       "        0.85430464, 0.92384106, 0.94370861, 0.85099338, 0.87417219,\n",
       "        0.9205298 , 0.94039735, 0.85430464, 0.86423841, 0.92384106,\n",
       "        0.94370861, 0.81788079, 0.85099338, 0.91721854, 0.95364238,\n",
       "        0.8410596 , 0.86754967, 0.93377483, 0.9602649 , 0.85430464,\n",
       "        0.87748344, 0.93708609, 0.96688742, 0.85430464, 0.87748344,\n",
       "        0.94370861, 0.96688742, 0.81788079, 0.85099338, 0.93046358,\n",
       "        0.97682119, 0.8410596 , 0.86423841, 0.93377483, 0.98675497,\n",
       "        0.85430464, 0.8807947 , 0.94370861, 0.98675497, 0.85430464,\n",
       "        0.8807947 , 0.94370861, 0.99006623, 0.81788079, 0.85099338,\n",
       "        0.93046358, 0.98344371, 0.8410596 , 0.86423841, 0.93377483,\n",
       "        0.99668874, 0.85430464, 0.8807947 , 0.95033113, 0.99337748,\n",
       "        0.85430464, 0.8807947 , 0.94701987, 0.99668874, 0.81788079,\n",
       "        0.85099338, 0.93046358, 0.99006623, 0.8410596 , 0.86423841,\n",
       "        0.93377483, 0.99668874, 0.85430464, 0.8807947 , 0.95033113,\n",
       "        0.99337748, 0.85430464, 0.8807947 , 0.94701987, 0.99668874]),\n",
       " 'split1_test_score': array([0.575 , 0.575 , 0.575 , 0.575 , 0.575 , 0.5875, 0.6   , 0.5875,\n",
       "        0.6125, 0.6125, 0.6125, 0.6125, 0.6   , 0.5875, 0.6125, 0.6   ,\n",
       "        0.5875, 0.5875, 0.6   , 0.6   , 0.5875, 0.6   , 0.6   , 0.6125,\n",
       "        0.6125, 0.6125, 0.6125, 0.6375, 0.6   , 0.6   , 0.6   , 0.6   ,\n",
       "        0.5875, 0.5875, 0.6125, 0.625 , 0.6   , 0.6   , 0.6   , 0.6   ,\n",
       "        0.6125, 0.6125, 0.625 , 0.625 , 0.6   , 0.6   , 0.6   , 0.6   ,\n",
       "        0.5875, 0.5875, 0.6125, 0.6375, 0.5875, 0.6   , 0.6   , 0.6125,\n",
       "        0.6125, 0.6125, 0.625 , 0.625 , 0.6   , 0.6   , 0.6   , 0.6125,\n",
       "        0.5875, 0.5875, 0.6125, 0.625 , 0.5875, 0.6   , 0.6   , 0.6125,\n",
       "        0.6125, 0.6125, 0.625 , 0.625 , 0.6   , 0.6   , 0.6   , 0.6125]),\n",
       " 'split1_train_score': array([0.80592105, 0.84539474, 0.89802632, 0.91118421, 0.84210526,\n",
       "        0.85197368, 0.91776316, 0.92763158, 0.84539474, 0.85197368,\n",
       "        0.91447368, 0.92105263, 0.84539474, 0.86513158, 0.92434211,\n",
       "        0.93421053, 0.82236842, 0.84539474, 0.91447368, 0.95065789,\n",
       "        0.83881579, 0.85526316, 0.93421053, 0.95723684, 0.84868421,\n",
       "        0.86513158, 0.9375    , 0.96052632, 0.85855263, 0.87828947,\n",
       "        0.94736842, 0.96052632, 0.82236842, 0.84868421, 0.92105263,\n",
       "        0.96710526, 0.84210526, 0.85855263, 0.9375    , 0.97039474,\n",
       "        0.84868421, 0.86842105, 0.94078947, 0.97368421, 0.85855263,\n",
       "        0.88157895, 0.94736842, 0.97697368, 0.82236842, 0.84868421,\n",
       "        0.92105263, 0.96710526, 0.84210526, 0.85855263, 0.9375    ,\n",
       "        0.99013158, 0.84868421, 0.86842105, 0.94078947, 0.98684211,\n",
       "        0.85855263, 0.88157895, 0.95065789, 0.99013158, 0.82236842,\n",
       "        0.84868421, 0.92434211, 0.97697368, 0.84210526, 0.85855263,\n",
       "        0.9375    , 0.99342105, 0.84868421, 0.86842105, 0.94078947,\n",
       "        0.99342105, 0.85855263, 0.88157895, 0.95065789, 0.99342105]),\n",
       " 'split2_test_score': array([0.55844156, 0.55844156, 0.55844156, 0.55844156, 0.61038961,\n",
       "        0.5974026 , 0.5974026 , 0.5974026 , 0.62337662, 0.62337662,\n",
       "        0.62337662, 0.62337662, 0.63636364, 0.63636364, 0.63636364,\n",
       "        0.63636364, 0.57142857, 0.57142857, 0.57142857, 0.57142857,\n",
       "        0.5974026 , 0.62337662, 0.61038961, 0.5974026 , 0.61038961,\n",
       "        0.62337662, 0.62337662, 0.63636364, 0.63636364, 0.63636364,\n",
       "        0.64935065, 0.63636364, 0.57142857, 0.57142857, 0.57142857,\n",
       "        0.58441558, 0.61038961, 0.62337662, 0.61038961, 0.61038961,\n",
       "        0.61038961, 0.62337662, 0.63636364, 0.63636364, 0.63636364,\n",
       "        0.64935065, 0.64935065, 0.64935065, 0.57142857, 0.57142857,\n",
       "        0.57142857, 0.62337662, 0.61038961, 0.62337662, 0.61038961,\n",
       "        0.61038961, 0.61038961, 0.62337662, 0.63636364, 0.63636364,\n",
       "        0.63636364, 0.64935065, 0.64935065, 0.64935065, 0.57142857,\n",
       "        0.57142857, 0.57142857, 0.62337662, 0.61038961, 0.62337662,\n",
       "        0.5974026 , 0.61038961, 0.61038961, 0.62337662, 0.63636364,\n",
       "        0.63636364, 0.63636364, 0.64935065, 0.64935065, 0.64935065]),\n",
       " 'split2_train_score': array([0.81433225, 0.82410423, 0.88925081, 0.91205212, 0.82410423,\n",
       "        0.84039088, 0.90228013, 0.91530945, 0.83387622, 0.85016287,\n",
       "        0.91205212, 0.92508143, 0.85016287, 0.87296417, 0.91530945,\n",
       "        0.92508143, 0.82084691, 0.83713355, 0.91856678, 0.96091205,\n",
       "        0.83387622, 0.86644951, 0.92833876, 0.96091205, 0.84364821,\n",
       "        0.87947883, 0.94136808, 0.96091205, 0.85667752, 0.87947883,\n",
       "        0.93811075, 0.96091205, 0.82410423, 0.84039088, 0.92833876,\n",
       "        0.97068404, 0.83387622, 0.86319218, 0.93485342, 0.97068404,\n",
       "        0.84690554, 0.8762215 , 0.95114007, 0.96416938, 0.85993485,\n",
       "        0.88599349, 0.94788274, 0.9771987 , 0.82410423, 0.84039088,\n",
       "        0.92833876, 0.97394137, 0.83061889, 0.86319218, 0.93485342,\n",
       "        0.98371336, 0.84364821, 0.8762215 , 0.95439739, 0.98371336,\n",
       "        0.85993485, 0.88599349, 0.94462541, 0.99022801, 0.82410423,\n",
       "        0.84039088, 0.92833876, 0.97394137, 0.83061889, 0.86319218,\n",
       "        0.93811075, 0.98697068, 0.84364821, 0.8762215 , 0.95439739,\n",
       "        0.99348534, 0.85993485, 0.88599349, 0.94788274, 0.99674267]),\n",
       " 'split3_test_score': array([0.61643836, 0.60273973, 0.60273973, 0.61643836, 0.63013699,\n",
       "        0.63013699, 0.63013699, 0.63013699, 0.63013699, 0.61643836,\n",
       "        0.63013699, 0.64383562, 0.61643836, 0.61643836, 0.61643836,\n",
       "        0.60273973, 0.63013699, 0.64383562, 0.64383562, 0.63013699,\n",
       "        0.64383562, 0.64383562, 0.64383562, 0.64383562, 0.63013699,\n",
       "        0.60273973, 0.63013699, 0.63013699, 0.61643836, 0.60273973,\n",
       "        0.60273973, 0.5890411 , 0.63013699, 0.64383562, 0.63013699,\n",
       "        0.64383562, 0.64383562, 0.64383562, 0.64383562, 0.64383562,\n",
       "        0.61643836, 0.61643836, 0.64383562, 0.63013699, 0.60273973,\n",
       "        0.60273973, 0.60273973, 0.5890411 , 0.61643836, 0.64383562,\n",
       "        0.63013699, 0.64383562, 0.64383562, 0.64383562, 0.64383562,\n",
       "        0.64383562, 0.61643836, 0.61643836, 0.63013699, 0.63013699,\n",
       "        0.60273973, 0.60273973, 0.60273973, 0.5890411 , 0.61643836,\n",
       "        0.64383562, 0.63013699, 0.64383562, 0.64383562, 0.64383562,\n",
       "        0.64383562, 0.64383562, 0.61643836, 0.61643836, 0.63013699,\n",
       "        0.63013699, 0.60273973, 0.60273973, 0.60273973, 0.60273973]),\n",
       " 'split3_train_score': array([0.80707395, 0.84244373, 0.88102894, 0.90996785, 0.83279743,\n",
       "        0.84565916, 0.89389068, 0.90675241, 0.82636656, 0.8585209 ,\n",
       "        0.90353698, 0.90996785, 0.8392283 , 0.84565916, 0.89389068,\n",
       "        0.90675241, 0.82958199, 0.85530547, 0.91318328, 0.93569132,\n",
       "        0.85209003, 0.8681672 , 0.91639871, 0.94855305, 0.8488746 ,\n",
       "        0.8778135 , 0.91318328, 0.94212219, 0.84244373, 0.8681672 ,\n",
       "        0.91318328, 0.94212219, 0.82958199, 0.8585209 , 0.91318328,\n",
       "        0.95819936, 0.85530547, 0.8681672 , 0.91639871, 0.96463023,\n",
       "        0.85209003, 0.8778135 , 0.91961415, 0.96463023, 0.8392283 ,\n",
       "        0.87138264, 0.91639871, 0.97106109, 0.83279743, 0.8585209 ,\n",
       "        0.91318328, 0.96784566, 0.85530547, 0.8681672 , 0.91639871,\n",
       "        0.9807074 , 0.85209003, 0.8778135 , 0.91961415, 0.9807074 ,\n",
       "        0.8392283 , 0.87459807, 0.91961415, 0.98392283, 0.83279743,\n",
       "        0.8585209 , 0.91318328, 0.97427653, 0.85530547, 0.8681672 ,\n",
       "        0.91961415, 0.98713826, 0.85209003, 0.8778135 , 0.91961415,\n",
       "        0.9903537 , 0.8392283 , 0.87459807, 0.91961415, 0.9903537 ]),\n",
       " 'split4_test_score': array([0.63888889, 0.63888889, 0.625     , 0.63888889, 0.66666667,\n",
       "        0.66666667, 0.66666667, 0.66666667, 0.65277778, 0.65277778,\n",
       "        0.65277778, 0.65277778, 0.66666667, 0.66666667, 0.68055556,\n",
       "        0.66666667, 0.63888889, 0.65277778, 0.63888889, 0.65277778,\n",
       "        0.66666667, 0.66666667, 0.66666667, 0.68055556, 0.65277778,\n",
       "        0.65277778, 0.65277778, 0.66666667, 0.69444444, 0.68055556,\n",
       "        0.68055556, 0.68055556, 0.63888889, 0.65277778, 0.65277778,\n",
       "        0.65277778, 0.66666667, 0.66666667, 0.68055556, 0.68055556,\n",
       "        0.65277778, 0.65277778, 0.65277778, 0.65277778, 0.69444444,\n",
       "        0.68055556, 0.68055556, 0.68055556, 0.65277778, 0.65277778,\n",
       "        0.65277778, 0.66666667, 0.66666667, 0.66666667, 0.68055556,\n",
       "        0.68055556, 0.65277778, 0.65277778, 0.65277778, 0.66666667,\n",
       "        0.69444444, 0.68055556, 0.68055556, 0.68055556, 0.65277778,\n",
       "        0.65277778, 0.65277778, 0.65277778, 0.66666667, 0.66666667,\n",
       "        0.68055556, 0.68055556, 0.65277778, 0.65277778, 0.65277778,\n",
       "        0.66666667, 0.69444444, 0.68055556, 0.68055556, 0.68055556]),\n",
       " 'split4_train_score': array([0.81410256, 0.83974359, 0.87820513, 0.90705128, 0.83012821,\n",
       "        0.85576923, 0.90064103, 0.91025641, 0.84615385, 0.86538462,\n",
       "        0.90064103, 0.91666667, 0.84615385, 0.86538462, 0.90384615,\n",
       "        0.91987179, 0.81730769, 0.84935897, 0.91025641, 0.94551282,\n",
       "        0.84935897, 0.85897436, 0.91346154, 0.95192308, 0.8525641 ,\n",
       "        0.87179487, 0.92307692, 0.95512821, 0.85576923, 0.86858974,\n",
       "        0.92948718, 0.95192308, 0.82051282, 0.84935897, 0.91346154,\n",
       "        0.95512821, 0.84935897, 0.86858974, 0.92948718, 0.96474359,\n",
       "        0.85576923, 0.87179487, 0.92948718, 0.96794872, 0.85576923,\n",
       "        0.86858974, 0.93589744, 0.96794872, 0.82051282, 0.84935897,\n",
       "        0.91346154, 0.96794872, 0.84935897, 0.86858974, 0.92948718,\n",
       "        0.97435897, 0.85576923, 0.87179487, 0.92948718, 0.97115385,\n",
       "        0.85576923, 0.86858974, 0.93269231, 0.97435897, 0.82051282,\n",
       "        0.84935897, 0.91346154, 0.96794872, 0.84935897, 0.86858974,\n",
       "        0.92948718, 0.98076923, 0.85576923, 0.87179487, 0.92948718,\n",
       "        0.98076923, 0.85576923, 0.86858974, 0.93269231, 0.9775641 ]),\n",
       " 'std_fit_time': array([0.04732847, 0.04077138, 0.05100973, 0.04848085, 0.04930472,\n",
       "        0.05136068, 0.04738864, 0.03881263, 0.04860553, 0.0489615 ,\n",
       "        0.04582779, 0.03686714, 0.04935394, 0.00682619, 0.08276307,\n",
       "        0.04540118, 0.04712904, 0.01196416, 0.04132399, 0.04250932,\n",
       "        0.60664487, 0.05042355, 0.03868744, 0.06240418, 0.04825588,\n",
       "        0.04944736, 0.04854461, 0.03984257, 0.04695515, 0.07505646,\n",
       "        0.06429221, 0.15977106, 0.25583727, 0.09069896, 0.09680064,\n",
       "        0.16168787, 0.35147135, 0.13880519, 0.33592431, 0.2374495 ,\n",
       "        0.10636998, 0.21085481, 0.35236454, 0.06717207, 3.27427753,\n",
       "        0.83869265, 0.64559401, 0.24916045, 0.34604179, 0.30963262,\n",
       "        0.18864829, 0.09373016, 0.29841042, 0.10576734, 0.30608373,\n",
       "        0.25877171, 0.25702478, 0.2206837 , 0.21507332, 0.18888999,\n",
       "        0.2733949 , 0.22956713, 0.2137292 , 0.22890986, 0.12916249,\n",
       "        0.11838256, 0.07146172, 0.11019351, 0.37013761, 0.22970124,\n",
       "        0.2906057 , 0.25638634, 0.17290807, 0.39307867, 0.48900055,\n",
       "        0.27255851, 0.59447534, 0.42361841, 0.51373281, 0.44835301]),\n",
       " 'std_score_time': array([0.00059434, 0.00060874, 0.00069151, 0.00070608, 0.00045797,\n",
       "        0.0010071 , 0.00042354, 0.00037525, 0.00062735, 0.00066914,\n",
       "        0.00073844, 0.00031003, 0.00025588, 0.00040971, 0.00045128,\n",
       "        0.00071781, 0.00059893, 0.00051058, 0.00036195, 0.00059412,\n",
       "        0.00083138, 0.00060356, 0.00079867, 0.00095215, 0.00025792,\n",
       "        0.0002293 , 0.0005651 , 0.00054449, 0.00093654, 0.00061306,\n",
       "        0.00064926, 0.00048441, 0.12238428, 0.00075135, 0.00068209,\n",
       "        0.00088776, 0.04341411, 0.0020667 , 0.04093496, 0.04964329,\n",
       "        0.00200832, 0.00243424, 0.000784  , 0.00344445, 0.08827586,\n",
       "        0.04303415, 0.04435926, 0.05298587, 0.06721127, 0.05389402,\n",
       "        0.05009097, 0.04489836, 0.04323565, 0.04870205, 0.03872607,\n",
       "        0.05003323, 0.04320849, 0.05269093, 0.05011728, 0.03910577,\n",
       "        0.04617643, 0.00727469, 0.0387379 , 0.05172448, 0.04980391,\n",
       "        0.0360326 , 0.03947127, 0.05136633, 0.04203894, 0.04128552,\n",
       "        0.05081294, 0.04256814, 0.05564683, 0.04237328, 0.04067757,\n",
       "        0.05148591, 0.05718597, 0.04238789, 0.05375677, 0.04346955]),\n",
       " 'std_test_score': array([0.03731522, 0.03533971, 0.03123087, 0.03731522, 0.04123953,\n",
       "        0.0397838 , 0.03900917, 0.04354534, 0.03081557, 0.02995802,\n",
       "        0.03081557, 0.03254996, 0.03957989, 0.03693385, 0.04278553,\n",
       "        0.03965141, 0.03785249, 0.04759768, 0.04465727, 0.04128048,\n",
       "        0.04179598, 0.04069088, 0.0365076 , 0.04056747, 0.03050967,\n",
       "        0.02600088, 0.02636985, 0.03091654, 0.04384596, 0.03994787,\n",
       "        0.04166906, 0.04106592, 0.03785249, 0.04759768, 0.04581127,\n",
       "        0.03532972, 0.04045971, 0.04069088, 0.03695491, 0.03695491,\n",
       "        0.0294136 , 0.02562842, 0.0284894 , 0.02724767, 0.04437145,\n",
       "        0.04166906, 0.04166906, 0.03982738, 0.03937304, 0.04759768,\n",
       "        0.04581127, 0.02709917, 0.04153493, 0.04069088, 0.03695491,\n",
       "        0.03251077, 0.0294136 , 0.02562842, 0.02724767, 0.02617431,\n",
       "        0.04437145, 0.04166906, 0.04166906, 0.03611969, 0.03937304,\n",
       "        0.04759768, 0.04581127, 0.02341143, 0.04153493, 0.04069088,\n",
       "        0.03796937, 0.03251077, 0.0294136 , 0.02562842, 0.02724767,\n",
       "        0.02617431, 0.04437145, 0.04166906, 0.04166906, 0.03405585]),\n",
       " 'std_train_score': array([0.00349105, 0.00779502, 0.00813738, 0.00451491, 0.00619945,\n",
       "        0.00576478, 0.01124012, 0.01349148, 0.00905149, 0.00886808,\n",
       "        0.00726854, 0.0101987 , 0.00504067, 0.00906892, 0.01181204,\n",
       "        0.01256859, 0.00440741, 0.00613818, 0.00294565, 0.00842707,\n",
       "        0.00674646, 0.00519555, 0.00871569, 0.00480997, 0.00367987,\n",
       "        0.00528444, 0.01063434, 0.00837003, 0.00572104, 0.00496058,\n",
       "        0.01218918, 0.00861675, 0.00393122, 0.00578322, 0.00722356,\n",
       "        0.00798067, 0.00735768, 0.00366914, 0.00746327, 0.00809231,\n",
       "        0.00333063, 0.00439412, 0.01111759, 0.00837865, 0.00743503,\n",
       "        0.00657732, 0.01173665, 0.00758089, 0.00507112, 0.00578322,\n",
       "        0.00722356, 0.00620227, 0.00833475, 0.00366914, 0.00746327,\n",
       "        0.00769677, 0.00434086, 0.00439412, 0.01292248, 0.00732699,\n",
       "        0.00743503, 0.0060689 , 0.01137926, 0.00752783, 0.00507112,\n",
       "        0.00578322, 0.00732023, 0.00733187, 0.00833475, 0.00366914,\n",
       "        0.00678243, 0.00554963, 0.00434086, 0.00439412, 0.01292248,\n",
       "        0.00490296, 0.00743503, 0.0060689 , 0.01177355, 0.00710116])}"
      ]
     },
     "execution_count": 155,
     "metadata": {},
     "output_type": "execute_result"
    }
   ],
   "source": [
    "grid_search.cv_results_"
   ]
  },
  {
   "cell_type": "code",
   "execution_count": 156,
   "metadata": {},
   "outputs": [
    {
     "data": {
      "text/plain": [
       "{'max_depth': 12, 'max_features': 25, 'max_leaf_nodes': 50}"
      ]
     },
     "execution_count": 156,
     "metadata": {},
     "output_type": "execute_result"
    }
   ],
   "source": [
    "grid_search.best_params_"
   ]
  },
  {
   "cell_type": "code",
   "execution_count": 157,
   "metadata": {},
   "outputs": [
    {
     "data": {
      "text/plain": [
       "0.6302083333333334"
      ]
     },
     "execution_count": 157,
     "metadata": {},
     "output_type": "execute_result"
    }
   ],
   "source": [
    "grid_search.best_score_"
   ]
  },
  {
   "cell_type": "code",
   "execution_count": 158,
   "metadata": {},
   "outputs": [
    {
     "data": {
      "text/plain": [
       "RandomForestClassifier(bootstrap=True, class_weight=None, criterion='gini',\n",
       "            max_depth=12, max_features=50, max_leaf_nodes=50,\n",
       "            min_impurity_decrease=0.0, min_impurity_split=None,\n",
       "            min_samples_leaf=1, min_samples_split=2,\n",
       "            min_weight_fraction_leaf=0.0, n_estimators=300, n_jobs=1,\n",
       "            oob_score=False, random_state=None, verbose=0,\n",
       "            warm_start=False)"
      ]
     },
     "execution_count": 158,
     "metadata": {},
     "output_type": "execute_result"
    }
   ],
   "source": [
    "rf_clf = RandomForestClassifier(n_estimators=300, criterion='gini',max_features=50,max_depth=12,max_leaf_nodes=50)\n",
    "rf_clf.fit(X_train_pca, y_train)"
   ]
  },
  {
   "cell_type": "code",
   "execution_count": 159,
   "metadata": {},
   "outputs": [
    {
     "name": "stdout",
     "output_type": "stream",
     "text": [
      "Train Recall score: 0.9557291666666666\n",
      "Test Recall score: 0.6323529411764706\n"
     ]
    },
    {
     "data": {
      "text/plain": [
       "array([[40,  0,  0,  0,  0,  0,  0,  0,  0,  0,  0],\n",
       "       [ 4,  0,  0,  0,  0,  0,  0,  0,  0,  0,  0],\n",
       "       [ 2,  0,  2,  0,  0,  0,  0,  0,  0,  0,  0],\n",
       "       [ 4,  0,  0,  0,  0,  0,  0,  0,  0,  0,  0],\n",
       "       [ 1,  0,  0,  0,  0,  0,  0,  0,  0,  0,  0],\n",
       "       [ 3,  0,  0,  0,  0,  0,  0,  0,  0,  0,  0],\n",
       "       [ 0,  1,  0,  0,  0,  0,  0,  0,  0,  0,  0],\n",
       "       [ 4,  0,  0,  0,  0,  0,  0,  1,  0,  0,  0],\n",
       "       [ 1,  0,  0,  0,  0,  0,  0,  0,  0,  0,  0],\n",
       "       [ 1,  0,  0,  0,  0,  0,  0,  0,  0,  0,  0],\n",
       "       [ 3,  1,  0,  0,  0,  0,  0,  0,  0,  0,  0]])"
      ]
     },
     "execution_count": 159,
     "metadata": {},
     "output_type": "execute_result"
    }
   ],
   "source": [
    "y_pred_train = rf_clf.predict(X_train_pca)\n",
    "y_pred_test = rf_clf.predict(X_test_pca)\n",
    "\n",
    "rf_pca_train_recall_score = recall_score(y_train, y_pred_train, average='weighted')\n",
    "rf_pca_test_recall_score = recall_score(y_test, y_pred_test, average='weighted')\n",
    "\n",
    "print('Train Recall score: {}'\n",
    "      .format(rf_pca_train_recall_score))\n",
    "print('Test Recall score: {}'\n",
    "      .format(rf_pca_test_recall_score))\n",
    "\n",
    "metrics.confusion_matrix(y_test, y_pred_test)\n"
   ]
  },
  {
   "cell_type": "code",
   "execution_count": 160,
   "metadata": {},
   "outputs": [
    {
     "data": {
      "text/plain": [
       "1     40\n",
       "10     5\n",
       "16     4\n",
       "4      4\n",
       "3      4\n",
       "2      4\n",
       "6      3\n",
       "15     1\n",
       "14     1\n",
       "9      1\n",
       "5      1\n",
       "Name: 279, dtype: int64"
      ]
     },
     "execution_count": 160,
     "metadata": {},
     "output_type": "execute_result"
    }
   ],
   "source": [
    "y_test.value_counts()"
   ]
  },
  {
   "cell_type": "markdown",
   "metadata": {},
   "source": [
    "\n",
    "Random forest is also overfitting the model after applying PCA."
   ]
  },
  {
   "cell_type": "code",
   "execution_count": 161,
   "metadata": {},
   "outputs": [],
   "source": [
    "train_recall_scores= [knn_train_recall_score, lreg_train_recall_score, lsvc_train_recall_score, ksvc_train_recall_score, \n",
    "                      mnb_train_recall_score, dt_train_recall_score, rf_train_recall_score, knn_pca_train_recall_score,\n",
    "                      logreg_pca_train_recall_score, lscvc_pca_train_recall_score, kscv_pca_train_recall_score, \n",
    "                      dt_pca_train_recall_score, rf_pca_train_recall_score]\n",
    "\n",
    "test_recall_scores= [knn_test_recall_score, lreg_test_recall_score, lsvc_test_recall_score, ksvc_test_recall_score,\n",
    "                     mnb_test_recall_score, dt_test_recall_score, rf_test_recall_score, knn_pca_test_recall_score,\n",
    "                     logreg_pca_test_recall_score, lscv_pca_test_recall_score, kscv_pca_test_recall_score, \n",
    "                     dt_pca_test_recall_score, rf_pca_test_recall_score]\n",
    "\n",
    "classifiers = ['KNN Clasification', 'Logistic Regression', 'Linear SVM', 'Kernelized SVM', 'Naive Bayes', 'Decision Tree',\n",
    "               'Random Forest', 'KNN Classification with PCA', 'Logistic Regression with PCA', 'Linear SVM with PCA',\n",
    "               'Kernalised SVM with PCA', 'Decision Trees with PCA', 'Random Forest with PCA']"
   ]
  },
  {
   "cell_type": "code",
   "execution_count": 162,
   "metadata": {},
   "outputs": [],
   "source": [
    "for_plot = pd.DataFrame ([train_recall_scores, test_recall_scores], columns=classifiers, index=['Train Recall Score', 'Test Recall Score'])\n",
    "for_plot=for_plot.T"
   ]
  },
  {
   "cell_type": "code",
   "execution_count": 163,
   "metadata": {},
   "outputs": [
    {
     "data": {
      "text/html": [
       "<div>\n",
       "<style scoped>\n",
       "    .dataframe tbody tr th:only-of-type {\n",
       "        vertical-align: middle;\n",
       "    }\n",
       "\n",
       "    .dataframe tbody tr th {\n",
       "        vertical-align: top;\n",
       "    }\n",
       "\n",
       "    .dataframe thead th {\n",
       "        text-align: right;\n",
       "    }\n",
       "</style>\n",
       "<table border=\"1\" class=\"dataframe\">\n",
       "  <thead>\n",
       "    <tr style=\"text-align: right;\">\n",
       "      <th></th>\n",
       "      <th>Train Recall Score</th>\n",
       "      <th>Test Recall Score</th>\n",
       "    </tr>\n",
       "  </thead>\n",
       "  <tbody>\n",
       "    <tr>\n",
       "      <th>KNN Clasification</th>\n",
       "      <td>0.669271</td>\n",
       "      <td>0.647059</td>\n",
       "    </tr>\n",
       "    <tr>\n",
       "      <th>Logistic Regression</th>\n",
       "      <td>0.841146</td>\n",
       "      <td>0.676471</td>\n",
       "    </tr>\n",
       "    <tr>\n",
       "      <th>Linear SVM</th>\n",
       "      <td>0.783854</td>\n",
       "      <td>0.720588</td>\n",
       "    </tr>\n",
       "    <tr>\n",
       "      <th>Kernelized SVM</th>\n",
       "      <td>0.976562</td>\n",
       "      <td>0.676471</td>\n",
       "    </tr>\n",
       "    <tr>\n",
       "      <th>Naive Bayes</th>\n",
       "      <td>0.760417</td>\n",
       "      <td>0.632353</td>\n",
       "    </tr>\n",
       "    <tr>\n",
       "      <th>Decision Tree</th>\n",
       "      <td>0.846354</td>\n",
       "      <td>0.720588</td>\n",
       "    </tr>\n",
       "    <tr>\n",
       "      <th>Random Forest</th>\n",
       "      <td>0.937500</td>\n",
       "      <td>0.764706</td>\n",
       "    </tr>\n",
       "    <tr>\n",
       "      <th>KNN Classification with PCA</th>\n",
       "      <td>0.677083</td>\n",
       "      <td>0.647059</td>\n",
       "    </tr>\n",
       "    <tr>\n",
       "      <th>Logistic Regression with PCA</th>\n",
       "      <td>0.825521</td>\n",
       "      <td>0.676471</td>\n",
       "    </tr>\n",
       "    <tr>\n",
       "      <th>Linear SVM with PCA</th>\n",
       "      <td>0.776042</td>\n",
       "      <td>0.735294</td>\n",
       "    </tr>\n",
       "    <tr>\n",
       "      <th>Kernalised SVM with PCA</th>\n",
       "      <td>0.968750</td>\n",
       "      <td>0.676471</td>\n",
       "    </tr>\n",
       "    <tr>\n",
       "      <th>Decision Trees with PCA</th>\n",
       "      <td>0.674479</td>\n",
       "      <td>0.573529</td>\n",
       "    </tr>\n",
       "    <tr>\n",
       "      <th>Random Forest with PCA</th>\n",
       "      <td>0.955729</td>\n",
       "      <td>0.632353</td>\n",
       "    </tr>\n",
       "  </tbody>\n",
       "</table>\n",
       "</div>"
      ],
      "text/plain": [
       "                              Train Recall Score  Test Recall Score\n",
       "KNN Clasification                       0.669271           0.647059\n",
       "Logistic Regression                     0.841146           0.676471\n",
       "Linear SVM                              0.783854           0.720588\n",
       "Kernelized SVM                          0.976562           0.676471\n",
       "Naive Bayes                             0.760417           0.632353\n",
       "Decision Tree                           0.846354           0.720588\n",
       "Random Forest                           0.937500           0.764706\n",
       "KNN Classification with PCA             0.677083           0.647059\n",
       "Logistic Regression with PCA            0.825521           0.676471\n",
       "Linear SVM with PCA                     0.776042           0.735294\n",
       "Kernalised SVM with PCA                 0.968750           0.676471\n",
       "Decision Trees with PCA                 0.674479           0.573529\n",
       "Random Forest with PCA                  0.955729           0.632353"
      ]
     },
     "execution_count": 163,
     "metadata": {},
     "output_type": "execute_result"
    }
   ],
   "source": [
    "for_plot"
   ]
  },
  {
   "cell_type": "code",
   "execution_count": 164,
   "metadata": {},
   "outputs": [
    {
     "data": {
      "image/png": "[encoded data removed]",
      "text/plain": [
       "<matplotlib.figure.Figure at 0x7f9059e7d780>"
      ]
     },
     "metadata": {},
     "output_type": "display_data"
    }
   ],
   "source": [
    "for_plot.plot(kind='bar', figsize=(14,3), color='gbmykc',  edgecolor='k')\n",
    "\n",
    "plt.title('Train&Test Scores of Classifiers')\n",
    "plt.xlabel('Models')\n",
    "plt.ylabel('Scores')\n",
    "plt.legend(loc=4 , bbox_to_anchor=(1.2, 0))\n",
    "plt.show();"
   ]
  },
  {
   "cell_type": "markdown",
   "metadata": {},
   "source": [
    "The Results have improved after using PCA. We get the best result using Linear SVC after applying PCA"
   ]
  }
 ],
 "metadata": {
  "kernelspec": {
   "display_name": "Python 3",
   "language": "python",
   "name": "python3"
  },
  "language_info": {
   "codemirror_mode": {
    "name": "ipython",
    "version": 3
   },
   "file_extension": ".py",
   "mimetype": "text/x-python",
   "name": "python",
   "nbconvert_exporter": "python",
   "pygments_lexer": "ipython3",
   "version": "3.6.4"
  }
 },
 "nbformat": 4,
 "nbformat_minor": 2
}
